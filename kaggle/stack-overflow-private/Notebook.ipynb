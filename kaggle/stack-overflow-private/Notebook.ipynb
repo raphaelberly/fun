{
 "cells": [
  {
   "cell_type": "markdown",
   "metadata": {},
   "source": [
    "# Kaggle Competition: Stack Overflow Closed Discussions"
   ]
  },
  {
   "cell_type": "markdown",
   "metadata": {},
   "source": [
    "Currently about 6% of all new questions on Stack Overflow end up \"closed\". Questions can be closed as off-topic, not constructive, not a real question, or too localized. The goal of this project is to build a classifier that predicts whether or not a question will be closed given the question as submitted. Additional data about the user at question creation time is also available.\n",
    "\n",
    "This private competition was hosted on Kaggle by <a href=http://www.dataschool.io>Data School</a> as part of the Machine Learning with Text in Python eight-week training session."
   ]
  },
  {
   "cell_type": "markdown",
   "metadata": {},
   "source": [
    "**The notebook is organized as follow:**\n",
    "* [1) Reading the data](#1-reading-the-data)\n",
    "* [2) Feature Engineering](#2-feature-engineering)\n",
    "* [3) Learning on numerical features only](#3-learning-on-numerical-features-only)\n",
    "* [4) Learning on text features only](#4-learning-on-text-features-only)\n",
    "* [5) Learning on both text and numerical features](#5-learning-on-both-text-and-numerical-features)"
   ]
  },
  {
   "cell_type": "markdown",
   "metadata": {},
   "source": [
    "## 1) Reading the data <a class=\"anchor\" id=\"1-reading-the-data\"></a>"
   ]
  },
  {
   "cell_type": "markdown",
   "metadata": {},
   "source": [
    "Let's load the data, go through it and prepare it a little."
   ]
  },
  {
   "cell_type": "code",
   "execution_count": 1,
   "metadata": {
    "collapsed": true
   },
   "outputs": [],
   "source": [
    "import pandas as pd"
   ]
  },
  {
   "cell_type": "code",
   "execution_count": 2,
   "metadata": {
    "collapsed": false
   },
   "outputs": [],
   "source": [
    "train = pd.read_csv('./data/train.csv', index_col=0)"
   ]
  },
  {
   "cell_type": "code",
   "execution_count": 3,
   "metadata": {
    "collapsed": false
   },
   "outputs": [
    {
     "data": {
      "text/html": [
       "<div>\n",
       "<table border=\"1\" class=\"dataframe\">\n",
       "  <thead>\n",
       "    <tr style=\"text-align: right;\">\n",
       "      <th></th>\n",
       "      <th>PostId</th>\n",
       "      <th>PostCreationDate</th>\n",
       "      <th>OwnerUserId</th>\n",
       "      <th>OwnerCreationDate</th>\n",
       "      <th>ReputationAtPostCreation</th>\n",
       "      <th>OwnerUndeletedAnswerCountAtPostTime</th>\n",
       "      <th>Title</th>\n",
       "      <th>BodyMarkdown</th>\n",
       "      <th>Tag1</th>\n",
       "      <th>Tag2</th>\n",
       "      <th>Tag3</th>\n",
       "      <th>Tag4</th>\n",
       "      <th>Tag5</th>\n",
       "      <th>PostClosedDate</th>\n",
       "      <th>OpenStatus</th>\n",
       "    </tr>\n",
       "  </thead>\n",
       "  <tbody>\n",
       "    <tr>\n",
       "      <th>0</th>\n",
       "      <td>6046168</td>\n",
       "      <td>05/18/2011 14:14:05</td>\n",
       "      <td>543315</td>\n",
       "      <td>09/17/2010 10:15:06</td>\n",
       "      <td>1</td>\n",
       "      <td>2</td>\n",
       "      <td>For Mongodb is it better to reference an objec...</td>\n",
       "      <td>I am building a corpus of indexed sentences in...</td>\n",
       "      <td>mongodb</td>\n",
       "      <td>NaN</td>\n",
       "      <td>NaN</td>\n",
       "      <td>NaN</td>\n",
       "      <td>NaN</td>\n",
       "      <td>NaN</td>\n",
       "      <td>1</td>\n",
       "    </tr>\n",
       "    <tr>\n",
       "      <th>1</th>\n",
       "      <td>4873911</td>\n",
       "      <td>02/02/2011 11:30:10</td>\n",
       "      <td>465076</td>\n",
       "      <td>10/03/2010 09:30:58</td>\n",
       "      <td>192</td>\n",
       "      <td>24</td>\n",
       "      <td>How to insert schemalocation in a xml document...</td>\n",
       "      <td>i create a xml document with JAXP and search a...</td>\n",
       "      <td>dom</td>\n",
       "      <td>xsd</td>\n",
       "      <td>jaxp</td>\n",
       "      <td>NaN</td>\n",
       "      <td>NaN</td>\n",
       "      <td>NaN</td>\n",
       "      <td>1</td>\n",
       "    </tr>\n",
       "    <tr>\n",
       "      <th>2</th>\n",
       "      <td>3311559</td>\n",
       "      <td>07/22/2010 17:21:54</td>\n",
       "      <td>406143</td>\n",
       "      <td>07/22/2010 16:58:20</td>\n",
       "      <td>1</td>\n",
       "      <td>0</td>\n",
       "      <td>Too many lookup tables</td>\n",
       "      <td>What are the adverse effects of having too man...</td>\n",
       "      <td>sql-server</td>\n",
       "      <td>database-design</td>\n",
       "      <td>enums</td>\n",
       "      <td>NaN</td>\n",
       "      <td>NaN</td>\n",
       "      <td>NaN</td>\n",
       "      <td>1</td>\n",
       "    </tr>\n",
       "    <tr>\n",
       "      <th>3</th>\n",
       "      <td>9990413</td>\n",
       "      <td>04/03/2012 09:18:39</td>\n",
       "      <td>851755</td>\n",
       "      <td>07/19/2011 10:22:40</td>\n",
       "      <td>4</td>\n",
       "      <td>1</td>\n",
       "      <td>What is this PHP code in VB.net</td>\n",
       "      <td>I am looking for the vb.net equivalent of this...</td>\n",
       "      <td>php</td>\n",
       "      <td>vb.net</td>\n",
       "      <td>NaN</td>\n",
       "      <td>NaN</td>\n",
       "      <td>NaN</td>\n",
       "      <td>04/15/2012 21:12:48</td>\n",
       "      <td>0</td>\n",
       "    </tr>\n",
       "    <tr>\n",
       "      <th>4</th>\n",
       "      <td>10421966</td>\n",
       "      <td>05/02/2012 21:25:01</td>\n",
       "      <td>603588</td>\n",
       "      <td>02/04/2011 18:05:34</td>\n",
       "      <td>334</td>\n",
       "      <td>14</td>\n",
       "      <td>Spring-Data mongodb querying multiple classes ...</td>\n",
       "      <td>With Spring-Data, you can use the @Document an...</td>\n",
       "      <td>mongodb</td>\n",
       "      <td>spring-data</td>\n",
       "      <td>NaN</td>\n",
       "      <td>NaN</td>\n",
       "      <td>NaN</td>\n",
       "      <td>NaN</td>\n",
       "      <td>1</td>\n",
       "    </tr>\n",
       "  </tbody>\n",
       "</table>\n",
       "</div>"
      ],
      "text/plain": [
       "     PostId     PostCreationDate  OwnerUserId    OwnerCreationDate  \\\n",
       "0   6046168  05/18/2011 14:14:05       543315  09/17/2010 10:15:06   \n",
       "1   4873911  02/02/2011 11:30:10       465076  10/03/2010 09:30:58   \n",
       "2   3311559  07/22/2010 17:21:54       406143  07/22/2010 16:58:20   \n",
       "3   9990413  04/03/2012 09:18:39       851755  07/19/2011 10:22:40   \n",
       "4  10421966  05/02/2012 21:25:01       603588  02/04/2011 18:05:34   \n",
       "\n",
       "   ReputationAtPostCreation  OwnerUndeletedAnswerCountAtPostTime  \\\n",
       "0                         1                                    2   \n",
       "1                       192                                   24   \n",
       "2                         1                                    0   \n",
       "3                         4                                    1   \n",
       "4                       334                                   14   \n",
       "\n",
       "                                               Title  \\\n",
       "0  For Mongodb is it better to reference an objec...   \n",
       "1  How to insert schemalocation in a xml document...   \n",
       "2                            Too many lookup tables    \n",
       "3                    What is this PHP code in VB.net   \n",
       "4  Spring-Data mongodb querying multiple classes ...   \n",
       "\n",
       "                                        BodyMarkdown        Tag1  \\\n",
       "0  I am building a corpus of indexed sentences in...     mongodb   \n",
       "1  i create a xml document with JAXP and search a...         dom   \n",
       "2  What are the adverse effects of having too man...  sql-server   \n",
       "3  I am looking for the vb.net equivalent of this...         php   \n",
       "4  With Spring-Data, you can use the @Document an...     mongodb   \n",
       "\n",
       "              Tag2   Tag3 Tag4 Tag5       PostClosedDate  OpenStatus  \n",
       "0              NaN    NaN  NaN  NaN                  NaN           1  \n",
       "1              xsd   jaxp  NaN  NaN                  NaN           1  \n",
       "2  database-design  enums  NaN  NaN                  NaN           1  \n",
       "3           vb.net    NaN  NaN  NaN  04/15/2012 21:12:48           0  \n",
       "4      spring-data    NaN  NaN  NaN                  NaN           1  "
      ]
     },
     "execution_count": 3,
     "metadata": {},
     "output_type": "execute_result"
    }
   ],
   "source": [
    "train.head()"
   ]
  },
  {
   "cell_type": "code",
   "execution_count": 4,
   "metadata": {
    "collapsed": false
   },
   "outputs": [
    {
     "data": {
      "text/plain": [
       "(140272, 15)"
      ]
     },
     "execution_count": 4,
     "metadata": {},
     "output_type": "execute_result"
    }
   ],
   "source": [
    "# Shape of the train set\n",
    "train.shape"
   ]
  },
  {
   "cell_type": "code",
   "execution_count": 5,
   "metadata": {
    "collapsed": false
   },
   "outputs": [
    {
     "data": {
      "text/plain": [
       "1    70136\n",
       "0    70136\n",
       "Name: OpenStatus, dtype: int64"
      ]
     },
     "execution_count": 5,
     "metadata": {},
     "output_type": "execute_result"
    }
   ],
   "source": [
    "# Balance of the train set\n",
    "train.OpenStatus.value_counts()"
   ]
  },
  {
   "cell_type": "markdown",
   "metadata": {},
   "source": [
    "The dataset is perfectly balanced. That's going to be convenient."
   ]
  },
  {
   "cell_type": "code",
   "execution_count": 6,
   "metadata": {
    "collapsed": false
   },
   "outputs": [
    {
     "data": {
      "text/plain": [
       "PostId                                  int64\n",
       "PostCreationDate                       object\n",
       "OwnerUserId                             int64\n",
       "OwnerCreationDate                      object\n",
       "ReputationAtPostCreation                int64\n",
       "OwnerUndeletedAnswerCountAtPostTime     int64\n",
       "Title                                  object\n",
       "BodyMarkdown                           object\n",
       "Tag1                                   object\n",
       "Tag2                                   object\n",
       "Tag3                                   object\n",
       "Tag4                                   object\n",
       "Tag5                                   object\n",
       "PostClosedDate                         object\n",
       "OpenStatus                              int64\n",
       "dtype: object"
      ]
     },
     "execution_count": 6,
     "metadata": {},
     "output_type": "execute_result"
    }
   ],
   "source": [
    "# Types of the train set\n",
    "train.dtypes"
   ]
  },
  {
   "cell_type": "code",
   "execution_count": 7,
   "metadata": {
    "collapsed": false
   },
   "outputs": [],
   "source": [
    "# Dates columns to datetime format\n",
    "train.PostCreationDate = pd.to_datetime(train.PostCreationDate)\n",
    "train.OwnerCreationDate = pd.to_datetime(train.OwnerCreationDate)\n",
    "# train.PostClosedDate = pd.to_datetime(train.PostClosedDate)  -- will be dropped afterwards"
   ]
  },
  {
   "cell_type": "code",
   "execution_count": 8,
   "metadata": {
    "collapsed": false
   },
   "outputs": [
    {
     "data": {
      "text/plain": [
       "PostId                                      0\n",
       "PostCreationDate                            0\n",
       "OwnerUserId                                 0\n",
       "OwnerCreationDate                           0\n",
       "ReputationAtPostCreation                    0\n",
       "OwnerUndeletedAnswerCountAtPostTime         0\n",
       "Title                                       0\n",
       "BodyMarkdown                                0\n",
       "Tag1                                        2\n",
       "Tag2                                    27228\n",
       "Tag3                                    64328\n",
       "Tag4                                   100609\n",
       "Tag5                                   124555\n",
       "PostClosedDate                          70136\n",
       "OpenStatus                                  0\n",
       "dtype: int64"
      ]
     },
     "execution_count": 8,
     "metadata": {},
     "output_type": "execute_result"
    }
   ],
   "source": [
    "# Missing values\n",
    "train.isnull().sum()"
   ]
  },
  {
   "cell_type": "markdown",
   "metadata": {},
   "source": [
    "PostClosedDate has as many missing values as open posts, which is pretty logical. This column is the only one which we will not use, for two reasons. First, it contains \"future information\", i.e. information which will not be available on the test set. Then, the only other information it contains is the date of closing, which coes not interest us.\n",
    "\n",
    "Other that that, only tags contain missing values, which is also going to be convenient."
   ]
  },
  {
   "cell_type": "code",
   "execution_count": 9,
   "metadata": {
    "collapsed": false
   },
   "outputs": [],
   "source": [
    "# Removing PostClosedDate\n",
    "train = train.drop('PostClosedDate', axis=1)"
   ]
  },
  {
   "cell_type": "code",
   "execution_count": 10,
   "metadata": {
    "collapsed": false
   },
   "outputs": [
    {
     "name": "stdout",
     "output_type": "stream",
     "text": [
      "Min post creation date:  2008-08-01 00:42:38\n",
      "Max post creation date:  2012-07-31 23:44:55\n",
      "Min owner creation date:  2008-07-31 14:22:31\n",
      "Max owner creation date:  2012-07-31 23:37:24\n"
     ]
    }
   ],
   "source": [
    "# Closer look at the timeframes considered\n",
    "print('Min post creation date: ', train.PostCreationDate.min())\n",
    "print('Max post creation date: ', train.PostCreationDate.max())\n",
    "print('Min owner creation date: ', train.OwnerCreationDate.min())\n",
    "print('Max owner creation date: ', train.OwnerCreationDate.max())"
   ]
  },
  {
   "cell_type": "markdown",
   "metadata": {},
   "source": [
    "## 2. Feature Engineering <a class=\"anchor\" id=\"2-feature-engineering\"></a>"
   ]
  },
  {
   "cell_type": "markdown",
   "metadata": {},
   "source": [
    "In this step we are trying to create new numeric columns which might be helpful to train our model predict the closure of a post."
   ]
  },
  {
   "cell_type": "code",
   "execution_count": 11,
   "metadata": {
    "collapsed": true
   },
   "outputs": [],
   "source": [
    "%matplotlib inline"
   ]
  },
  {
   "cell_type": "markdown",
   "metadata": {},
   "source": [
    "### 2.a) Post Creation Date features"
   ]
  },
  {
   "cell_type": "code",
   "execution_count": 12,
   "metadata": {
    "collapsed": true
   },
   "outputs": [],
   "source": [
    "# Post Creation time values\n",
    "train['PostCreationDate_hour'] = train.PostCreationDate.dt.hour\n",
    "train['PostCreationDate_day'] = train.PostCreationDate.dt.dayofweek\n",
    "train['PostCreationDate_month'] = train.PostCreationDate.dt.month\n",
    "train['PostCreationDate_year'] = train.PostCreationDate.dt.year"
   ]
  },
  {
   "cell_type": "code",
   "execution_count": 13,
   "metadata": {
    "collapsed": false
   },
   "outputs": [
    {
     "data": {
      "text/html": [
       "<div>\n",
       "<table border=\"1\" class=\"dataframe\">\n",
       "  <thead>\n",
       "    <tr style=\"text-align: right;\">\n",
       "      <th></th>\n",
       "      <th>PostId</th>\n",
       "      <th>PostCreationDate</th>\n",
       "      <th>OwnerUserId</th>\n",
       "      <th>OwnerCreationDate</th>\n",
       "      <th>ReputationAtPostCreation</th>\n",
       "      <th>OwnerUndeletedAnswerCountAtPostTime</th>\n",
       "      <th>Title</th>\n",
       "      <th>BodyMarkdown</th>\n",
       "      <th>Tag1</th>\n",
       "      <th>Tag2</th>\n",
       "      <th>Tag3</th>\n",
       "      <th>Tag4</th>\n",
       "      <th>Tag5</th>\n",
       "      <th>OpenStatus</th>\n",
       "      <th>PostCreationDate_hour</th>\n",
       "      <th>PostCreationDate_day</th>\n",
       "      <th>PostCreationDate_month</th>\n",
       "      <th>PostCreationDate_year</th>\n",
       "    </tr>\n",
       "  </thead>\n",
       "  <tbody>\n",
       "    <tr>\n",
       "      <th>0</th>\n",
       "      <td>6046168</td>\n",
       "      <td>2011-05-18 14:14:05</td>\n",
       "      <td>543315</td>\n",
       "      <td>2010-09-17 10:15:06</td>\n",
       "      <td>1</td>\n",
       "      <td>2</td>\n",
       "      <td>For Mongodb is it better to reference an objec...</td>\n",
       "      <td>I am building a corpus of indexed sentences in...</td>\n",
       "      <td>mongodb</td>\n",
       "      <td>NaN</td>\n",
       "      <td>NaN</td>\n",
       "      <td>NaN</td>\n",
       "      <td>NaN</td>\n",
       "      <td>1</td>\n",
       "      <td>14</td>\n",
       "      <td>2</td>\n",
       "      <td>5</td>\n",
       "      <td>2011</td>\n",
       "    </tr>\n",
       "    <tr>\n",
       "      <th>1</th>\n",
       "      <td>4873911</td>\n",
       "      <td>2011-02-02 11:30:10</td>\n",
       "      <td>465076</td>\n",
       "      <td>2010-10-03 09:30:58</td>\n",
       "      <td>192</td>\n",
       "      <td>24</td>\n",
       "      <td>How to insert schemalocation in a xml document...</td>\n",
       "      <td>i create a xml document with JAXP and search a...</td>\n",
       "      <td>dom</td>\n",
       "      <td>xsd</td>\n",
       "      <td>jaxp</td>\n",
       "      <td>NaN</td>\n",
       "      <td>NaN</td>\n",
       "      <td>1</td>\n",
       "      <td>11</td>\n",
       "      <td>2</td>\n",
       "      <td>2</td>\n",
       "      <td>2011</td>\n",
       "    </tr>\n",
       "    <tr>\n",
       "      <th>2</th>\n",
       "      <td>3311559</td>\n",
       "      <td>2010-07-22 17:21:54</td>\n",
       "      <td>406143</td>\n",
       "      <td>2010-07-22 16:58:20</td>\n",
       "      <td>1</td>\n",
       "      <td>0</td>\n",
       "      <td>Too many lookup tables</td>\n",
       "      <td>What are the adverse effects of having too man...</td>\n",
       "      <td>sql-server</td>\n",
       "      <td>database-design</td>\n",
       "      <td>enums</td>\n",
       "      <td>NaN</td>\n",
       "      <td>NaN</td>\n",
       "      <td>1</td>\n",
       "      <td>17</td>\n",
       "      <td>3</td>\n",
       "      <td>7</td>\n",
       "      <td>2010</td>\n",
       "    </tr>\n",
       "    <tr>\n",
       "      <th>3</th>\n",
       "      <td>9990413</td>\n",
       "      <td>2012-04-03 09:18:39</td>\n",
       "      <td>851755</td>\n",
       "      <td>2011-07-19 10:22:40</td>\n",
       "      <td>4</td>\n",
       "      <td>1</td>\n",
       "      <td>What is this PHP code in VB.net</td>\n",
       "      <td>I am looking for the vb.net equivalent of this...</td>\n",
       "      <td>php</td>\n",
       "      <td>vb.net</td>\n",
       "      <td>NaN</td>\n",
       "      <td>NaN</td>\n",
       "      <td>NaN</td>\n",
       "      <td>0</td>\n",
       "      <td>9</td>\n",
       "      <td>1</td>\n",
       "      <td>4</td>\n",
       "      <td>2012</td>\n",
       "    </tr>\n",
       "    <tr>\n",
       "      <th>4</th>\n",
       "      <td>10421966</td>\n",
       "      <td>2012-05-02 21:25:01</td>\n",
       "      <td>603588</td>\n",
       "      <td>2011-02-04 18:05:34</td>\n",
       "      <td>334</td>\n",
       "      <td>14</td>\n",
       "      <td>Spring-Data mongodb querying multiple classes ...</td>\n",
       "      <td>With Spring-Data, you can use the @Document an...</td>\n",
       "      <td>mongodb</td>\n",
       "      <td>spring-data</td>\n",
       "      <td>NaN</td>\n",
       "      <td>NaN</td>\n",
       "      <td>NaN</td>\n",
       "      <td>1</td>\n",
       "      <td>21</td>\n",
       "      <td>2</td>\n",
       "      <td>5</td>\n",
       "      <td>2012</td>\n",
       "    </tr>\n",
       "  </tbody>\n",
       "</table>\n",
       "</div>"
      ],
      "text/plain": [
       "     PostId    PostCreationDate  OwnerUserId   OwnerCreationDate  \\\n",
       "0   6046168 2011-05-18 14:14:05       543315 2010-09-17 10:15:06   \n",
       "1   4873911 2011-02-02 11:30:10       465076 2010-10-03 09:30:58   \n",
       "2   3311559 2010-07-22 17:21:54       406143 2010-07-22 16:58:20   \n",
       "3   9990413 2012-04-03 09:18:39       851755 2011-07-19 10:22:40   \n",
       "4  10421966 2012-05-02 21:25:01       603588 2011-02-04 18:05:34   \n",
       "\n",
       "   ReputationAtPostCreation  OwnerUndeletedAnswerCountAtPostTime  \\\n",
       "0                         1                                    2   \n",
       "1                       192                                   24   \n",
       "2                         1                                    0   \n",
       "3                         4                                    1   \n",
       "4                       334                                   14   \n",
       "\n",
       "                                               Title  \\\n",
       "0  For Mongodb is it better to reference an objec...   \n",
       "1  How to insert schemalocation in a xml document...   \n",
       "2                            Too many lookup tables    \n",
       "3                    What is this PHP code in VB.net   \n",
       "4  Spring-Data mongodb querying multiple classes ...   \n",
       "\n",
       "                                        BodyMarkdown        Tag1  \\\n",
       "0  I am building a corpus of indexed sentences in...     mongodb   \n",
       "1  i create a xml document with JAXP and search a...         dom   \n",
       "2  What are the adverse effects of having too man...  sql-server   \n",
       "3  I am looking for the vb.net equivalent of this...         php   \n",
       "4  With Spring-Data, you can use the @Document an...     mongodb   \n",
       "\n",
       "              Tag2   Tag3 Tag4 Tag5  OpenStatus  PostCreationDate_hour  \\\n",
       "0              NaN    NaN  NaN  NaN           1                     14   \n",
       "1              xsd   jaxp  NaN  NaN           1                     11   \n",
       "2  database-design  enums  NaN  NaN           1                     17   \n",
       "3           vb.net    NaN  NaN  NaN           0                      9   \n",
       "4      spring-data    NaN  NaN  NaN           1                     21   \n",
       "\n",
       "   PostCreationDate_day  PostCreationDate_month  PostCreationDate_year  \n",
       "0                     2                       5                   2011  \n",
       "1                     2                       2                   2011  \n",
       "2                     3                       7                   2010  \n",
       "3                     1                       4                   2012  \n",
       "4                     2                       5                   2012  "
      ]
     },
     "execution_count": 13,
     "metadata": {},
     "output_type": "execute_result"
    }
   ],
   "source": [
    "train.head()"
   ]
  },
  {
   "cell_type": "markdown",
   "metadata": {},
   "source": [
    "Let us now check one by one these new features and check if some of them seem to be good at predicting OpenStatus. To do so, we look at the mean of OpenStatus, grouping by every of these features. This gives us the probability of a post being Open, per hour/dayofweek/month/year."
   ]
  },
  {
   "cell_type": "code",
   "execution_count": 14,
   "metadata": {
    "collapsed": false
   },
   "outputs": [
    {
     "data": {
      "text/plain": [
       "<matplotlib.axes._subplots.AxesSubplot at 0x10b5cdb00>"
      ]
     },
     "execution_count": 14,
     "metadata": {},
     "output_type": "execute_result"
    },
    {
     "data": {
      "image/png": "[encoded data removed]",
      "text/plain": [
       "<matplotlib.figure.Figure at 0x10b5c2a90>"
      ]
     },
     "metadata": {},
     "output_type": "display_data"
    }
   ],
   "source": [
    "train.groupby('PostCreationDate_hour').OpenStatus.mean().plot()"
   ]
  },
  {
   "cell_type": "markdown",
   "metadata": {},
   "source": [
    "One can notice that posts created in the night (hour 4 to 7) are less likely to be open."
   ]
  },
  {
   "cell_type": "code",
   "execution_count": 15,
   "metadata": {
    "collapsed": false
   },
   "outputs": [
    {
     "data": {
      "text/plain": [
       "<matplotlib.axes._subplots.AxesSubplot at 0x10cb9e278>"
      ]
     },
     "execution_count": 15,
     "metadata": {},
     "output_type": "execute_result"
    },
    {
     "data": {
      "image/png": "[encoded data removed]",
      "text/plain": [
       "<matplotlib.figure.Figure at 0x10cbeb1d0>"
      ]
     },
     "metadata": {},
     "output_type": "display_data"
    }
   ],
   "source": [
    "train.groupby('PostCreationDate_day').OpenStatus.mean().plot()"
   ]
  },
  {
   "cell_type": "markdown",
   "metadata": {},
   "source": [
    "One can notice that posts created during the weekend (days 5 and 6) are less likely to be open."
   ]
  },
  {
   "cell_type": "code",
   "execution_count": 16,
   "metadata": {
    "collapsed": false
   },
   "outputs": [
    {
     "data": {
      "text/plain": [
       "<matplotlib.axes._subplots.AxesSubplot at 0x10cf09198>"
      ]
     },
     "execution_count": 16,
     "metadata": {},
     "output_type": "execute_result"
    },
    {
     "data": {
      "image/png": "[encoded data removed]",
      "text/plain": [
       "<matplotlib.figure.Figure at 0x10cf1ceb8>"
      ]
     },
     "metadata": {},
     "output_type": "display_data"
    }
   ],
   "source": [
    "train.groupby('PostCreationDate_month').OpenStatus.mean().plot()"
   ]
  },
  {
   "cell_type": "markdown",
   "metadata": {},
   "source": [
    "One can notive that posts published in july are the most unlikely to be open."
   ]
  },
  {
   "cell_type": "code",
   "execution_count": 17,
   "metadata": {
    "collapsed": false,
    "scrolled": true
   },
   "outputs": [
    {
     "data": {
      "text/plain": [
       "<matplotlib.axes._subplots.AxesSubplot at 0x10d0f1908>"
      ]
     },
     "execution_count": 17,
     "metadata": {},
     "output_type": "execute_result"
    },
    {
     "data": {
      "image/png": "[encoded data removed]",
      "text/plain": [
       "<matplotlib.figure.Figure at 0x10e9ef438>"
      ]
     },
     "metadata": {},
     "output_type": "display_data"
    }
   ],
   "source": [
    "train.groupby('PostCreationDate_year').OpenStatus.mean().plot()"
   ]
  },
  {
   "cell_type": "markdown",
   "metadata": {},
   "source": [
    "One can notice than oldest (2008) newest posts (at least 2011) are more likely to be closed than the others.\n",
    "\n",
    "**We can now create or new columns for post creation date, which will help us predict if a post is closed or not.**"
   ]
  },
  {
   "cell_type": "code",
   "execution_count": 18,
   "metadata": {
    "collapsed": false
   },
   "outputs": [],
   "source": [
    "train['PostCreationDate_night'] = ((train.PostCreationDate_hour) >= 4 & (train.PostCreationDate_hour <= 7)).astype(int)\n",
    "train['PostCreationDate_weekend'] = ((train.PostCreationDate_day) >= 5 & (train.PostCreationDate_day <= 6)).astype(int)\n",
    "train['PostCreationDate_july'] = (train.PostCreationDate_month == 7).astype(int)\n",
    "train['PostCreationDate_recent'] = ((train.PostCreationDate_year >= 2011) | (train.PostCreationDate_year == 2008)).astype(int)"
   ]
  },
  {
   "cell_type": "code",
   "execution_count": 19,
   "metadata": {
    "collapsed": false
   },
   "outputs": [
    {
     "data": {
      "text/html": [
       "<div>\n",
       "<table border=\"1\" class=\"dataframe\">\n",
       "  <thead>\n",
       "    <tr style=\"text-align: right;\">\n",
       "      <th></th>\n",
       "      <th>PostId</th>\n",
       "      <th>PostCreationDate</th>\n",
       "      <th>OwnerUserId</th>\n",
       "      <th>OwnerCreationDate</th>\n",
       "      <th>ReputationAtPostCreation</th>\n",
       "      <th>OwnerUndeletedAnswerCountAtPostTime</th>\n",
       "      <th>Title</th>\n",
       "      <th>BodyMarkdown</th>\n",
       "      <th>Tag1</th>\n",
       "      <th>Tag2</th>\n",
       "      <th>...</th>\n",
       "      <th>Tag5</th>\n",
       "      <th>OpenStatus</th>\n",
       "      <th>PostCreationDate_hour</th>\n",
       "      <th>PostCreationDate_day</th>\n",
       "      <th>PostCreationDate_month</th>\n",
       "      <th>PostCreationDate_year</th>\n",
       "      <th>PostCreationDate_night</th>\n",
       "      <th>PostCreationDate_weekend</th>\n",
       "      <th>PostCreationDate_july</th>\n",
       "      <th>PostCreationDate_recent</th>\n",
       "    </tr>\n",
       "  </thead>\n",
       "  <tbody>\n",
       "    <tr>\n",
       "      <th>0</th>\n",
       "      <td>6046168</td>\n",
       "      <td>2011-05-18 14:14:05</td>\n",
       "      <td>543315</td>\n",
       "      <td>2010-09-17 10:15:06</td>\n",
       "      <td>1</td>\n",
       "      <td>2</td>\n",
       "      <td>For Mongodb is it better to reference an objec...</td>\n",
       "      <td>I am building a corpus of indexed sentences in...</td>\n",
       "      <td>mongodb</td>\n",
       "      <td>NaN</td>\n",
       "      <td>...</td>\n",
       "      <td>NaN</td>\n",
       "      <td>1</td>\n",
       "      <td>14</td>\n",
       "      <td>2</td>\n",
       "      <td>5</td>\n",
       "      <td>2011</td>\n",
       "      <td>1</td>\n",
       "      <td>1</td>\n",
       "      <td>0</td>\n",
       "      <td>1</td>\n",
       "    </tr>\n",
       "    <tr>\n",
       "      <th>1</th>\n",
       "      <td>4873911</td>\n",
       "      <td>2011-02-02 11:30:10</td>\n",
       "      <td>465076</td>\n",
       "      <td>2010-10-03 09:30:58</td>\n",
       "      <td>192</td>\n",
       "      <td>24</td>\n",
       "      <td>How to insert schemalocation in a xml document...</td>\n",
       "      <td>i create a xml document with JAXP and search a...</td>\n",
       "      <td>dom</td>\n",
       "      <td>xsd</td>\n",
       "      <td>...</td>\n",
       "      <td>NaN</td>\n",
       "      <td>1</td>\n",
       "      <td>11</td>\n",
       "      <td>2</td>\n",
       "      <td>2</td>\n",
       "      <td>2011</td>\n",
       "      <td>1</td>\n",
       "      <td>1</td>\n",
       "      <td>0</td>\n",
       "      <td>1</td>\n",
       "    </tr>\n",
       "    <tr>\n",
       "      <th>2</th>\n",
       "      <td>3311559</td>\n",
       "      <td>2010-07-22 17:21:54</td>\n",
       "      <td>406143</td>\n",
       "      <td>2010-07-22 16:58:20</td>\n",
       "      <td>1</td>\n",
       "      <td>0</td>\n",
       "      <td>Too many lookup tables</td>\n",
       "      <td>What are the adverse effects of having too man...</td>\n",
       "      <td>sql-server</td>\n",
       "      <td>database-design</td>\n",
       "      <td>...</td>\n",
       "      <td>NaN</td>\n",
       "      <td>1</td>\n",
       "      <td>17</td>\n",
       "      <td>3</td>\n",
       "      <td>7</td>\n",
       "      <td>2010</td>\n",
       "      <td>1</td>\n",
       "      <td>1</td>\n",
       "      <td>1</td>\n",
       "      <td>0</td>\n",
       "    </tr>\n",
       "    <tr>\n",
       "      <th>3</th>\n",
       "      <td>9990413</td>\n",
       "      <td>2012-04-03 09:18:39</td>\n",
       "      <td>851755</td>\n",
       "      <td>2011-07-19 10:22:40</td>\n",
       "      <td>4</td>\n",
       "      <td>1</td>\n",
       "      <td>What is this PHP code in VB.net</td>\n",
       "      <td>I am looking for the vb.net equivalent of this...</td>\n",
       "      <td>php</td>\n",
       "      <td>vb.net</td>\n",
       "      <td>...</td>\n",
       "      <td>NaN</td>\n",
       "      <td>0</td>\n",
       "      <td>9</td>\n",
       "      <td>1</td>\n",
       "      <td>4</td>\n",
       "      <td>2012</td>\n",
       "      <td>1</td>\n",
       "      <td>1</td>\n",
       "      <td>0</td>\n",
       "      <td>1</td>\n",
       "    </tr>\n",
       "    <tr>\n",
       "      <th>4</th>\n",
       "      <td>10421966</td>\n",
       "      <td>2012-05-02 21:25:01</td>\n",
       "      <td>603588</td>\n",
       "      <td>2011-02-04 18:05:34</td>\n",
       "      <td>334</td>\n",
       "      <td>14</td>\n",
       "      <td>Spring-Data mongodb querying multiple classes ...</td>\n",
       "      <td>With Spring-Data, you can use the @Document an...</td>\n",
       "      <td>mongodb</td>\n",
       "      <td>spring-data</td>\n",
       "      <td>...</td>\n",
       "      <td>NaN</td>\n",
       "      <td>1</td>\n",
       "      <td>21</td>\n",
       "      <td>2</td>\n",
       "      <td>5</td>\n",
       "      <td>2012</td>\n",
       "      <td>1</td>\n",
       "      <td>1</td>\n",
       "      <td>0</td>\n",
       "      <td>1</td>\n",
       "    </tr>\n",
       "  </tbody>\n",
       "</table>\n",
       "<p>5 rows × 22 columns</p>\n",
       "</div>"
      ],
      "text/plain": [
       "     PostId    PostCreationDate  OwnerUserId   OwnerCreationDate  \\\n",
       "0   6046168 2011-05-18 14:14:05       543315 2010-09-17 10:15:06   \n",
       "1   4873911 2011-02-02 11:30:10       465076 2010-10-03 09:30:58   \n",
       "2   3311559 2010-07-22 17:21:54       406143 2010-07-22 16:58:20   \n",
       "3   9990413 2012-04-03 09:18:39       851755 2011-07-19 10:22:40   \n",
       "4  10421966 2012-05-02 21:25:01       603588 2011-02-04 18:05:34   \n",
       "\n",
       "   ReputationAtPostCreation  OwnerUndeletedAnswerCountAtPostTime  \\\n",
       "0                         1                                    2   \n",
       "1                       192                                   24   \n",
       "2                         1                                    0   \n",
       "3                         4                                    1   \n",
       "4                       334                                   14   \n",
       "\n",
       "                                               Title  \\\n",
       "0  For Mongodb is it better to reference an objec...   \n",
       "1  How to insert schemalocation in a xml document...   \n",
       "2                            Too many lookup tables    \n",
       "3                    What is this PHP code in VB.net   \n",
       "4  Spring-Data mongodb querying multiple classes ...   \n",
       "\n",
       "                                        BodyMarkdown        Tag1  \\\n",
       "0  I am building a corpus of indexed sentences in...     mongodb   \n",
       "1  i create a xml document with JAXP and search a...         dom   \n",
       "2  What are the adverse effects of having too man...  sql-server   \n",
       "3  I am looking for the vb.net equivalent of this...         php   \n",
       "4  With Spring-Data, you can use the @Document an...     mongodb   \n",
       "\n",
       "              Tag2           ...            Tag5 OpenStatus  \\\n",
       "0              NaN           ...             NaN          1   \n",
       "1              xsd           ...             NaN          1   \n",
       "2  database-design           ...             NaN          1   \n",
       "3           vb.net           ...             NaN          0   \n",
       "4      spring-data           ...             NaN          1   \n",
       "\n",
       "  PostCreationDate_hour  PostCreationDate_day  PostCreationDate_month  \\\n",
       "0                    14                     2                       5   \n",
       "1                    11                     2                       2   \n",
       "2                    17                     3                       7   \n",
       "3                     9                     1                       4   \n",
       "4                    21                     2                       5   \n",
       "\n",
       "   PostCreationDate_year  PostCreationDate_night  PostCreationDate_weekend  \\\n",
       "0                   2011                       1                         1   \n",
       "1                   2011                       1                         1   \n",
       "2                   2010                       1                         1   \n",
       "3                   2012                       1                         1   \n",
       "4                   2012                       1                         1   \n",
       "\n",
       "   PostCreationDate_july  PostCreationDate_recent  \n",
       "0                      0                        1  \n",
       "1                      0                        1  \n",
       "2                      1                        0  \n",
       "3                      0                        1  \n",
       "4                      0                        1  \n",
       "\n",
       "[5 rows x 22 columns]"
      ]
     },
     "execution_count": 19,
     "metadata": {},
     "output_type": "execute_result"
    }
   ],
   "source": [
    "train.head()"
   ]
  },
  {
   "cell_type": "markdown",
   "metadata": {},
   "source": [
    "### 2.b) Owner Creation Date features"
   ]
  },
  {
   "cell_type": "code",
   "execution_count": 20,
   "metadata": {
    "collapsed": true
   },
   "outputs": [],
   "source": [
    "# Owner Creation time values\n",
    "train['OwnerCreationDate_hour'] = train.OwnerCreationDate.dt.hour\n",
    "train['OwnerCreationDate_day'] = train.OwnerCreationDate.dt.dayofweek\n",
    "train['OwnerCreationDate_month'] = train.OwnerCreationDate.dt.month\n",
    "train['OwnerCreationDate_year'] = train.OwnerCreationDate.dt.year"
   ]
  },
  {
   "cell_type": "code",
   "execution_count": 21,
   "metadata": {
    "collapsed": false
   },
   "outputs": [
    {
     "data": {
      "text/html": [
       "<div>\n",
       "<table border=\"1\" class=\"dataframe\">\n",
       "  <thead>\n",
       "    <tr style=\"text-align: right;\">\n",
       "      <th></th>\n",
       "      <th>PostId</th>\n",
       "      <th>PostCreationDate</th>\n",
       "      <th>OwnerUserId</th>\n",
       "      <th>OwnerCreationDate</th>\n",
       "      <th>ReputationAtPostCreation</th>\n",
       "      <th>OwnerUndeletedAnswerCountAtPostTime</th>\n",
       "      <th>Title</th>\n",
       "      <th>BodyMarkdown</th>\n",
       "      <th>Tag1</th>\n",
       "      <th>Tag2</th>\n",
       "      <th>...</th>\n",
       "      <th>PostCreationDate_month</th>\n",
       "      <th>PostCreationDate_year</th>\n",
       "      <th>PostCreationDate_night</th>\n",
       "      <th>PostCreationDate_weekend</th>\n",
       "      <th>PostCreationDate_july</th>\n",
       "      <th>PostCreationDate_recent</th>\n",
       "      <th>OwnerCreationDate_hour</th>\n",
       "      <th>OwnerCreationDate_day</th>\n",
       "      <th>OwnerCreationDate_month</th>\n",
       "      <th>OwnerCreationDate_year</th>\n",
       "    </tr>\n",
       "  </thead>\n",
       "  <tbody>\n",
       "    <tr>\n",
       "      <th>140267</th>\n",
       "      <td>2982729</td>\n",
       "      <td>2010-06-06 01:03:41</td>\n",
       "      <td>8303</td>\n",
       "      <td>2008-09-15 15:40:08</td>\n",
       "      <td>520</td>\n",
       "      <td>34</td>\n",
       "      <td>Is it possible to implement bitwise operators ...</td>\n",
       "      <td>I am facing a rather peculiar problem. I am wo...</td>\n",
       "      <td>bitwise-operators</td>\n",
       "      <td>discrete-mathematics</td>\n",
       "      <td>...</td>\n",
       "      <td>6</td>\n",
       "      <td>2010</td>\n",
       "      <td>1</td>\n",
       "      <td>1</td>\n",
       "      <td>0</td>\n",
       "      <td>0</td>\n",
       "      <td>15</td>\n",
       "      <td>0</td>\n",
       "      <td>9</td>\n",
       "      <td>2008</td>\n",
       "    </tr>\n",
       "    <tr>\n",
       "      <th>140268</th>\n",
       "      <td>8809105</td>\n",
       "      <td>2012-01-10 19:13:53</td>\n",
       "      <td>1130251</td>\n",
       "      <td>2012-01-04 15:31:10</td>\n",
       "      <td>1</td>\n",
       "      <td>0</td>\n",
       "      <td>Ruby on Rails: MySql Gem does not work: uninit...</td>\n",
       "      <td>I have the following installed:\\r\\nMac Os 10.7...</td>\n",
       "      <td>mysql</td>\n",
       "      <td>ruby-on-rails</td>\n",
       "      <td>...</td>\n",
       "      <td>1</td>\n",
       "      <td>2012</td>\n",
       "      <td>1</td>\n",
       "      <td>1</td>\n",
       "      <td>0</td>\n",
       "      <td>1</td>\n",
       "      <td>15</td>\n",
       "      <td>2</td>\n",
       "      <td>1</td>\n",
       "      <td>2012</td>\n",
       "    </tr>\n",
       "    <tr>\n",
       "      <th>140269</th>\n",
       "      <td>10674791</td>\n",
       "      <td>2012-05-20 15:36:31</td>\n",
       "      <td>1388595</td>\n",
       "      <td>2012-05-11 04:43:47</td>\n",
       "      <td>4</td>\n",
       "      <td>0</td>\n",
       "      <td>deleting image from image folder</td>\n",
       "      <td>I am working with an asp.net application.I wan...</td>\n",
       "      <td>asp.net</td>\n",
       "      <td>NaN</td>\n",
       "      <td>...</td>\n",
       "      <td>5</td>\n",
       "      <td>2012</td>\n",
       "      <td>1</td>\n",
       "      <td>1</td>\n",
       "      <td>0</td>\n",
       "      <td>1</td>\n",
       "      <td>4</td>\n",
       "      <td>4</td>\n",
       "      <td>5</td>\n",
       "      <td>2012</td>\n",
       "    </tr>\n",
       "    <tr>\n",
       "      <th>140270</th>\n",
       "      <td>3997045</td>\n",
       "      <td>2010-10-22 13:04:30</td>\n",
       "      <td>484232</td>\n",
       "      <td>2010-10-22 13:04:30</td>\n",
       "      <td>1</td>\n",
       "      <td>0</td>\n",
       "      <td>Need help making HTML's</td>\n",
       "      <td>Hi to all the gurus out there.\\r\\n\\r\\nAnybody ...</td>\n",
       "      <td>html</td>\n",
       "      <td>copy</td>\n",
       "      <td>...</td>\n",
       "      <td>10</td>\n",
       "      <td>2010</td>\n",
       "      <td>1</td>\n",
       "      <td>1</td>\n",
       "      <td>0</td>\n",
       "      <td>0</td>\n",
       "      <td>13</td>\n",
       "      <td>4</td>\n",
       "      <td>10</td>\n",
       "      <td>2010</td>\n",
       "    </tr>\n",
       "    <tr>\n",
       "      <th>140271</th>\n",
       "      <td>11570849</td>\n",
       "      <td>2012-07-19 23:36:57</td>\n",
       "      <td>1539253</td>\n",
       "      <td>2012-07-19 22:17:04</td>\n",
       "      <td>3</td>\n",
       "      <td>1</td>\n",
       "      <td>How dangerous is it to output certain content ...</td>\n",
       "      <td>Following on from a question I asked about esc...</td>\n",
       "      <td>php</td>\n",
       "      <td>content-management-system</td>\n",
       "      <td>...</td>\n",
       "      <td>7</td>\n",
       "      <td>2012</td>\n",
       "      <td>1</td>\n",
       "      <td>1</td>\n",
       "      <td>1</td>\n",
       "      <td>1</td>\n",
       "      <td>22</td>\n",
       "      <td>3</td>\n",
       "      <td>7</td>\n",
       "      <td>2012</td>\n",
       "    </tr>\n",
       "  </tbody>\n",
       "</table>\n",
       "<p>5 rows × 26 columns</p>\n",
       "</div>"
      ],
      "text/plain": [
       "          PostId    PostCreationDate  OwnerUserId   OwnerCreationDate  \\\n",
       "140267   2982729 2010-06-06 01:03:41         8303 2008-09-15 15:40:08   \n",
       "140268   8809105 2012-01-10 19:13:53      1130251 2012-01-04 15:31:10   \n",
       "140269  10674791 2012-05-20 15:36:31      1388595 2012-05-11 04:43:47   \n",
       "140270   3997045 2010-10-22 13:04:30       484232 2010-10-22 13:04:30   \n",
       "140271  11570849 2012-07-19 23:36:57      1539253 2012-07-19 22:17:04   \n",
       "\n",
       "        ReputationAtPostCreation  OwnerUndeletedAnswerCountAtPostTime  \\\n",
       "140267                       520                                   34   \n",
       "140268                         1                                    0   \n",
       "140269                         4                                    0   \n",
       "140270                         1                                    0   \n",
       "140271                         3                                    1   \n",
       "\n",
       "                                                    Title  \\\n",
       "140267  Is it possible to implement bitwise operators ...   \n",
       "140268  Ruby on Rails: MySql Gem does not work: uninit...   \n",
       "140269                   deleting image from image folder   \n",
       "140270                            Need help making HTML's   \n",
       "140271  How dangerous is it to output certain content ...   \n",
       "\n",
       "                                             BodyMarkdown               Tag1  \\\n",
       "140267  I am facing a rather peculiar problem. I am wo...  bitwise-operators   \n",
       "140268  I have the following installed:\\r\\nMac Os 10.7...              mysql   \n",
       "140269  I am working with an asp.net application.I wan...            asp.net   \n",
       "140270  Hi to all the gurus out there.\\r\\n\\r\\nAnybody ...               html   \n",
       "140271  Following on from a question I asked about esc...                php   \n",
       "\n",
       "                             Tag2           ...            \\\n",
       "140267       discrete-mathematics           ...             \n",
       "140268              ruby-on-rails           ...             \n",
       "140269                        NaN           ...             \n",
       "140270                       copy           ...             \n",
       "140271  content-management-system           ...             \n",
       "\n",
       "       PostCreationDate_month PostCreationDate_year PostCreationDate_night  \\\n",
       "140267                      6                  2010                      1   \n",
       "140268                      1                  2012                      1   \n",
       "140269                      5                  2012                      1   \n",
       "140270                     10                  2010                      1   \n",
       "140271                      7                  2012                      1   \n",
       "\n",
       "        PostCreationDate_weekend  PostCreationDate_july  \\\n",
       "140267                         1                      0   \n",
       "140268                         1                      0   \n",
       "140269                         1                      0   \n",
       "140270                         1                      0   \n",
       "140271                         1                      1   \n",
       "\n",
       "        PostCreationDate_recent  OwnerCreationDate_hour  \\\n",
       "140267                        0                      15   \n",
       "140268                        1                      15   \n",
       "140269                        1                       4   \n",
       "140270                        0                      13   \n",
       "140271                        1                      22   \n",
       "\n",
       "        OwnerCreationDate_day  OwnerCreationDate_month  OwnerCreationDate_year  \n",
       "140267                      0                        9                    2008  \n",
       "140268                      2                        1                    2012  \n",
       "140269                      4                        5                    2012  \n",
       "140270                      4                       10                    2010  \n",
       "140271                      3                        7                    2012  \n",
       "\n",
       "[5 rows x 26 columns]"
      ]
     },
     "execution_count": 21,
     "metadata": {},
     "output_type": "execute_result"
    }
   ],
   "source": [
    "train.tail()"
   ]
  },
  {
   "cell_type": "markdown",
   "metadata": {},
   "source": [
    "Let us now check one by one these new features and check if some of them seem to be good at predicting OpenStatus. We proceed exactly as in the section before."
   ]
  },
  {
   "cell_type": "code",
   "execution_count": 22,
   "metadata": {
    "collapsed": false
   },
   "outputs": [
    {
     "data": {
      "text/plain": [
       "<matplotlib.axes._subplots.AxesSubplot at 0x10ea109b0>"
      ]
     },
     "execution_count": 22,
     "metadata": {},
     "output_type": "execute_result"
    },
    {
     "data": {
      "image/png": "[encoded data removed]",
      "text/plain": [
       "<matplotlib.figure.Figure at 0x10ea10da0>"
      ]
     },
     "metadata": {},
     "output_type": "display_data"
    }
   ],
   "source": [
    "train.groupby('OwnerCreationDate_hour').OpenStatus.mean().plot()"
   ]
  },
  {
   "cell_type": "markdown",
   "metadata": {},
   "source": [
    "One can notice that posts by owners created in the night (hour 4 to 6) are less likely to be open."
   ]
  },
  {
   "cell_type": "code",
   "execution_count": 23,
   "metadata": {
    "collapsed": false
   },
   "outputs": [
    {
     "data": {
      "text/plain": [
       "<matplotlib.axes._subplots.AxesSubplot at 0x10eb5c0b8>"
      ]
     },
     "execution_count": 23,
     "metadata": {},
     "output_type": "execute_result"
    },
    {
     "data": {
      "image/png": "[encoded data removed]",
      "text/plain": [
       "<matplotlib.figure.Figure at 0x10eb918d0>"
      ]
     },
     "metadata": {},
     "output_type": "display_data"
    }
   ],
   "source": [
    "train.groupby('OwnerCreationDate_day').OpenStatus.mean().plot()"
   ]
  },
  {
   "cell_type": "markdown",
   "metadata": {},
   "source": [
    "One can notice that posts by owners created during the weekend (days 5 and 6) are less likely to be open."
   ]
  },
  {
   "cell_type": "code",
   "execution_count": 24,
   "metadata": {
    "collapsed": false
   },
   "outputs": [
    {
     "data": {
      "text/plain": [
       "<matplotlib.axes._subplots.AxesSubplot at 0x10e9f6d68>"
      ]
     },
     "execution_count": 24,
     "metadata": {},
     "output_type": "execute_result"
    },
    {
     "data": {
      "image/png": "[encoded data removed]",
      "text/plain": [
       "<matplotlib.figure.Figure at 0x10afa4cc0>"
      ]
     },
     "metadata": {},
     "output_type": "display_data"
    }
   ],
   "source": [
    "train.groupby('OwnerCreationDate_month').OpenStatus.mean().plot()"
   ]
  },
  {
   "cell_type": "markdown",
   "metadata": {},
   "source": [
    "One can notive that posts by owners published in july are the most unlikely to be open."
   ]
  },
  {
   "cell_type": "code",
   "execution_count": 25,
   "metadata": {
    "collapsed": false,
    "scrolled": true
   },
   "outputs": [
    {
     "data": {
      "text/plain": [
       "<matplotlib.axes._subplots.AxesSubplot at 0x10b041e80>"
      ]
     },
     "execution_count": 25,
     "metadata": {},
     "output_type": "execute_result"
    },
    {
     "data": {
      "image/png": "[encoded data removed]",
      "text/plain": [
       "<matplotlib.figure.Figure at 0x10b049470>"
      ]
     },
     "metadata": {},
     "output_type": "display_data"
    }
   ],
   "source": [
    "train.groupby('OwnerCreationDate_year').OpenStatus.mean().plot()"
   ]
  },
  {
   "cell_type": "markdown",
   "metadata": {},
   "source": [
    "One can notice than posts by newest owners (at least 2011) are more likely to be closed than the others.\n",
    "\n",
    "**We can now create or new columns for owner creation date, which will help us predict if a post is closed or not.**"
   ]
  },
  {
   "cell_type": "code",
   "execution_count": 26,
   "metadata": {
    "collapsed": false
   },
   "outputs": [],
   "source": [
    "train['OwnerCreationDate_night'] = ((train.OwnerCreationDate_hour) >= 4 & (train.OwnerCreationDate_hour <= 6)).astype(int)\n",
    "train['OwnerCreationDate_weekend'] = ((train.OwnerCreationDate_day) >= 5 & (train.OwnerCreationDate_day <= 6)).astype(int)\n",
    "train['OwnerCreationDate_july'] = (train.OwnerCreationDate_month == 7).astype(int)\n",
    "train['OwnerCreationDate_recent'] = (train.OwnerCreationDate_year >= 2011).astype(int)"
   ]
  },
  {
   "cell_type": "markdown",
   "metadata": {},
   "source": [
    "### 2.c) Number of tags"
   ]
  },
  {
   "cell_type": "markdown",
   "metadata": {},
   "source": [
    "Let's try to figure out if the number of tags can have a correlation with a post's status."
   ]
  },
  {
   "cell_type": "code",
   "execution_count": 27,
   "metadata": {
    "collapsed": true
   },
   "outputs": [],
   "source": [
    "tags = ['Tag1', 'Tag2', 'Tag3', 'Tag4', 'Tag5']\n",
    "train['nb_tags'] = 5 - train[tags].isnull().sum(axis=1)"
   ]
  },
  {
   "cell_type": "code",
   "execution_count": 28,
   "metadata": {
    "collapsed": false
   },
   "outputs": [
    {
     "data": {
      "text/html": [
       "<div>\n",
       "<table border=\"1\" class=\"dataframe\">\n",
       "  <thead>\n",
       "    <tr style=\"text-align: right;\">\n",
       "      <th></th>\n",
       "      <th>Tag1</th>\n",
       "      <th>Tag2</th>\n",
       "      <th>Tag3</th>\n",
       "      <th>Tag4</th>\n",
       "      <th>Tag5</th>\n",
       "      <th>nb_tags</th>\n",
       "    </tr>\n",
       "  </thead>\n",
       "  <tbody>\n",
       "    <tr>\n",
       "      <th>140267</th>\n",
       "      <td>bitwise-operators</td>\n",
       "      <td>discrete-mathematics</td>\n",
       "      <td>compiler-optimization</td>\n",
       "      <td>NaN</td>\n",
       "      <td>NaN</td>\n",
       "      <td>3</td>\n",
       "    </tr>\n",
       "    <tr>\n",
       "      <th>140268</th>\n",
       "      <td>mysql</td>\n",
       "      <td>ruby-on-rails</td>\n",
       "      <td>gem</td>\n",
       "      <td>osx-lion</td>\n",
       "      <td>NaN</td>\n",
       "      <td>4</td>\n",
       "    </tr>\n",
       "    <tr>\n",
       "      <th>140269</th>\n",
       "      <td>asp.net</td>\n",
       "      <td>NaN</td>\n",
       "      <td>NaN</td>\n",
       "      <td>NaN</td>\n",
       "      <td>NaN</td>\n",
       "      <td>1</td>\n",
       "    </tr>\n",
       "    <tr>\n",
       "      <th>140270</th>\n",
       "      <td>html</td>\n",
       "      <td>copy</td>\n",
       "      <td>remove</td>\n",
       "      <td>move</td>\n",
       "      <td>NaN</td>\n",
       "      <td>4</td>\n",
       "    </tr>\n",
       "    <tr>\n",
       "      <th>140271</th>\n",
       "      <td>php</td>\n",
       "      <td>content-management-system</td>\n",
       "      <td>NaN</td>\n",
       "      <td>NaN</td>\n",
       "      <td>NaN</td>\n",
       "      <td>2</td>\n",
       "    </tr>\n",
       "  </tbody>\n",
       "</table>\n",
       "</div>"
      ],
      "text/plain": [
       "                     Tag1                       Tag2                   Tag3  \\\n",
       "140267  bitwise-operators       discrete-mathematics  compiler-optimization   \n",
       "140268              mysql              ruby-on-rails                    gem   \n",
       "140269            asp.net                        NaN                    NaN   \n",
       "140270               html                       copy                 remove   \n",
       "140271                php  content-management-system                    NaN   \n",
       "\n",
       "            Tag4 Tag5  nb_tags  \n",
       "140267       NaN  NaN        3  \n",
       "140268  osx-lion  NaN        4  \n",
       "140269       NaN  NaN        1  \n",
       "140270      move  NaN        4  \n",
       "140271       NaN  NaN        2  "
      ]
     },
     "execution_count": 28,
     "metadata": {},
     "output_type": "execute_result"
    }
   ],
   "source": [
    "train[tags + ['nb_tags']].tail()"
   ]
  },
  {
   "cell_type": "code",
   "execution_count": 29,
   "metadata": {
    "collapsed": false
   },
   "outputs": [
    {
     "data": {
      "text/plain": [
       "nb_tags\n",
       "0    0.000000\n",
       "1    0.393403\n",
       "2    0.484637\n",
       "3    0.540336\n",
       "4    0.554836\n",
       "5    0.544315\n",
       "Name: OpenStatus, dtype: float64"
      ]
     },
     "execution_count": 29,
     "metadata": {},
     "output_type": "execute_result"
    }
   ],
   "source": [
    "train.groupby('nb_tags').OpenStatus.mean()"
   ]
  },
  {
   "cell_type": "markdown",
   "metadata": {},
   "source": [
    "One can see that the lower the number of tags, the higher the likelyhood of being closed. This feature might thus be useful in the future."
   ]
  },
  {
   "cell_type": "markdown",
   "metadata": {},
   "source": [
    "### 2.d) Length of title"
   ]
  },
  {
   "cell_type": "markdown",
   "metadata": {},
   "source": [
    "Let's try to figure out if the length of a post's title can have a correlation with its status."
   ]
  },
  {
   "cell_type": "code",
   "execution_count": 30,
   "metadata": {
    "collapsed": false
   },
   "outputs": [
    {
     "data": {
      "text/plain": [
       "len_title\n",
       "10     0.354545\n",
       "15     0.325577\n",
       "20     0.375259\n",
       "25     0.416322\n",
       "30     0.445665\n",
       "35     0.477927\n",
       "40     0.501976\n",
       "45     0.525320\n",
       "50     0.540217\n",
       "55     0.554155\n",
       "60     0.576918\n",
       "65     0.581654\n",
       "70     0.573786\n",
       "75     0.575826\n",
       "80     0.578540\n",
       "85     0.571498\n",
       "90     0.568653\n",
       "95     0.584983\n",
       "100    0.548972\n",
       "105    0.545145\n",
       "110    0.482838\n",
       "115    0.513333\n",
       "120    0.491071\n",
       "125    0.517857\n",
       "130    0.461538\n",
       "135    0.397849\n",
       "140    0.487805\n",
       "145    0.403226\n",
       "150    0.461538\n",
       "155    1.000000\n",
       "160    1.000000\n",
       "165    1.000000\n",
       "170    0.000000\n",
       "190    1.000000\n",
       "200    0.000000\n",
       "245    1.000000\n",
       "250    0.000000\n",
       "Name: OpenStatus, dtype: float64"
      ]
     },
     "execution_count": 30,
     "metadata": {},
     "output_type": "execute_result"
    }
   ],
   "source": [
    "train['len_title'] = ((train.Title.str.len())//5)*5\n",
    "train.groupby('len_title').OpenStatus.mean()"
   ]
  },
  {
   "cell_type": "markdown",
   "metadata": {},
   "source": [
    "One can notice that very short titles have a high probability of being closed. Let us set a threshold at 20."
   ]
  },
  {
   "cell_type": "code",
   "execution_count": 31,
   "metadata": {
    "collapsed": false
   },
   "outputs": [
    {
     "data": {
      "text/plain": [
       "0    127187\n",
       "1     13085\n",
       "Name: short_title, dtype: int64"
      ]
     },
     "execution_count": 31,
     "metadata": {},
     "output_type": "execute_result"
    }
   ],
   "source": [
    "train['short_title'] = (train.Title.str.len() < 25).astype(int)\n",
    "train.short_title.value_counts()"
   ]
  },
  {
   "cell_type": "markdown",
   "metadata": {},
   "source": [
    "Around 10% of the posts are among the short-titled posts."
   ]
  },
  {
   "cell_type": "markdown",
   "metadata": {},
   "source": [
    "### 2.e) Length of post"
   ]
  },
  {
   "cell_type": "code",
   "execution_count": 32,
   "metadata": {
    "collapsed": true
   },
   "outputs": [],
   "source": [
    "import numpy as np"
   ]
  },
  {
   "cell_type": "code",
   "execution_count": 33,
   "metadata": {
    "collapsed": false
   },
   "outputs": [
    {
     "data": {
      "text/plain": [
       "<matplotlib.axes._subplots.AxesSubplot at 0x10b0386d8>"
      ]
     },
     "execution_count": 33,
     "metadata": {},
     "output_type": "execute_result"
    },
    {
     "data": {
      "image/png": "[encoded data removed]",
      "text/plain": [
       "<matplotlib.figure.Figure at 0x10fe2b400>"
      ]
     },
     "metadata": {},
     "output_type": "display_data"
    }
   ],
   "source": [
    "train['len_post'] = train.BodyMarkdown.str.len().apply(np.log).astype(int)\n",
    "train.groupby('len_post').OpenStatus.mean().plot()"
   ]
  },
  {
   "cell_type": "code",
   "execution_count": 34,
   "metadata": {
    "collapsed": false
   },
   "outputs": [
    {
     "data": {
      "text/plain": [
       "2        35\n",
       "3      1080\n",
       "4     12034\n",
       "5     45735\n",
       "6     55151\n",
       "7     21348\n",
       "8      4060\n",
       "9       672\n",
       "10      157\n",
       "Name: len_post, dtype: int64"
      ]
     },
     "execution_count": 34,
     "metadata": {},
     "output_type": "execute_result"
    }
   ],
   "source": [
    "train.len_post.value_counts().sort_index()"
   ]
  },
  {
   "cell_type": "markdown",
   "metadata": {
    "collapsed": true
   },
   "source": [
    "One can notice that for the lowest and highest values of log(len(post)), the likelihood of being closed is much higher. Lets create a feature for taking this into account."
   ]
  },
  {
   "cell_type": "code",
   "execution_count": 35,
   "metadata": {
    "collapsed": true
   },
   "outputs": [],
   "source": [
    "train['len_post_extreme'] = ((train.BodyMarkdown.str.len().apply(np.log) < 6) | (train.BodyMarkdown.str.len().apply(np.log) > 9)).astype(int)"
   ]
  },
  {
   "cell_type": "code",
   "execution_count": 36,
   "metadata": {
    "collapsed": false
   },
   "outputs": [
    {
     "data": {
      "text/html": [
       "<div>\n",
       "<table border=\"1\" class=\"dataframe\">\n",
       "  <thead>\n",
       "    <tr style=\"text-align: right;\">\n",
       "      <th></th>\n",
       "      <th>len_post</th>\n",
       "      <th>len_post_extreme</th>\n",
       "    </tr>\n",
       "  </thead>\n",
       "  <tbody>\n",
       "    <tr>\n",
       "      <th>140267</th>\n",
       "      <td>8</td>\n",
       "      <td>0</td>\n",
       "    </tr>\n",
       "    <tr>\n",
       "      <th>140268</th>\n",
       "      <td>6</td>\n",
       "      <td>0</td>\n",
       "    </tr>\n",
       "    <tr>\n",
       "      <th>140269</th>\n",
       "      <td>5</td>\n",
       "      <td>1</td>\n",
       "    </tr>\n",
       "    <tr>\n",
       "      <th>140270</th>\n",
       "      <td>7</td>\n",
       "      <td>0</td>\n",
       "    </tr>\n",
       "    <tr>\n",
       "      <th>140271</th>\n",
       "      <td>6</td>\n",
       "      <td>0</td>\n",
       "    </tr>\n",
       "  </tbody>\n",
       "</table>\n",
       "</div>"
      ],
      "text/plain": [
       "        len_post  len_post_extreme\n",
       "140267         8                 0\n",
       "140268         6                 0\n",
       "140269         5                 1\n",
       "140270         7                 0\n",
       "140271         6                 0"
      ]
     },
     "execution_count": 36,
     "metadata": {},
     "output_type": "execute_result"
    }
   ],
   "source": [
    "train[['len_post', 'len_post_extreme']].tail()"
   ]
  },
  {
   "cell_type": "markdown",
   "metadata": {},
   "source": [
    "### 2.f) Avg length of tags"
   ]
  },
  {
   "cell_type": "markdown",
   "metadata": {},
   "source": [
    "Let's try to figure out if the average length of tags can have a correlation with the post status."
   ]
  },
  {
   "cell_type": "code",
   "execution_count": 37,
   "metadata": {
    "collapsed": false
   },
   "outputs": [],
   "source": [
    "def get_len_tags(tags):\n",
    "    if str(tags[0]) == 'nan':\n",
    "        return 0\n",
    "    else:\n",
    "        return (np.mean([len(str(tag)) for tag in tags if str(tag) != 'nan'])//1)"
   ]
  },
  {
   "cell_type": "code",
   "execution_count": 38,
   "metadata": {
    "collapsed": false,
    "scrolled": false
   },
   "outputs": [],
   "source": [
    "train['len_tags'] = train[tags].apply(get_len_tags, axis=1)"
   ]
  },
  {
   "cell_type": "code",
   "execution_count": 39,
   "metadata": {
    "collapsed": false
   },
   "outputs": [
    {
     "data": {
      "text/html": [
       "<div>\n",
       "<table border=\"1\" class=\"dataframe\">\n",
       "  <thead>\n",
       "    <tr style=\"text-align: right;\">\n",
       "      <th></th>\n",
       "      <th>Tag1</th>\n",
       "      <th>Tag2</th>\n",
       "      <th>Tag3</th>\n",
       "      <th>Tag4</th>\n",
       "      <th>Tag5</th>\n",
       "      <th>len_tags</th>\n",
       "    </tr>\n",
       "  </thead>\n",
       "  <tbody>\n",
       "    <tr>\n",
       "      <th>0</th>\n",
       "      <td>mongodb</td>\n",
       "      <td>NaN</td>\n",
       "      <td>NaN</td>\n",
       "      <td>NaN</td>\n",
       "      <td>NaN</td>\n",
       "      <td>7.0</td>\n",
       "    </tr>\n",
       "    <tr>\n",
       "      <th>1</th>\n",
       "      <td>dom</td>\n",
       "      <td>xsd</td>\n",
       "      <td>jaxp</td>\n",
       "      <td>NaN</td>\n",
       "      <td>NaN</td>\n",
       "      <td>3.0</td>\n",
       "    </tr>\n",
       "    <tr>\n",
       "      <th>2</th>\n",
       "      <td>sql-server</td>\n",
       "      <td>database-design</td>\n",
       "      <td>enums</td>\n",
       "      <td>NaN</td>\n",
       "      <td>NaN</td>\n",
       "      <td>10.0</td>\n",
       "    </tr>\n",
       "    <tr>\n",
       "      <th>3</th>\n",
       "      <td>php</td>\n",
       "      <td>vb.net</td>\n",
       "      <td>NaN</td>\n",
       "      <td>NaN</td>\n",
       "      <td>NaN</td>\n",
       "      <td>4.0</td>\n",
       "    </tr>\n",
       "    <tr>\n",
       "      <th>4</th>\n",
       "      <td>mongodb</td>\n",
       "      <td>spring-data</td>\n",
       "      <td>NaN</td>\n",
       "      <td>NaN</td>\n",
       "      <td>NaN</td>\n",
       "      <td>9.0</td>\n",
       "    </tr>\n",
       "  </tbody>\n",
       "</table>\n",
       "</div>"
      ],
      "text/plain": [
       "         Tag1             Tag2   Tag3 Tag4 Tag5  len_tags\n",
       "0     mongodb              NaN    NaN  NaN  NaN       7.0\n",
       "1         dom              xsd   jaxp  NaN  NaN       3.0\n",
       "2  sql-server  database-design  enums  NaN  NaN      10.0\n",
       "3         php           vb.net    NaN  NaN  NaN       4.0\n",
       "4     mongodb      spring-data    NaN  NaN  NaN       9.0"
      ]
     },
     "execution_count": 39,
     "metadata": {},
     "output_type": "execute_result"
    }
   ],
   "source": [
    "train[tags + ['len_tags']].head()"
   ]
  },
  {
   "cell_type": "code",
   "execution_count": 40,
   "metadata": {
    "collapsed": false
   },
   "outputs": [
    {
     "data": {
      "text/plain": [
       "<matplotlib.axes._subplots.AxesSubplot at 0x11271b320>"
      ]
     },
     "execution_count": 40,
     "metadata": {},
     "output_type": "execute_result"
    },
    {
     "data": {
      "image/png": "[encoded data removed]",
      "text/plain": [
       "<matplotlib.figure.Figure at 0x10edf1208>"
      ]
     },
     "metadata": {},
     "output_type": "display_data"
    }
   ],
   "source": [
    "train.groupby('len_tags').OpenStatus.mean().plot()"
   ]
  },
  {
   "cell_type": "markdown",
   "metadata": {},
   "source": [
    "It does not seem that this feature is very predictive of the status of the post."
   ]
  },
  {
   "cell_type": "markdown",
   "metadata": {},
   "source": [
    "### 2.g) Other unusable metrics"
   ]
  },
  {
   "cell_type": "markdown",
   "metadata": {},
   "source": [
    "Some metrics cannot be used, since they would require some information which we will not have in the future, as we test the model on new data. For example, the number of open or closed posts of the author. This could be computable with the labelled data but not for new unlabelled data. Taking this into account in the training phase of the model would thus make its evaluation too optimistic at best, and could even damage the learning phase.\n",
    "\n",
    "This is what makes the provided post meta-data such as *OwnerUndeletedAnswerCountAtPostTime* very valuable."
   ]
  },
  {
   "cell_type": "markdown",
   "metadata": {
    "collapsed": true
   },
   "source": [
    "## 3) Learning on numerical features only <a class=\"anchor\" id=\"3-learning-on-numerical-features-only\"></a>"
   ]
  },
  {
   "cell_type": "markdown",
   "metadata": {},
   "source": [
    "First, let's try to train a model based only on the numerical features (meta-data + engineered numerical features). It will be interesting to see how well it performs, and later on to compare this performance with a model trained on the text data, and even try to combine both."
   ]
  },
  {
   "cell_type": "markdown",
   "metadata": {},
   "source": [
    "### 3.a) Preparing train data"
   ]
  },
  {
   "cell_type": "code",
   "execution_count": 41,
   "metadata": {
    "collapsed": false
   },
   "outputs": [],
   "source": [
    "import pandas as pd\n",
    "import numpy as np\n",
    "\n",
    "# Loading the data\n",
    "train = pd.read_csv('./data/train.csv', index_col=0)\n",
    "train.PostCreationDate = pd.to_datetime(train.PostCreationDate)\n",
    "train.OwnerCreationDate = pd.to_datetime(train.OwnerCreationDate)"
   ]
  },
  {
   "cell_type": "code",
   "execution_count": 42,
   "metadata": {
    "collapsed": false
   },
   "outputs": [
    {
     "data": {
      "text/plain": [
       "Index(['PostId', 'PostCreationDate', 'OwnerUserId', 'OwnerCreationDate',\n",
       "       'ReputationAtPostCreation', 'OwnerUndeletedAnswerCountAtPostTime',\n",
       "       'Title', 'BodyMarkdown', 'Tag1', 'Tag2', 'Tag3', 'Tag4', 'Tag5',\n",
       "       'PostClosedDate', 'OpenStatus'],\n",
       "      dtype='object')"
      ]
     },
     "execution_count": 42,
     "metadata": {},
     "output_type": "execute_result"
    }
   ],
   "source": [
    "train.columns"
   ]
  },
  {
   "cell_type": "code",
   "execution_count": 43,
   "metadata": {
    "collapsed": false
   },
   "outputs": [],
   "source": [
    "def create_features(df):\n",
    "    \"\"\" This function takes as input a dataset with the right columns for this problem,\n",
    "        and adds all the previously-mentioned engineered features to it. It outputs this new\n",
    "        dataset along with the list of all new features which were added.\n",
    "    \"\"\"\n",
    "    \n",
    "    new_features = []\n",
    "    \n",
    "    # dates columns to datetime format\n",
    "    df.PostCreationDate = pd.to_datetime(train.PostCreationDate)\n",
    "    df.OwnerCreationDate = pd.to_datetime(train.OwnerCreationDate)\n",
    "    \n",
    "    # post dates features\n",
    "    df['PostCreationDate_night'] = ((df.PostCreationDate.dt.hour) >= 4 & (df.PostCreationDate.dt.hour <= 7)).astype(int)\n",
    "    df['PostCreationDate_weekend'] = ((df.PostCreationDate.dt.dayofweek) >= 5 & (df.PostCreationDate.dt.dayofweek <= 6)).astype(int)\n",
    "    df['PostCreationDate_july'] = (df.PostCreationDate.dt.month == 7).astype(int)\n",
    "    new_features += ['PostCreationDate_night', 'PostCreationDate_weekend', 'PostCreationDate_july']\n",
    "    \n",
    "    # owner dates features\n",
    "    df['OwnerCreationDate_night'] = ((df.OwnerCreationDate.dt.hour) >= 4 & (df.OwnerCreationDate.dt.hour <= 6)).astype(int)\n",
    "    df['OwnerCreationDate_weekend'] = ((df.OwnerCreationDate.dt.dayofweek) >= 5 & (df.OwnerCreationDate.dt.dayofweek <= 6)).astype(int)\n",
    "    df['OwnerCreationDate_july'] = (df.OwnerCreationDate.dt.month == 7).astype(int)\n",
    "    #df['OwnerCreationDate_recent'] = (df.OwnerCreationDate.dt.year >= 2011).astype(int)\n",
    "    new_features += ['OwnerCreationDate_night', 'OwnerCreationDate_weekend', 'OwnerCreationDate_july']\n",
    "    \n",
    "    # number of tags\n",
    "    tags = ['Tag1', 'Tag2', 'Tag3', 'Tag4', 'Tag5']\n",
    "    df['nb_tags'] = 5 - df[tags].isnull().sum(axis=1)\n",
    "    new_features += ['nb_tags']\n",
    "    \n",
    "    # length of title\n",
    "    df['short_title'] = (df.Title.str.len() < 25).astype(int)\n",
    "    new_features += ['short_title']\n",
    "    \n",
    "    # length of post\n",
    "    df['len_post_extreme'] = ((df.BodyMarkdown.str.len().apply(np.log) < 6) | (df.BodyMarkdown.str.len().apply(np.log) > 9)).astype(int)\n",
    "    new_features += ['len_post_extreme']\n",
    "    \n",
    "    return df, new_features"
   ]
  },
  {
   "cell_type": "markdown",
   "metadata": {},
   "source": [
    "Please note that the feature *PostCreationDate_recent* has been removed, since it turned out to be counter-productive regarding the prediction."
   ]
  },
  {
   "cell_type": "code",
   "execution_count": 44,
   "metadata": {
    "collapsed": false
   },
   "outputs": [],
   "source": [
    "# Create the training set (original dataset + engineered features) and the list of the engineered features\n",
    "train, new_features = create_features(train)\n",
    "\n",
    "# Create a list of all numerical features, in order to call them easily later on\n",
    "numerical_features = ['ReputationAtPostCreation', 'OwnerUndeletedAnswerCountAtPostTime'] + new_features"
   ]
  },
  {
   "cell_type": "code",
   "execution_count": 45,
   "metadata": {
    "collapsed": false
   },
   "outputs": [
    {
     "data": {
      "text/plain": [
       "['ReputationAtPostCreation',\n",
       " 'OwnerUndeletedAnswerCountAtPostTime',\n",
       " 'PostCreationDate_night',\n",
       " 'PostCreationDate_weekend',\n",
       " 'PostCreationDate_july',\n",
       " 'OwnerCreationDate_night',\n",
       " 'OwnerCreationDate_weekend',\n",
       " 'OwnerCreationDate_july',\n",
       " 'nb_tags',\n",
       " 'short_title',\n",
       " 'len_post_extreme']"
      ]
     },
     "execution_count": 45,
     "metadata": {},
     "output_type": "execute_result"
    }
   ],
   "source": [
    "numerical_features"
   ]
  },
  {
   "cell_type": "code",
   "execution_count": 46,
   "metadata": {
    "collapsed": true
   },
   "outputs": [],
   "source": [
    "# Create the actual learning sets (X matrix and target vector y)\n",
    "X_num = train[numerical_features]\n",
    "y_num = train.OpenStatus"
   ]
  },
  {
   "cell_type": "code",
   "execution_count": 47,
   "metadata": {
    "collapsed": false
   },
   "outputs": [
    {
     "data": {
      "text/html": [
       "<div>\n",
       "<table border=\"1\" class=\"dataframe\">\n",
       "  <thead>\n",
       "    <tr style=\"text-align: right;\">\n",
       "      <th></th>\n",
       "      <th>ReputationAtPostCreation</th>\n",
       "      <th>OwnerUndeletedAnswerCountAtPostTime</th>\n",
       "      <th>PostCreationDate_night</th>\n",
       "      <th>PostCreationDate_weekend</th>\n",
       "      <th>PostCreationDate_july</th>\n",
       "      <th>OwnerCreationDate_night</th>\n",
       "      <th>OwnerCreationDate_weekend</th>\n",
       "      <th>OwnerCreationDate_july</th>\n",
       "      <th>nb_tags</th>\n",
       "      <th>short_title</th>\n",
       "      <th>len_post_extreme</th>\n",
       "    </tr>\n",
       "  </thead>\n",
       "  <tbody>\n",
       "    <tr>\n",
       "      <th>0</th>\n",
       "      <td>1</td>\n",
       "      <td>2</td>\n",
       "      <td>1</td>\n",
       "      <td>1</td>\n",
       "      <td>0</td>\n",
       "      <td>1</td>\n",
       "      <td>1</td>\n",
       "      <td>0</td>\n",
       "      <td>1</td>\n",
       "      <td>0</td>\n",
       "      <td>0</td>\n",
       "    </tr>\n",
       "    <tr>\n",
       "      <th>1</th>\n",
       "      <td>192</td>\n",
       "      <td>24</td>\n",
       "      <td>1</td>\n",
       "      <td>1</td>\n",
       "      <td>0</td>\n",
       "      <td>1</td>\n",
       "      <td>1</td>\n",
       "      <td>0</td>\n",
       "      <td>3</td>\n",
       "      <td>0</td>\n",
       "      <td>0</td>\n",
       "    </tr>\n",
       "    <tr>\n",
       "      <th>2</th>\n",
       "      <td>1</td>\n",
       "      <td>0</td>\n",
       "      <td>1</td>\n",
       "      <td>1</td>\n",
       "      <td>1</td>\n",
       "      <td>1</td>\n",
       "      <td>1</td>\n",
       "      <td>1</td>\n",
       "      <td>3</td>\n",
       "      <td>1</td>\n",
       "      <td>1</td>\n",
       "    </tr>\n",
       "    <tr>\n",
       "      <th>3</th>\n",
       "      <td>4</td>\n",
       "      <td>1</td>\n",
       "      <td>1</td>\n",
       "      <td>1</td>\n",
       "      <td>0</td>\n",
       "      <td>1</td>\n",
       "      <td>1</td>\n",
       "      <td>1</td>\n",
       "      <td>2</td>\n",
       "      <td>0</td>\n",
       "      <td>0</td>\n",
       "    </tr>\n",
       "    <tr>\n",
       "      <th>4</th>\n",
       "      <td>334</td>\n",
       "      <td>14</td>\n",
       "      <td>1</td>\n",
       "      <td>1</td>\n",
       "      <td>0</td>\n",
       "      <td>1</td>\n",
       "      <td>1</td>\n",
       "      <td>0</td>\n",
       "      <td>2</td>\n",
       "      <td>0</td>\n",
       "      <td>0</td>\n",
       "    </tr>\n",
       "    <tr>\n",
       "      <th>5</th>\n",
       "      <td>20</td>\n",
       "      <td>0</td>\n",
       "      <td>1</td>\n",
       "      <td>1</td>\n",
       "      <td>0</td>\n",
       "      <td>1</td>\n",
       "      <td>1</td>\n",
       "      <td>0</td>\n",
       "      <td>2</td>\n",
       "      <td>0</td>\n",
       "      <td>0</td>\n",
       "    </tr>\n",
       "    <tr>\n",
       "      <th>6</th>\n",
       "      <td>95</td>\n",
       "      <td>10</td>\n",
       "      <td>1</td>\n",
       "      <td>0</td>\n",
       "      <td>0</td>\n",
       "      <td>1</td>\n",
       "      <td>1</td>\n",
       "      <td>0</td>\n",
       "      <td>4</td>\n",
       "      <td>0</td>\n",
       "      <td>0</td>\n",
       "    </tr>\n",
       "    <tr>\n",
       "      <th>7</th>\n",
       "      <td>32</td>\n",
       "      <td>0</td>\n",
       "      <td>1</td>\n",
       "      <td>1</td>\n",
       "      <td>0</td>\n",
       "      <td>1</td>\n",
       "      <td>1</td>\n",
       "      <td>0</td>\n",
       "      <td>4</td>\n",
       "      <td>1</td>\n",
       "      <td>1</td>\n",
       "    </tr>\n",
       "    <tr>\n",
       "      <th>8</th>\n",
       "      <td>1</td>\n",
       "      <td>0</td>\n",
       "      <td>1</td>\n",
       "      <td>1</td>\n",
       "      <td>0</td>\n",
       "      <td>1</td>\n",
       "      <td>1</td>\n",
       "      <td>0</td>\n",
       "      <td>1</td>\n",
       "      <td>0</td>\n",
       "      <td>1</td>\n",
       "    </tr>\n",
       "    <tr>\n",
       "      <th>9</th>\n",
       "      <td>1</td>\n",
       "      <td>0</td>\n",
       "      <td>1</td>\n",
       "      <td>1</td>\n",
       "      <td>0</td>\n",
       "      <td>1</td>\n",
       "      <td>1</td>\n",
       "      <td>0</td>\n",
       "      <td>1</td>\n",
       "      <td>0</td>\n",
       "      <td>0</td>\n",
       "    </tr>\n",
       "  </tbody>\n",
       "</table>\n",
       "</div>"
      ],
      "text/plain": [
       "   ReputationAtPostCreation  OwnerUndeletedAnswerCountAtPostTime  \\\n",
       "0                         1                                    2   \n",
       "1                       192                                   24   \n",
       "2                         1                                    0   \n",
       "3                         4                                    1   \n",
       "4                       334                                   14   \n",
       "5                        20                                    0   \n",
       "6                        95                                   10   \n",
       "7                        32                                    0   \n",
       "8                         1                                    0   \n",
       "9                         1                                    0   \n",
       "\n",
       "   PostCreationDate_night  PostCreationDate_weekend  PostCreationDate_july  \\\n",
       "0                       1                         1                      0   \n",
       "1                       1                         1                      0   \n",
       "2                       1                         1                      1   \n",
       "3                       1                         1                      0   \n",
       "4                       1                         1                      0   \n",
       "5                       1                         1                      0   \n",
       "6                       1                         0                      0   \n",
       "7                       1                         1                      0   \n",
       "8                       1                         1                      0   \n",
       "9                       1                         1                      0   \n",
       "\n",
       "   OwnerCreationDate_night  OwnerCreationDate_weekend  OwnerCreationDate_july  \\\n",
       "0                        1                          1                       0   \n",
       "1                        1                          1                       0   \n",
       "2                        1                          1                       1   \n",
       "3                        1                          1                       1   \n",
       "4                        1                          1                       0   \n",
       "5                        1                          1                       0   \n",
       "6                        1                          1                       0   \n",
       "7                        1                          1                       0   \n",
       "8                        1                          1                       0   \n",
       "9                        1                          1                       0   \n",
       "\n",
       "   nb_tags  short_title  len_post_extreme  \n",
       "0        1            0                 0  \n",
       "1        3            0                 0  \n",
       "2        3            1                 1  \n",
       "3        2            0                 0  \n",
       "4        2            0                 0  \n",
       "5        2            0                 0  \n",
       "6        4            0                 0  \n",
       "7        4            1                 1  \n",
       "8        1            0                 1  \n",
       "9        1            0                 0  "
      ]
     },
     "execution_count": 47,
     "metadata": {},
     "output_type": "execute_result"
    }
   ],
   "source": [
    "# Let's check X out\n",
    "X_num.head(10)"
   ]
  },
  {
   "cell_type": "markdown",
   "metadata": {},
   "source": [
    "### 3.b) Choosing a model"
   ]
  },
  {
   "cell_type": "markdown",
   "metadata": {},
   "source": [
    "The first step is to choose a model, before tuning it. Let's loop over some of them and see how each of them seem to perform on our data."
   ]
  },
  {
   "cell_type": "code",
   "execution_count": 48,
   "metadata": {
    "collapsed": true
   },
   "outputs": [],
   "source": [
    "from sklearn import metrics\n",
    "from sklearn.pipeline import make_pipeline\n",
    "\n",
    "import scipy as sp\n",
    "from sklearn.grid_search import GridSearchCV\n",
    "from sklearn.grid_search import RandomizedSearchCV\n",
    "from sklearn.cross_validation import cross_val_score\n",
    "\n",
    "from sklearn.linear_model import LogisticRegression as LogReg\n",
    "from sklearn.discriminant_analysis import LinearDiscriminantAnalysis as LDA\n",
    "from sklearn.naive_bayes import MultinomialNB as MNB\n",
    "from sklearn.neighbors import KNeighborsClassifier as KNN\n",
    "from sklearn.svm import LinearSVC\n",
    "from sklearn.svm import SVC"
   ]
  },
  {
   "cell_type": "code",
   "execution_count": 49,
   "metadata": {
    "collapsed": false
   },
   "outputs": [],
   "source": [
    "Models = [LogReg, KNN, LinearSVC, LDA]"
   ]
  },
  {
   "cell_type": "code",
   "execution_count": 50,
   "metadata": {
    "collapsed": true
   },
   "outputs": [],
   "source": [
    "# For MNB:\n",
    "# X['ReputationAtPostCreation'] = X.ReputationAtPostCreation + np.absolute(np.min(X.ReputationAtPostCreation, axis=0))\n",
    "# Result: 0.558094286125"
   ]
  },
  {
   "cell_type": "code",
   "execution_count": 51,
   "metadata": {
    "collapsed": false
   },
   "outputs": [],
   "source": [
    "import warnings\n",
    "from datetime import datetime"
   ]
  },
  {
   "cell_type": "code",
   "execution_count": 52,
   "metadata": {
    "collapsed": false,
    "scrolled": true
   },
   "outputs": [
    {
     "name": "stdout",
     "output_type": "stream",
     "text": [
      "Accuracy: 0.6308814628938053 - Computation time: 3 seconds.\n",
      "Accuracy: 0.5789824052919733 - Computation time: 48 seconds.\n",
      "Accuracy: 0.602956728488658 - Computation time: 127 seconds.\n",
      "Accuracy: 0.6306533283838174 - Computation time: 1 seconds.\n"
     ]
    }
   ],
   "source": [
    "warnings.filterwarnings('ignore')\n",
    "\n",
    "for Model in Models:\n",
    "    start = datetime.now()\n",
    "    model = Model()\n",
    "    scores = cross_val_score(model, X_num, y_num, scoring='accuracy', cv=5)\n",
    "    end = datetime.now()\n",
    "    delta = end-start\n",
    "    print('Accuracy: {0} - Computation time: {1} seconds.'.format(np.mean(scores), delta.seconds))\n",
    "    \n",
    "warnings.filterwarnings('default')"
   ]
  },
  {
   "cell_type": "markdown",
   "metadata": {
    "collapsed": false
   },
   "source": [
    "One can notice that very good results are reached, even without using vectorizers and without using the text data. This is very promising for the future. Let us choose Logistic Regression, which seems to provide the best results."
   ]
  },
  {
   "cell_type": "markdown",
   "metadata": {},
   "source": [
    "### 3.c) Tuning the model"
   ]
  },
  {
   "cell_type": "markdown",
   "metadata": {},
   "source": [
    "To tune the model, I decided to use RandomizedSearchCV, which tries random combinations of the various parameters and provides the scores of each of them. Please not that the scoring method used is log loss, to comply with how the model's prediction will be assessed when submitted (i.e. using log loss).\n",
    "\n",
    "For the parameter C of the logistic regression, a Rayleigh distribution was chosen in order to try out different values for C, but priviledging those close to 1, known to be often more efficient."
   ]
  },
  {
   "cell_type": "code",
   "execution_count": 53,
   "metadata": {
    "collapsed": false
   },
   "outputs": [
    {
     "data": {
      "image/png": "[encoded data removed]",
      "text/plain": [
       "<matplotlib.figure.Figure at 0x11ee5b278>"
      ]
     },
     "metadata": {},
     "output_type": "display_data"
    }
   ],
   "source": [
    "# Checking the distribution chosen\n",
    "warnings.filterwarnings('ignore')\n",
    "\n",
    "%matplotlib inline\n",
    "rayl_data = sp.stats.rayleigh.rvs(size=1000)\n",
    "pd.DataFrame(rayl_data).plot(kind='density')\n",
    "\n",
    "warnings.filterwarnings('default')"
   ]
  },
  {
   "cell_type": "code",
   "execution_count": 54,
   "metadata": {
    "collapsed": false
   },
   "outputs": [],
   "source": [
    "# Let's instantiate our RandomizedSearchCV\n",
    "logreg_num = LogReg()\n",
    "param_grid_num = {'penalty':['l1', 'l2'], 'C':sp.stats.rayleigh()}\n",
    "rand_num = RandomizedSearchCV(logreg_num, param_grid_num, n_iter=10, scoring='log_loss', cv=5)"
   ]
  },
  {
   "cell_type": "code",
   "execution_count": 55,
   "metadata": {
    "collapsed": false
   },
   "outputs": [
    {
     "name": "stdout",
     "output_type": "stream",
     "text": [
      "CPU times: user 41.7 s, sys: 1.47 s, total: 43.1 s\n",
      "Wall time: 28.9 s\n"
     ]
    },
    {
     "data": {
      "text/plain": [
       "RandomizedSearchCV(cv=5, error_score='raise',\n",
       "          estimator=LogisticRegression(C=1.0, class_weight=None, dual=False, fit_intercept=True,\n",
       "          intercept_scaling=1, max_iter=100, multi_class='ovr', n_jobs=1,\n",
       "          penalty='l2', random_state=None, solver='liblinear', tol=0.0001,\n",
       "          verbose=0, warm_start=False),\n",
       "          fit_params={}, iid=True, n_iter=10, n_jobs=1,\n",
       "          param_distributions={'C': <scipy.stats._distn_infrastructure.rv_frozen object at 0x1203d11d0>, 'penalty': ['l1', 'l2']},\n",
       "          pre_dispatch='2*n_jobs', random_state=None, refit=True,\n",
       "          scoring='log_loss', verbose=0)"
      ]
     },
     "execution_count": 55,
     "metadata": {},
     "output_type": "execute_result"
    }
   ],
   "source": [
    "# Let's fit our RandomizedSearchCV\n",
    "%time rand_num.fit(X_num,y_num)"
   ]
  },
  {
   "cell_type": "code",
   "execution_count": 56,
   "metadata": {
    "collapsed": false
   },
   "outputs": [
    {
     "name": "stdout",
     "output_type": "stream",
     "text": [
      "-0.65110319291  —  {'C': 1.4484463678220159, 'penalty': 'l1'}\n"
     ]
    }
   ],
   "source": [
    "# Let's print the best score\n",
    "print(rand_num.best_score_, ' — ', rand_num.best_params_)"
   ]
  },
  {
   "cell_type": "markdown",
   "metadata": {},
   "source": [
    "### 3.d) Predicting on test data"
   ]
  },
  {
   "cell_type": "code",
   "execution_count": 57,
   "metadata": {
    "collapsed": true
   },
   "outputs": [],
   "source": [
    "# Let's load the test data\n",
    "test = pd.read_csv('./data/test.csv')\n",
    "test.PostCreationDate = pd.to_datetime(test.PostCreationDate)\n",
    "test.OwnerCreationDate = pd.to_datetime(test.OwnerCreationDate)"
   ]
  },
  {
   "cell_type": "code",
   "execution_count": 58,
   "metadata": {
    "collapsed": false
   },
   "outputs": [
    {
     "data": {
      "text/html": [
       "<div>\n",
       "<table border=\"1\" class=\"dataframe\">\n",
       "  <thead>\n",
       "    <tr style=\"text-align: right;\">\n",
       "      <th></th>\n",
       "      <th>PostId</th>\n",
       "      <th>PostCreationDate</th>\n",
       "      <th>OwnerUserId</th>\n",
       "      <th>OwnerCreationDate</th>\n",
       "      <th>ReputationAtPostCreation</th>\n",
       "      <th>OwnerUndeletedAnswerCountAtPostTime</th>\n",
       "      <th>Title</th>\n",
       "      <th>BodyMarkdown</th>\n",
       "      <th>Tag1</th>\n",
       "      <th>Tag2</th>\n",
       "      <th>Tag3</th>\n",
       "      <th>Tag4</th>\n",
       "      <th>Tag5</th>\n",
       "    </tr>\n",
       "  </thead>\n",
       "  <tbody>\n",
       "    <tr>\n",
       "      <th>0</th>\n",
       "      <td>11768878</td>\n",
       "      <td>2012-08-01 23:10:12</td>\n",
       "      <td>756422</td>\n",
       "      <td>2011-05-16 21:49:59</td>\n",
       "      <td>155</td>\n",
       "      <td>11</td>\n",
       "      <td>Maven &amp; yui-compressor Plugin issues</td>\n",
       "      <td>I'm using the yui-compressor plugin for maven ...</td>\n",
       "      <td>maven</td>\n",
       "      <td>maven-3</td>\n",
       "      <td>yui-compressor</td>\n",
       "      <td>NaN</td>\n",
       "      <td>NaN</td>\n",
       "    </tr>\n",
       "    <tr>\n",
       "      <th>1</th>\n",
       "      <td>11768880</td>\n",
       "      <td>2012-08-01 23:10:21</td>\n",
       "      <td>1569892</td>\n",
       "      <td>2012-08-01 22:24:37</td>\n",
       "      <td>1</td>\n",
       "      <td>0</td>\n",
       "      <td>Inconsistent behaviour of html select dropdowns</td>\n",
       "      <td>I have written a javascript-generated web page...</td>\n",
       "      <td>html</td>\n",
       "      <td>select</td>\n",
       "      <td>drop-down-menu</td>\n",
       "      <td>scrollbar</td>\n",
       "      <td>NaN</td>\n",
       "    </tr>\n",
       "    <tr>\n",
       "      <th>2</th>\n",
       "      <td>11803678</td>\n",
       "      <td>2012-08-03 21:40:49</td>\n",
       "      <td>1301879</td>\n",
       "      <td>2012-03-29 21:01:29</td>\n",
       "      <td>781</td>\n",
       "      <td>37</td>\n",
       "      <td>Why Does MSFT C# Compiler Compile fixed Statem...</td>\n",
       "      <td>The .NET c# compiler (.NET 4.0) compiles the `...</td>\n",
       "      <td>c#</td>\n",
       "      <td>.net</td>\n",
       "      <td>compiler</td>\n",
       "      <td>il</td>\n",
       "      <td>NaN</td>\n",
       "    </tr>\n",
       "    <tr>\n",
       "      <th>3</th>\n",
       "      <td>11803496</td>\n",
       "      <td>2012-08-03 21:24:02</td>\n",
       "      <td>1196150</td>\n",
       "      <td>2012-02-08 02:20:44</td>\n",
       "      <td>538</td>\n",
       "      <td>0</td>\n",
       "      <td>Dump sql file to ClearDB in Heroku</td>\n",
       "      <td>I have a sql file that I want to be dumped int...</td>\n",
       "      <td>mysql</td>\n",
       "      <td>ruby-on-rails</td>\n",
       "      <td>heroku</td>\n",
       "      <td>NaN</td>\n",
       "      <td>NaN</td>\n",
       "    </tr>\n",
       "    <tr>\n",
       "      <th>4</th>\n",
       "      <td>11803700</td>\n",
       "      <td>2012-08-03 21:43:13</td>\n",
       "      <td>772581</td>\n",
       "      <td>2009-11-13 16:24:05</td>\n",
       "      <td>70</td>\n",
       "      <td>2</td>\n",
       "      <td>mysql query to get rows with conditions</td>\n",
       "      <td>\\r\\nI have a table called \"articles\" on the da...</td>\n",
       "      <td>mysql</td>\n",
       "      <td>query</td>\n",
       "      <td>NaN</td>\n",
       "      <td>NaN</td>\n",
       "      <td>NaN</td>\n",
       "    </tr>\n",
       "  </tbody>\n",
       "</table>\n",
       "</div>"
      ],
      "text/plain": [
       "     PostId    PostCreationDate  OwnerUserId   OwnerCreationDate  \\\n",
       "0  11768878 2012-08-01 23:10:12       756422 2011-05-16 21:49:59   \n",
       "1  11768880 2012-08-01 23:10:21      1569892 2012-08-01 22:24:37   \n",
       "2  11803678 2012-08-03 21:40:49      1301879 2012-03-29 21:01:29   \n",
       "3  11803496 2012-08-03 21:24:02      1196150 2012-02-08 02:20:44   \n",
       "4  11803700 2012-08-03 21:43:13       772581 2009-11-13 16:24:05   \n",
       "\n",
       "   ReputationAtPostCreation  OwnerUndeletedAnswerCountAtPostTime  \\\n",
       "0                       155                                   11   \n",
       "1                         1                                    0   \n",
       "2                       781                                   37   \n",
       "3                       538                                    0   \n",
       "4                        70                                    2   \n",
       "\n",
       "                                               Title  \\\n",
       "0               Maven & yui-compressor Plugin issues   \n",
       "1    Inconsistent behaviour of html select dropdowns   \n",
       "2  Why Does MSFT C# Compiler Compile fixed Statem...   \n",
       "3                 Dump sql file to ClearDB in Heroku   \n",
       "4            mysql query to get rows with conditions   \n",
       "\n",
       "                                        BodyMarkdown   Tag1           Tag2  \\\n",
       "0  I'm using the yui-compressor plugin for maven ...  maven        maven-3   \n",
       "1  I have written a javascript-generated web page...   html         select   \n",
       "2  The .NET c# compiler (.NET 4.0) compiles the `...     c#           .net   \n",
       "3  I have a sql file that I want to be dumped int...  mysql  ruby-on-rails   \n",
       "4  \\r\\nI have a table called \"articles\" on the da...  mysql          query   \n",
       "\n",
       "             Tag3       Tag4 Tag5  \n",
       "0  yui-compressor        NaN  NaN  \n",
       "1  drop-down-menu  scrollbar  NaN  \n",
       "2        compiler         il  NaN  \n",
       "3          heroku        NaN  NaN  \n",
       "4             NaN        NaN  NaN  "
      ]
     },
     "execution_count": 58,
     "metadata": {},
     "output_type": "execute_result"
    }
   ],
   "source": [
    "test.head()"
   ]
  },
  {
   "cell_type": "code",
   "execution_count": 59,
   "metadata": {
    "collapsed": true
   },
   "outputs": [],
   "source": [
    "# Let's add the new features\n",
    "test, new_features = create_features(test)"
   ]
  },
  {
   "cell_type": "code",
   "execution_count": 60,
   "metadata": {
    "collapsed": false
   },
   "outputs": [
    {
     "data": {
      "text/html": [
       "<div>\n",
       "<table border=\"1\" class=\"dataframe\">\n",
       "  <thead>\n",
       "    <tr style=\"text-align: right;\">\n",
       "      <th></th>\n",
       "      <th>ReputationAtPostCreation</th>\n",
       "      <th>OwnerUndeletedAnswerCountAtPostTime</th>\n",
       "      <th>PostCreationDate_night</th>\n",
       "      <th>PostCreationDate_weekend</th>\n",
       "      <th>PostCreationDate_july</th>\n",
       "      <th>OwnerCreationDate_night</th>\n",
       "      <th>OwnerCreationDate_weekend</th>\n",
       "      <th>OwnerCreationDate_july</th>\n",
       "      <th>nb_tags</th>\n",
       "      <th>short_title</th>\n",
       "      <th>len_post_extreme</th>\n",
       "    </tr>\n",
       "  </thead>\n",
       "  <tbody>\n",
       "    <tr>\n",
       "      <th>0</th>\n",
       "      <td>155</td>\n",
       "      <td>11</td>\n",
       "      <td>1</td>\n",
       "      <td>1</td>\n",
       "      <td>0</td>\n",
       "      <td>1</td>\n",
       "      <td>1</td>\n",
       "      <td>0</td>\n",
       "      <td>3</td>\n",
       "      <td>0</td>\n",
       "      <td>0</td>\n",
       "    </tr>\n",
       "    <tr>\n",
       "      <th>1</th>\n",
       "      <td>1</td>\n",
       "      <td>0</td>\n",
       "      <td>1</td>\n",
       "      <td>1</td>\n",
       "      <td>0</td>\n",
       "      <td>1</td>\n",
       "      <td>1</td>\n",
       "      <td>0</td>\n",
       "      <td>4</td>\n",
       "      <td>0</td>\n",
       "      <td>0</td>\n",
       "    </tr>\n",
       "    <tr>\n",
       "      <th>2</th>\n",
       "      <td>781</td>\n",
       "      <td>37</td>\n",
       "      <td>1</td>\n",
       "      <td>1</td>\n",
       "      <td>1</td>\n",
       "      <td>1</td>\n",
       "      <td>1</td>\n",
       "      <td>1</td>\n",
       "      <td>4</td>\n",
       "      <td>0</td>\n",
       "      <td>1</td>\n",
       "    </tr>\n",
       "    <tr>\n",
       "      <th>3</th>\n",
       "      <td>538</td>\n",
       "      <td>0</td>\n",
       "      <td>1</td>\n",
       "      <td>1</td>\n",
       "      <td>0</td>\n",
       "      <td>1</td>\n",
       "      <td>1</td>\n",
       "      <td>1</td>\n",
       "      <td>3</td>\n",
       "      <td>0</td>\n",
       "      <td>0</td>\n",
       "    </tr>\n",
       "    <tr>\n",
       "      <th>4</th>\n",
       "      <td>70</td>\n",
       "      <td>2</td>\n",
       "      <td>1</td>\n",
       "      <td>1</td>\n",
       "      <td>0</td>\n",
       "      <td>1</td>\n",
       "      <td>1</td>\n",
       "      <td>0</td>\n",
       "      <td>2</td>\n",
       "      <td>0</td>\n",
       "      <td>0</td>\n",
       "    </tr>\n",
       "    <tr>\n",
       "      <th>5</th>\n",
       "      <td>176</td>\n",
       "      <td>0</td>\n",
       "      <td>1</td>\n",
       "      <td>1</td>\n",
       "      <td>0</td>\n",
       "      <td>1</td>\n",
       "      <td>1</td>\n",
       "      <td>0</td>\n",
       "      <td>1</td>\n",
       "      <td>1</td>\n",
       "      <td>1</td>\n",
       "    </tr>\n",
       "    <tr>\n",
       "      <th>6</th>\n",
       "      <td>2657</td>\n",
       "      <td>161</td>\n",
       "      <td>1</td>\n",
       "      <td>0</td>\n",
       "      <td>0</td>\n",
       "      <td>1</td>\n",
       "      <td>1</td>\n",
       "      <td>0</td>\n",
       "      <td>3</td>\n",
       "      <td>0</td>\n",
       "      <td>0</td>\n",
       "    </tr>\n",
       "    <tr>\n",
       "      <th>7</th>\n",
       "      <td>11</td>\n",
       "      <td>0</td>\n",
       "      <td>1</td>\n",
       "      <td>1</td>\n",
       "      <td>0</td>\n",
       "      <td>1</td>\n",
       "      <td>1</td>\n",
       "      <td>0</td>\n",
       "      <td>3</td>\n",
       "      <td>0</td>\n",
       "      <td>0</td>\n",
       "    </tr>\n",
       "    <tr>\n",
       "      <th>8</th>\n",
       "      <td>202</td>\n",
       "      <td>4</td>\n",
       "      <td>1</td>\n",
       "      <td>1</td>\n",
       "      <td>0</td>\n",
       "      <td>1</td>\n",
       "      <td>1</td>\n",
       "      <td>0</td>\n",
       "      <td>2</td>\n",
       "      <td>0</td>\n",
       "      <td>1</td>\n",
       "    </tr>\n",
       "    <tr>\n",
       "      <th>9</th>\n",
       "      <td>70</td>\n",
       "      <td>5</td>\n",
       "      <td>1</td>\n",
       "      <td>1</td>\n",
       "      <td>0</td>\n",
       "      <td>1</td>\n",
       "      <td>1</td>\n",
       "      <td>0</td>\n",
       "      <td>5</td>\n",
       "      <td>0</td>\n",
       "      <td>0</td>\n",
       "    </tr>\n",
       "    <tr>\n",
       "      <th>10</th>\n",
       "      <td>27529</td>\n",
       "      <td>1561</td>\n",
       "      <td>1</td>\n",
       "      <td>0</td>\n",
       "      <td>1</td>\n",
       "      <td>1</td>\n",
       "      <td>1</td>\n",
       "      <td>0</td>\n",
       "      <td>3</td>\n",
       "      <td>0</td>\n",
       "      <td>1</td>\n",
       "    </tr>\n",
       "    <tr>\n",
       "      <th>11</th>\n",
       "      <td>890</td>\n",
       "      <td>6</td>\n",
       "      <td>1</td>\n",
       "      <td>1</td>\n",
       "      <td>0</td>\n",
       "      <td>1</td>\n",
       "      <td>1</td>\n",
       "      <td>0</td>\n",
       "      <td>3</td>\n",
       "      <td>0</td>\n",
       "      <td>0</td>\n",
       "    </tr>\n",
       "    <tr>\n",
       "      <th>12</th>\n",
       "      <td>3</td>\n",
       "      <td>2</td>\n",
       "      <td>1</td>\n",
       "      <td>1</td>\n",
       "      <td>0</td>\n",
       "      <td>1</td>\n",
       "      <td>1</td>\n",
       "      <td>0</td>\n",
       "      <td>5</td>\n",
       "      <td>0</td>\n",
       "      <td>0</td>\n",
       "    </tr>\n",
       "    <tr>\n",
       "      <th>13</th>\n",
       "      <td>81</td>\n",
       "      <td>0</td>\n",
       "      <td>1</td>\n",
       "      <td>1</td>\n",
       "      <td>0</td>\n",
       "      <td>1</td>\n",
       "      <td>1</td>\n",
       "      <td>0</td>\n",
       "      <td>1</td>\n",
       "      <td>0</td>\n",
       "      <td>1</td>\n",
       "    </tr>\n",
       "    <tr>\n",
       "      <th>14</th>\n",
       "      <td>1</td>\n",
       "      <td>0</td>\n",
       "      <td>1</td>\n",
       "      <td>1</td>\n",
       "      <td>0</td>\n",
       "      <td>1</td>\n",
       "      <td>1</td>\n",
       "      <td>0</td>\n",
       "      <td>3</td>\n",
       "      <td>0</td>\n",
       "      <td>1</td>\n",
       "    </tr>\n",
       "    <tr>\n",
       "      <th>15</th>\n",
       "      <td>32</td>\n",
       "      <td>0</td>\n",
       "      <td>1</td>\n",
       "      <td>0</td>\n",
       "      <td>0</td>\n",
       "      <td>1</td>\n",
       "      <td>0</td>\n",
       "      <td>0</td>\n",
       "      <td>4</td>\n",
       "      <td>0</td>\n",
       "      <td>1</td>\n",
       "    </tr>\n",
       "    <tr>\n",
       "      <th>16</th>\n",
       "      <td>707</td>\n",
       "      <td>92</td>\n",
       "      <td>1</td>\n",
       "      <td>1</td>\n",
       "      <td>0</td>\n",
       "      <td>1</td>\n",
       "      <td>0</td>\n",
       "      <td>1</td>\n",
       "      <td>1</td>\n",
       "      <td>0</td>\n",
       "      <td>0</td>\n",
       "    </tr>\n",
       "    <tr>\n",
       "      <th>17</th>\n",
       "      <td>11</td>\n",
       "      <td>1</td>\n",
       "      <td>1</td>\n",
       "      <td>0</td>\n",
       "      <td>0</td>\n",
       "      <td>1</td>\n",
       "      <td>1</td>\n",
       "      <td>0</td>\n",
       "      <td>5</td>\n",
       "      <td>0</td>\n",
       "      <td>0</td>\n",
       "    </tr>\n",
       "    <tr>\n",
       "      <th>18</th>\n",
       "      <td>36</td>\n",
       "      <td>1</td>\n",
       "      <td>1</td>\n",
       "      <td>1</td>\n",
       "      <td>0</td>\n",
       "      <td>1</td>\n",
       "      <td>1</td>\n",
       "      <td>0</td>\n",
       "      <td>4</td>\n",
       "      <td>0</td>\n",
       "      <td>0</td>\n",
       "    </tr>\n",
       "    <tr>\n",
       "      <th>19</th>\n",
       "      <td>2618</td>\n",
       "      <td>35</td>\n",
       "      <td>1</td>\n",
       "      <td>1</td>\n",
       "      <td>0</td>\n",
       "      <td>1</td>\n",
       "      <td>1</td>\n",
       "      <td>0</td>\n",
       "      <td>3</td>\n",
       "      <td>0</td>\n",
       "      <td>0</td>\n",
       "    </tr>\n",
       "  </tbody>\n",
       "</table>\n",
       "</div>"
      ],
      "text/plain": [
       "    ReputationAtPostCreation  OwnerUndeletedAnswerCountAtPostTime  \\\n",
       "0                        155                                   11   \n",
       "1                          1                                    0   \n",
       "2                        781                                   37   \n",
       "3                        538                                    0   \n",
       "4                         70                                    2   \n",
       "5                        176                                    0   \n",
       "6                       2657                                  161   \n",
       "7                         11                                    0   \n",
       "8                        202                                    4   \n",
       "9                         70                                    5   \n",
       "10                     27529                                 1561   \n",
       "11                       890                                    6   \n",
       "12                         3                                    2   \n",
       "13                        81                                    0   \n",
       "14                         1                                    0   \n",
       "15                        32                                    0   \n",
       "16                       707                                   92   \n",
       "17                        11                                    1   \n",
       "18                        36                                    1   \n",
       "19                      2618                                   35   \n",
       "\n",
       "    PostCreationDate_night  PostCreationDate_weekend  PostCreationDate_july  \\\n",
       "0                        1                         1                      0   \n",
       "1                        1                         1                      0   \n",
       "2                        1                         1                      1   \n",
       "3                        1                         1                      0   \n",
       "4                        1                         1                      0   \n",
       "5                        1                         1                      0   \n",
       "6                        1                         0                      0   \n",
       "7                        1                         1                      0   \n",
       "8                        1                         1                      0   \n",
       "9                        1                         1                      0   \n",
       "10                       1                         0                      1   \n",
       "11                       1                         1                      0   \n",
       "12                       1                         1                      0   \n",
       "13                       1                         1                      0   \n",
       "14                       1                         1                      0   \n",
       "15                       1                         0                      0   \n",
       "16                       1                         1                      0   \n",
       "17                       1                         0                      0   \n",
       "18                       1                         1                      0   \n",
       "19                       1                         1                      0   \n",
       "\n",
       "    OwnerCreationDate_night  OwnerCreationDate_weekend  \\\n",
       "0                         1                          1   \n",
       "1                         1                          1   \n",
       "2                         1                          1   \n",
       "3                         1                          1   \n",
       "4                         1                          1   \n",
       "5                         1                          1   \n",
       "6                         1                          1   \n",
       "7                         1                          1   \n",
       "8                         1                          1   \n",
       "9                         1                          1   \n",
       "10                        1                          1   \n",
       "11                        1                          1   \n",
       "12                        1                          1   \n",
       "13                        1                          1   \n",
       "14                        1                          1   \n",
       "15                        1                          0   \n",
       "16                        1                          0   \n",
       "17                        1                          1   \n",
       "18                        1                          1   \n",
       "19                        1                          1   \n",
       "\n",
       "    OwnerCreationDate_july  nb_tags  short_title  len_post_extreme  \n",
       "0                        0        3            0                 0  \n",
       "1                        0        4            0                 0  \n",
       "2                        1        4            0                 1  \n",
       "3                        1        3            0                 0  \n",
       "4                        0        2            0                 0  \n",
       "5                        0        1            1                 1  \n",
       "6                        0        3            0                 0  \n",
       "7                        0        3            0                 0  \n",
       "8                        0        2            0                 1  \n",
       "9                        0        5            0                 0  \n",
       "10                       0        3            0                 1  \n",
       "11                       0        3            0                 0  \n",
       "12                       0        5            0                 0  \n",
       "13                       0        1            0                 1  \n",
       "14                       0        3            0                 1  \n",
       "15                       0        4            0                 1  \n",
       "16                       1        1            0                 0  \n",
       "17                       0        5            0                 0  \n",
       "18                       0        4            0                 0  \n",
       "19                       0        3            0                 0  "
      ]
     },
     "execution_count": 60,
     "metadata": {},
     "output_type": "execute_result"
    }
   ],
   "source": [
    "# Create the X matrix\n",
    "X_test_num = test[numerical_features]\n",
    "X_test_num.head(20)"
   ]
  },
  {
   "cell_type": "markdown",
   "metadata": {},
   "source": [
    "(Please note that RandomizedSearchCV automatically fits the best model to the whole dataset: one can use it directly afterwards)"
   ]
  },
  {
   "cell_type": "code",
   "execution_count": 61,
   "metadata": {
    "collapsed": false
   },
   "outputs": [],
   "source": [
    "# Let's predict the class of the test data, with the model trained earlier.\n",
    "y_pred_num = rand_num.predict_proba(X_test_num)[:,1]"
   ]
  },
  {
   "cell_type": "code",
   "execution_count": 62,
   "metadata": {
    "collapsed": false
   },
   "outputs": [],
   "source": [
    "# Let's create a dataframe with the output\n",
    "output = pd.DataFrame({'id':X_test_num.index, 'OpenStatus':y_pred_num})"
   ]
  },
  {
   "cell_type": "code",
   "execution_count": 63,
   "metadata": {
    "collapsed": false
   },
   "outputs": [],
   "source": [
    "# Let's store the predictions into a submission.csv file\n",
    "output[['id','OpenStatus']].to_csv('./out/submission.csv', index=False)"
   ]
  },
  {
   "cell_type": "markdown",
   "metadata": {},
   "source": [
    "The best score obtained with such submissions (only numerical engineered features) was a log loss of 0.61224 for the public score and of 0.61210 for the private score."
   ]
  },
  {
   "cell_type": "markdown",
   "metadata": {
    "collapsed": true
   },
   "source": [
    "## 4) Learning on text features only <a class=\"anchor\" id=\"4-learning-on-text-features-only\"></a>"
   ]
  },
  {
   "cell_type": "markdown",
   "metadata": {},
   "source": [
    "Now, let's try to train a model based only on the text data, contained in the features *Title*, *BodyMarkdown* and the tags. The process will be to concatenate all this data, to vectorize it and to train a model on the resulting numerical data."
   ]
  },
  {
   "cell_type": "code",
   "execution_count": 64,
   "metadata": {
    "collapsed": true
   },
   "outputs": [],
   "source": [
    "from sklearn.feature_extraction.text import CountVectorizer\n",
    "from sklearn.pipeline import make_pipeline"
   ]
  },
  {
   "cell_type": "code",
   "execution_count": 65,
   "metadata": {
    "collapsed": false
   },
   "outputs": [
    {
     "data": {
      "text/plain": [
       "Index(['PostId', 'PostCreationDate', 'OwnerUserId', 'OwnerCreationDate',\n",
       "       'ReputationAtPostCreation', 'OwnerUndeletedAnswerCountAtPostTime',\n",
       "       'Title', 'BodyMarkdown', 'Tag1', 'Tag2', 'Tag3', 'Tag4', 'Tag5',\n",
       "       'PostClosedDate', 'OpenStatus', 'PostCreationDate_night',\n",
       "       'PostCreationDate_weekend', 'PostCreationDate_july',\n",
       "       'OwnerCreationDate_night', 'OwnerCreationDate_weekend',\n",
       "       'OwnerCreationDate_july', 'nb_tags', 'short_title', 'len_post_extreme'],\n",
       "      dtype='object')"
      ]
     },
     "execution_count": 65,
     "metadata": {},
     "output_type": "execute_result"
    }
   ],
   "source": [
    "train.columns"
   ]
  },
  {
   "cell_type": "code",
   "execution_count": 66,
   "metadata": {
    "collapsed": false
   },
   "outputs": [],
   "source": [
    "# Let's create a function which will concatenate the strings of the considered features, for a given dataset\n",
    "def create_text_feature(df):\n",
    "    \n",
    "    df['Text'] = df.Title.str.cat(df.BodyMarkdown, sep=' ')\n",
    "    df.Text = df.Text.str.cat(df.Tag1, sep=' ', na_rep='')\n",
    "    df.Text = df.Text.str.cat(df.Tag2, sep=' ', na_rep='')\n",
    "    df.Text = df.Text.str.cat(df.Tag3, sep=' ', na_rep='')\n",
    "    df.Text = df.Text.str.cat(df.Tag4, sep=' ', na_rep='')\n",
    "    df.Text = df.Text.str.cat(df.Tag5, sep=' ', na_rep='')\n",
    "\n",
    "    # Let's add the title another time (it was found to enhance prediction accuracy)\n",
    "    df.Text = df.Text.str.cat(df.Title, sep=' ', na_rep='')\n",
    "    \n",
    "    # Return the dataframe with a newly added column: Text\n",
    "    return df"
   ]
  },
  {
   "cell_type": "code",
   "execution_count": 67,
   "metadata": {
    "collapsed": false
   },
   "outputs": [],
   "source": [
    "# Apply this new function to the train data\n",
    "train = create_text_feature(train)"
   ]
  },
  {
   "cell_type": "code",
   "execution_count": 68,
   "metadata": {
    "collapsed": false
   },
   "outputs": [
    {
     "data": {
      "text/plain": [
       "'How to insert schemalocation in a xml document via DOM i create a xml document with JAXP and search a way to insert the schemalocation.\\r\\nAt the moment my application produces:\\r\\n\\r\\n    <?xml version=\"1.0\" encoding=\"UTF-8\"?>\\r\\n    <root>\\r\\n    ...\\r\\n    </root>\\r\\n\\r\\nBut i need:\\r\\n\\r\\n    <?xml version=\"1.0\" encoding=\"UTF-8\"?>\\r\\n    <root xmlns=\"namespaceURL\" \\r\\n    xmlns:xs=\"http://www.w3.org/2001/XMLSchema-instance\"\\r\\n    xs:schemaLocation=\"namespaceURL pathToMySchema.xsd\">\\r\\n    ...\\r\\n    </root>\\r\\n\\r\\nMy code:\\r\\n\\r\\n    StreamResult result = new StreamResult(writer);\\r\\n    Document doc = getDocument();\\r\\n\\r\\n    Transformer trans = transfac.newTransformer();\\r\\n    trans.setOutputProperty(OutputKeys.INDENT, \"yes\");\\r\\n    trans.setOutputProperty(OutputKeys.METHOD, \"xml\");\\r\\n    trans.setOutputProperty(OutputKeys.VERSION, \"1.0\");\\r\\n    trans.setOutputProperty(OutputKeys.ENCODING, \"UTF-8\");\\r\\n\\r\\n    DOMSource source = new DOMSource(depl.getAsElement(doc));\\r\\n    trans.transform(source, result);\\r\\n\\r\\n\\r\\nThanks for your time,  \\r\\nKasten dom xsd jaxp   How to insert schemalocation in a xml document via DOM'"
      ]
     },
     "execution_count": 68,
     "metadata": {},
     "output_type": "execute_result"
    }
   ],
   "source": [
    "# Check out the resulting Text feature\n",
    "train.Text[1]"
   ]
  },
  {
   "cell_type": "code",
   "execution_count": 69,
   "metadata": {
    "collapsed": true
   },
   "outputs": [],
   "source": [
    "X_txt = train.Text\n",
    "y_txt = train.OpenStatus"
   ]
  },
  {
   "cell_type": "markdown",
   "metadata": {},
   "source": [
    "There is a specificity here, which could use to be explained. We cannot vectorize the data before splitting between test and train (because this would mean that text data from the testing set has be used in the learning phase).\n",
    "\n",
    "In order to use cross-validation properly, one need to split between train and set and then only vectorize on the train data only, and repeat this for every train/test combination.\n",
    "\n",
    "This can be done using pipelines, as follow:"
   ]
  },
  {
   "cell_type": "code",
   "execution_count": 70,
   "metadata": {
    "collapsed": false
   },
   "outputs": [],
   "source": [
    "vect_txt = CountVectorizer()\n",
    "logreg_txt = LogReg()\n",
    "\n",
    "# Creation of the pipeline\n",
    "pipe_txt = make_pipeline(vect_txt, logreg_txt)"
   ]
  },
  {
   "cell_type": "code",
   "execution_count": 71,
   "metadata": {
    "collapsed": false
   },
   "outputs": [],
   "source": [
    "# Instantiate the RandomizedSearchCV (using the pipeline as model)\n",
    "rand_param_txt = {'countvectorizer__min_df':[1,2,3],\n",
    "                  'countvectorizer__stop_words':[None,'english'],\n",
    "                  'countvectorizer__max_df':sp.stats.uniform(loc=0.1,scale=0.8),\n",
    "                  'logisticregression__penalty':['l1','l2'],\n",
    "                  'logisticregression__C':sp.stats.rayleigh()}\n",
    "rand_txt = RandomizedSearchCV(pipe_txt, rand_param_txt, n_iter=10, cv=5, scoring='log_loss')"
   ]
  },
  {
   "cell_type": "code",
   "execution_count": 72,
   "metadata": {
    "collapsed": false
   },
   "outputs": [
    {
     "name": "stdout",
     "output_type": "stream",
     "text": [
      "CPU times: user 54min 19s, sys: 1min 7s, total: 55min 26s\n",
      "Wall time: 40min 17s\n"
     ]
    },
    {
     "data": {
      "text/plain": [
       "RandomizedSearchCV(cv=5, error_score='raise',\n",
       "          estimator=Pipeline(steps=[('countvectorizer', CountVectorizer(analyzer='word', binary=False, decode_error='strict',\n",
       "        dtype=<class 'numpy.int64'>, encoding='utf-8', input='content',\n",
       "        lowercase=True, max_df=1.0, max_features=None, min_df=1,\n",
       "        ngram_range=(1, 1), preprocessor=None, stop_words=None,\n",
       "  ...ty='l2', random_state=None, solver='liblinear', tol=0.0001,\n",
       "          verbose=0, warm_start=False))]),\n",
       "          fit_params={}, iid=True, n_iter=10, n_jobs=1,\n",
       "          param_distributions={'logisticregression__C': <scipy.stats._distn_infrastructure.rv_frozen object at 0x146070550>, 'countvectorizer__min_df': [1, 2, 3], 'countvectorizer__stop_words': [None, 'english'], 'countvectorizer__max_df': <scipy.stats._distn_infrastructure.rv_frozen object at 0x134a83fd0>, 'logisticregression__penalty': ['l1', 'l2']},\n",
       "          pre_dispatch='2*n_jobs', random_state=None, refit=True,\n",
       "          scoring='log_loss', verbose=0)"
      ]
     },
     "execution_count": 72,
     "metadata": {},
     "output_type": "execute_result"
    }
   ],
   "source": [
    "# Fit the RandomizedSearchCV\n",
    "%time rand_txt.fit(X_txt,y_txt)"
   ]
  },
  {
   "cell_type": "code",
   "execution_count": 73,
   "metadata": {
    "collapsed": false
   },
   "outputs": [
    {
     "name": "stdout",
     "output_type": "stream",
     "text": [
      "-0.626133894413  —  {'logisticregression__C': 0.96553416066375441, 'countvectorizer__min_df': 3, 'countvectorizer__stop_words': 'english', 'countvectorizer__max_df': 0.31756656628169244, 'logisticregression__penalty': 'l2'}\n"
     ]
    }
   ],
   "source": [
    "# Print the best score obtained\n",
    "print(rand_txt.best_score_, ' — ', rand_txt.best_params_)"
   ]
  },
  {
   "cell_type": "code",
   "execution_count": 74,
   "metadata": {
    "collapsed": false
   },
   "outputs": [
    {
     "data": {
      "text/plain": [
       "{'countvectorizer__max_df': 0.31756656628169244,\n",
       " 'countvectorizer__min_df': 3,\n",
       " 'countvectorizer__stop_words': 'english',\n",
       " 'logisticregression__C': 0.96553416066375441,\n",
       " 'logisticregression__penalty': 'l2'}"
      ]
     },
     "execution_count": 74,
     "metadata": {},
     "output_type": "execute_result"
    }
   ],
   "source": [
    "# Check out the best parameters\n",
    "rand_txt.best_params_"
   ]
  },
  {
   "cell_type": "markdown",
   "metadata": {},
   "source": [
    "It's done! Now we apply our best model to the test set and export to CSV. (Please note that RandomizedSearchCV automatically fits the best model to the whole dataset: one can use it directly afterwards)"
   ]
  },
  {
   "cell_type": "code",
   "execution_count": 75,
   "metadata": {
    "collapsed": true
   },
   "outputs": [],
   "source": [
    "# Create Text feature on the test set\n",
    "test = create_text_feature(test)"
   ]
  },
  {
   "cell_type": "code",
   "execution_count": 76,
   "metadata": {
    "collapsed": false
   },
   "outputs": [],
   "source": [
    "# Create X matrix for the test set and predict the classes for the test set\n",
    "X_test_txt = test.Text\n",
    "y_pred_txt = rand_txt.predict_proba(X_test_txt)[:,1]"
   ]
  },
  {
   "cell_type": "code",
   "execution_count": 77,
   "metadata": {
    "collapsed": false
   },
   "outputs": [],
   "source": [
    "# Create an output dataframe\n",
    "output = pd.DataFrame({'id':X_test_txt.index, 'OpenStatus':y_pred_txt})"
   ]
  },
  {
   "cell_type": "code",
   "execution_count": 78,
   "metadata": {
    "collapsed": true
   },
   "outputs": [],
   "source": [
    "# Output the data into a submission.csv file\n",
    "output[['id','OpenStatus']].to_csv('./out/submission.csv', index=False)"
   ]
  },
  {
   "cell_type": "markdown",
   "metadata": {},
   "source": [
    "The best score obtained with such submissions (only text features) was a log loss of 0.53359 for the public score and of 0.53684 for the private score.\n",
    "\n",
    "This is much better than what was reached with numerical engineered features. The objective would now be to combine both text features and numerical engineered features to try to have predictions better than both taken separately."
   ]
  },
  {
   "cell_type": "markdown",
   "metadata": {
    "collapsed": true
   },
   "source": [
    "## 5) Learning on both text and numerical features <a class=\"anchor\" id=\"5-learning-on-both-text-and-numerical-features\"></a>"
   ]
  },
  {
   "cell_type": "markdown",
   "metadata": {
    "collapsed": true
   },
   "source": [
    "### 5.a) Model Stacking"
   ]
  },
  {
   "cell_type": "markdown",
   "metadata": {},
   "source": [
    "The first approach is clearly the simplest one. I consists of making both models \"vote\". An easy way to do so is to use a weighed average of both predictions of models trained separately: the one with text data only and the one with numerical engineered data only.\n",
    "\n",
    "Several weigh can be tested, as shown below for three different weighs:"
   ]
  },
  {
   "cell_type": "code",
   "execution_count": 79,
   "metadata": {
    "collapsed": true
   },
   "outputs": [],
   "source": [
    "y_pred = (y_pred_txt + y_pred_num)/2\n",
    "output = pd.DataFrame({'id':X_test_txt.index, 'OpenStatus':y_pred})\n",
    "output[['id','OpenStatus']].to_csv('./out/stacking-1-1.csv', index=False)"
   ]
  },
  {
   "cell_type": "code",
   "execution_count": 80,
   "metadata": {
    "collapsed": true
   },
   "outputs": [],
   "source": [
    "y_pred = (2*y_pred_txt + y_pred_num)/3\n",
    "output = pd.DataFrame({'id':X_test_txt.index, 'OpenStatus':y_pred})\n",
    "output[['id','OpenStatus']].to_csv('./out/stacking-2-1.csv', index=False)"
   ]
  },
  {
   "cell_type": "code",
   "execution_count": 81,
   "metadata": {
    "collapsed": true
   },
   "outputs": [],
   "source": [
    "y_pred = (y_pred_txt + 2*y_pred_num)/3\n",
    "output = pd.DataFrame({'id':X_test_txt.index, 'OpenStatus':y_pred})\n",
    "output[['id','OpenStatus']].to_csv('./out/stacking-1-2.csv', index=False)"
   ]
  },
  {
   "cell_type": "markdown",
   "metadata": {},
   "source": [
    "The third of these three submissions significantly outperformed both independent models submissions, which proves that this approach does work.\n",
    "\n",
    "The best score obtained with such submissions was a log loss of 0.49649 for the public score and of 0.49839 for the private score."
   ]
  },
  {
   "cell_type": "markdown",
   "metadata": {
    "collapsed": true
   },
   "source": [
    "### 5.b) Text/Num Data Combination"
   ]
  },
  {
   "cell_type": "markdown",
   "metadata": {},
   "source": [
    "The second way to do it is much more complex to implement, even if it is as easy to understand: instead of training two models separately, one can concatenate the vectorized text dataset and the engineered features to learn on both at the same time.\n",
    "\n",
    "Where it gets tricky is that the document-term matrix obtained through vectorization is a sparse matrix, so it is not easy to concatenate with the original data. And even if there are some relatively simple methods to do so (using scipy), they do not work well with the rest of the sklearn functions (impossible to do cross-validation, grid-search, etc).\n",
    "\n",
    "There is one way to implement it so that it works perfectly with the rest of the sklearn flow, though: through pipelines and unions."
   ]
  },
  {
   "cell_type": "code",
   "execution_count": 82,
   "metadata": {
    "collapsed": true
   },
   "outputs": [],
   "source": [
    "from sklearn.pipeline import make_union\n",
    "from sklearn.preprocessing import FunctionTransformer"
   ]
  },
  {
   "cell_type": "markdown",
   "metadata": {},
   "source": [
    "The first step is to create two transformers, which will extract the relevant parts of the dataframe: the engineered new features on the one hand and the Text feature on the other hand."
   ]
  },
  {
   "cell_type": "code",
   "execution_count": 83,
   "metadata": {
    "collapsed": false
   },
   "outputs": [],
   "source": [
    "# Function returning new engineered features\n",
    "def get_new_features(df):\n",
    "    return df.loc[:,numerical_features]"
   ]
  },
  {
   "cell_type": "code",
   "execution_count": 84,
   "metadata": {
    "collapsed": false
   },
   "outputs": [
    {
     "data": {
      "text/html": [
       "<div>\n",
       "<table border=\"1\" class=\"dataframe\">\n",
       "  <thead>\n",
       "    <tr style=\"text-align: right;\">\n",
       "      <th></th>\n",
       "      <th>ReputationAtPostCreation</th>\n",
       "      <th>OwnerUndeletedAnswerCountAtPostTime</th>\n",
       "      <th>PostCreationDate_night</th>\n",
       "      <th>PostCreationDate_weekend</th>\n",
       "      <th>PostCreationDate_july</th>\n",
       "      <th>OwnerCreationDate_night</th>\n",
       "      <th>OwnerCreationDate_weekend</th>\n",
       "      <th>OwnerCreationDate_july</th>\n",
       "      <th>nb_tags</th>\n",
       "      <th>short_title</th>\n",
       "      <th>len_post_extreme</th>\n",
       "    </tr>\n",
       "  </thead>\n",
       "  <tbody>\n",
       "    <tr>\n",
       "      <th>0</th>\n",
       "      <td>1</td>\n",
       "      <td>2</td>\n",
       "      <td>1</td>\n",
       "      <td>1</td>\n",
       "      <td>0</td>\n",
       "      <td>1</td>\n",
       "      <td>1</td>\n",
       "      <td>0</td>\n",
       "      <td>1</td>\n",
       "      <td>0</td>\n",
       "      <td>0</td>\n",
       "    </tr>\n",
       "    <tr>\n",
       "      <th>1</th>\n",
       "      <td>192</td>\n",
       "      <td>24</td>\n",
       "      <td>1</td>\n",
       "      <td>1</td>\n",
       "      <td>0</td>\n",
       "      <td>1</td>\n",
       "      <td>1</td>\n",
       "      <td>0</td>\n",
       "      <td>3</td>\n",
       "      <td>0</td>\n",
       "      <td>0</td>\n",
       "    </tr>\n",
       "    <tr>\n",
       "      <th>2</th>\n",
       "      <td>1</td>\n",
       "      <td>0</td>\n",
       "      <td>1</td>\n",
       "      <td>1</td>\n",
       "      <td>1</td>\n",
       "      <td>1</td>\n",
       "      <td>1</td>\n",
       "      <td>1</td>\n",
       "      <td>3</td>\n",
       "      <td>1</td>\n",
       "      <td>1</td>\n",
       "    </tr>\n",
       "  </tbody>\n",
       "</table>\n",
       "</div>"
      ],
      "text/plain": [
       "   ReputationAtPostCreation  OwnerUndeletedAnswerCountAtPostTime  \\\n",
       "0                         1                                    2   \n",
       "1                       192                                   24   \n",
       "2                         1                                    0   \n",
       "\n",
       "   PostCreationDate_night  PostCreationDate_weekend  PostCreationDate_july  \\\n",
       "0                       1                         1                      0   \n",
       "1                       1                         1                      0   \n",
       "2                       1                         1                      1   \n",
       "\n",
       "   OwnerCreationDate_night  OwnerCreationDate_weekend  OwnerCreationDate_july  \\\n",
       "0                        1                          1                       0   \n",
       "1                        1                          1                       0   \n",
       "2                        1                          1                       1   \n",
       "\n",
       "   nb_tags  short_title  len_post_extreme  \n",
       "0        1            0                 0  \n",
       "1        3            0                 0  \n",
       "2        3            1                 1  "
      ]
     },
     "execution_count": 84,
     "metadata": {},
     "output_type": "execute_result"
    }
   ],
   "source": [
    "get_new_features(train).head(3)"
   ]
  },
  {
   "cell_type": "code",
   "execution_count": 85,
   "metadata": {
    "collapsed": true
   },
   "outputs": [],
   "source": [
    "# Creation of the transfomer associated with this function\n",
    "get_new_features_ft = FunctionTransformer(get_new_features, validate=False)"
   ]
  },
  {
   "cell_type": "code",
   "execution_count": 86,
   "metadata": {
    "collapsed": false
   },
   "outputs": [
    {
     "data": {
      "text/html": [
       "<div>\n",
       "<table border=\"1\" class=\"dataframe\">\n",
       "  <thead>\n",
       "    <tr style=\"text-align: right;\">\n",
       "      <th></th>\n",
       "      <th>ReputationAtPostCreation</th>\n",
       "      <th>OwnerUndeletedAnswerCountAtPostTime</th>\n",
       "      <th>PostCreationDate_night</th>\n",
       "      <th>PostCreationDate_weekend</th>\n",
       "      <th>PostCreationDate_july</th>\n",
       "      <th>OwnerCreationDate_night</th>\n",
       "      <th>OwnerCreationDate_weekend</th>\n",
       "      <th>OwnerCreationDate_july</th>\n",
       "      <th>nb_tags</th>\n",
       "      <th>short_title</th>\n",
       "      <th>len_post_extreme</th>\n",
       "    </tr>\n",
       "  </thead>\n",
       "  <tbody>\n",
       "    <tr>\n",
       "      <th>0</th>\n",
       "      <td>1</td>\n",
       "      <td>2</td>\n",
       "      <td>1</td>\n",
       "      <td>1</td>\n",
       "      <td>0</td>\n",
       "      <td>1</td>\n",
       "      <td>1</td>\n",
       "      <td>0</td>\n",
       "      <td>1</td>\n",
       "      <td>0</td>\n",
       "      <td>0</td>\n",
       "    </tr>\n",
       "    <tr>\n",
       "      <th>1</th>\n",
       "      <td>192</td>\n",
       "      <td>24</td>\n",
       "      <td>1</td>\n",
       "      <td>1</td>\n",
       "      <td>0</td>\n",
       "      <td>1</td>\n",
       "      <td>1</td>\n",
       "      <td>0</td>\n",
       "      <td>3</td>\n",
       "      <td>0</td>\n",
       "      <td>0</td>\n",
       "    </tr>\n",
       "    <tr>\n",
       "      <th>2</th>\n",
       "      <td>1</td>\n",
       "      <td>0</td>\n",
       "      <td>1</td>\n",
       "      <td>1</td>\n",
       "      <td>1</td>\n",
       "      <td>1</td>\n",
       "      <td>1</td>\n",
       "      <td>1</td>\n",
       "      <td>3</td>\n",
       "      <td>1</td>\n",
       "      <td>1</td>\n",
       "    </tr>\n",
       "  </tbody>\n",
       "</table>\n",
       "</div>"
      ],
      "text/plain": [
       "   ReputationAtPostCreation  OwnerUndeletedAnswerCountAtPostTime  \\\n",
       "0                         1                                    2   \n",
       "1                       192                                   24   \n",
       "2                         1                                    0   \n",
       "\n",
       "   PostCreationDate_night  PostCreationDate_weekend  PostCreationDate_july  \\\n",
       "0                       1                         1                      0   \n",
       "1                       1                         1                      0   \n",
       "2                       1                         1                      1   \n",
       "\n",
       "   OwnerCreationDate_night  OwnerCreationDate_weekend  OwnerCreationDate_july  \\\n",
       "0                        1                          1                       0   \n",
       "1                        1                          1                       0   \n",
       "2                        1                          1                       1   \n",
       "\n",
       "   nb_tags  short_title  len_post_extreme  \n",
       "0        1            0                 0  \n",
       "1        3            0                 0  \n",
       "2        3            1                 1  "
      ]
     },
     "execution_count": 86,
     "metadata": {},
     "output_type": "execute_result"
    }
   ],
   "source": [
    "get_new_features_ft.transform(train).head(3)"
   ]
  },
  {
   "cell_type": "code",
   "execution_count": 87,
   "metadata": {
    "collapsed": true
   },
   "outputs": [],
   "source": [
    "# Function returning grouped text feature\n",
    "def get_text_feature(df):\n",
    "    return df.Text"
   ]
  },
  {
   "cell_type": "code",
   "execution_count": 88,
   "metadata": {
    "collapsed": false
   },
   "outputs": [
    {
     "data": {
      "text/plain": [
       "0    For Mongodb is it better to reference an objec...\n",
       "1    How to insert schemalocation in a xml document...\n",
       "2    Too many lookup tables  What are the adverse e...\n",
       "Name: Text, dtype: object"
      ]
     },
     "execution_count": 88,
     "metadata": {},
     "output_type": "execute_result"
    }
   ],
   "source": [
    "get_text_feature(train).head(3)"
   ]
  },
  {
   "cell_type": "code",
   "execution_count": 89,
   "metadata": {
    "collapsed": true
   },
   "outputs": [],
   "source": [
    "# Creation of the transfomer associated with this function\n",
    "get_text_feature_ft = FunctionTransformer(get_text_feature, validate=False)"
   ]
  },
  {
   "cell_type": "code",
   "execution_count": 90,
   "metadata": {
    "collapsed": false
   },
   "outputs": [
    {
     "data": {
      "text/plain": [
       "0    For Mongodb is it better to reference an objec...\n",
       "1    How to insert schemalocation in a xml document...\n",
       "2    Too many lookup tables  What are the adverse e...\n",
       "Name: Text, dtype: object"
      ]
     },
     "execution_count": 90,
     "metadata": {},
     "output_type": "execute_result"
    }
   ],
   "source": [
    "get_text_feature_ft.transform(train).head(3)"
   ]
  },
  {
   "cell_type": "markdown",
   "metadata": {},
   "source": [
    "The second step us create a union. This will enable us to run both data preparation separately and concatenate horizontaly the result, so that we can learn in the same time on the data coming from feature engineer and vectorized from the text."
   ]
  },
  {
   "cell_type": "code",
   "execution_count": 91,
   "metadata": {
    "collapsed": true
   },
   "outputs": [],
   "source": [
    "vect_ft = CountVectorizer()\n",
    "logreg_ft = LogReg()"
   ]
  },
  {
   "cell_type": "code",
   "execution_count": 92,
   "metadata": {
    "collapsed": true
   },
   "outputs": [],
   "source": [
    "union_ft = make_union(get_new_features_ft, make_pipeline(get_text_feature_ft, vect_ft))\n",
    "pipe_ft = make_pipeline(union_ft, logreg_ft)"
   ]
  },
  {
   "cell_type": "code",
   "execution_count": 93,
   "metadata": {
    "collapsed": false
   },
   "outputs": [
    {
     "data": {
      "text/plain": [
       "{'featureunion': FeatureUnion(n_jobs=1,\n",
       "        transformer_list=[('functiontransformer', FunctionTransformer(accept_sparse=False,\n",
       "           func=<function get_new_features at 0x121ba41e0>, pass_y=False,\n",
       "           validate=False)), ('pipeline', Pipeline(steps=[('functiontransformer', FunctionTransformer(accept_sparse=False,\n",
       "           func=<functi...strip_accents=None, token_pattern='(?u)\\\\b\\\\w\\\\w+\\\\b',\n",
       "         tokenizer=None, vocabulary=None))]))],\n",
       "        transformer_weights=None),\n",
       " 'logisticregression': LogisticRegression(C=1.0, class_weight=None, dual=False, fit_intercept=True,\n",
       "           intercept_scaling=1, max_iter=100, multi_class='ovr', n_jobs=1,\n",
       "           penalty='l2', random_state=None, solver='liblinear', tol=0.0001,\n",
       "           verbose=0, warm_start=False)}"
      ]
     },
     "execution_count": 93,
     "metadata": {},
     "output_type": "execute_result"
    }
   ],
   "source": [
    "pipe_ft.named_steps"
   ]
  },
  {
   "cell_type": "code",
   "execution_count": 94,
   "metadata": {
    "collapsed": false
   },
   "outputs": [],
   "source": [
    "# Instantiate the RandomizedSearchCV\n",
    "param_grid_ft = {'logisticregression__C':sp.stats.rayleigh(),\n",
    "                 'logisticregression__penalty':['l1', 'l2'],\n",
    "                 'featureunion__pipeline__countvectorizer__min_df':[1,2,3],\n",
    "                 'featureunion__pipeline__countvectorizer__stop_words':[None],\n",
    "                 'featureunion__pipeline__countvectorizer__max_df':sp.stats.uniform(loc=0.1,scale=0.8)}\n",
    "rand_ft = RandomizedSearchCV(pipe_ft, param_distributions=param_grid_ft, cv=5, n_iter=10, scoring='log_loss')"
   ]
  },
  {
   "cell_type": "code",
   "execution_count": 95,
   "metadata": {
    "collapsed": false
   },
   "outputs": [
    {
     "name": "stdout",
     "output_type": "stream",
     "text": [
      "CPU times: user 40min 33s, sys: 54.6 s, total: 41min 28s\n",
      "Wall time: 8h 27min 29s\n"
     ]
    },
    {
     "data": {
      "text/plain": [
       "RandomizedSearchCV(cv=5, error_score='raise',\n",
       "          estimator=Pipeline(steps=[('featureunion', FeatureUnion(n_jobs=1,\n",
       "       transformer_list=[('functiontransformer', FunctionTransformer(accept_sparse=False,\n",
       "          func=<function get_new_features at 0x121ba41e0>, pass_y=False,\n",
       "          validate=False)), ('pipeline', Pipeline(steps=[('functiontransformer', FunctionT...ty='l2', random_state=None, solver='liblinear', tol=0.0001,\n",
       "          verbose=0, warm_start=False))]),\n",
       "          fit_params={}, iid=True, n_iter=10, n_jobs=1,\n",
       "          param_distributions={'logisticregression__C': <scipy.stats._distn_infrastructure.rv_frozen object at 0x1236c3198>, 'featureunion__pipeline__countvectorizer__stop_words': [None], 'featureunion__pipeline__countvectorizer__min_df': [1, 2, 3], 'featureunion__pipeline__countvectorizer__max_df': <scipy.stats._distn_infrastructure.rv_frozen object at 0x1236c3eb8>, 'logisticregression__penalty': ['l1', 'l2']},\n",
       "          pre_dispatch='2*n_jobs', random_state=None, refit=True,\n",
       "          scoring='log_loss', verbose=0)"
      ]
     },
     "execution_count": 95,
     "metadata": {},
     "output_type": "execute_result"
    }
   ],
   "source": [
    "# Fit RandomizedSearchCV\n",
    "%time rand_ft.fit(train, train.OpenStatus)"
   ]
  },
  {
   "cell_type": "code",
   "execution_count": 96,
   "metadata": {
    "collapsed": false
   },
   "outputs": [
    {
     "name": "stdout",
     "output_type": "stream",
     "text": [
      "-0.524851373936  —  {'logisticregression__C': 0.75633607778270662, 'featureunion__pipeline__countvectorizer__stop_words': None, 'featureunion__pipeline__countvectorizer__min_df': 2, 'featureunion__pipeline__countvectorizer__max_df': 0.8485902074626456, 'logisticregression__penalty': 'l2'}\n"
     ]
    }
   ],
   "source": [
    "# Print best results\n",
    "print(rand_ft.best_score_, ' — ', rand_ft.best_params_)"
   ]
  },
  {
   "cell_type": "code",
   "execution_count": 97,
   "metadata": {
    "collapsed": true
   },
   "outputs": [],
   "source": [
    "# Predict for the test set\n",
    "test = create_text_feature(test)\n",
    "y_pred_ft = rand_ft.predict_proba(test)[:,1]"
   ]
  },
  {
   "cell_type": "code",
   "execution_count": 98,
   "metadata": {
    "collapsed": true
   },
   "outputs": [],
   "source": [
    "# Create a dataframe for the predictions\n",
    "output = pd.DataFrame({'id':test.PostId, 'OpenStatus':y_pred_ft})"
   ]
  },
  {
   "cell_type": "code",
   "execution_count": 99,
   "metadata": {
    "collapsed": true
   },
   "outputs": [],
   "source": [
    "# Create the submission.csv file\n",
    "output[['id','OpenStatus']].to_csv('./out/submission.csv', index=False)"
   ]
  },
  {
   "cell_type": "markdown",
   "metadata": {
    "collapsed": true
   },
   "source": [
    "The best results were reached with this model. The best score obtained with such submissions was a log loss of 0.46281 for the public score and of 0.46369 for the private score.\n",
    "\n",
    "So in this case, our best score was reached combining both text and numerical data into one dataset and training a model on this resulting dataset."
   ]
  }
 ],
 "metadata": {
  "kernelspec": {
   "display_name": "Python 3",
   "language": "python",
   "name": "python3"
  },
  "language_info": {
   "codemirror_mode": {
    "name": "ipython",
    "version": 3.0
   },
   "file_extension": ".py",
   "mimetype": "text/x-python",
   "name": "python",
   "nbconvert_exporter": "python",
   "pygments_lexer": "ipython3",
   "version": "3.5.1"
  }
 },
 "nbformat": 4,
 "nbformat_minor": 0
}