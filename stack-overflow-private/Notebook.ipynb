{
 "cells": [
  {
   "cell_type": "markdown",
   "metadata": {},
   "source": [
    "# Kaggle Competition: Stack Overflow Closed Discussions"
   ]
  },
  {
   "cell_type": "markdown",
   "metadata": {},
   "source": [
    "Currently about 6% of all new questions on Stack Overflow end up \"closed\". Questions can be closed as off-topic, not constructive, not a real question, or too localized. Your goal is to build a classifier that predicts whether or not a question will be closed given the question as submitted. Additional data about the user at question creation time is also available."
   ]
  },
  {
   "cell_type": "markdown",
   "metadata": {},
   "source": [
    "## 1. Reading the data"
   ]
  },
  {
   "cell_type": "markdown",
   "metadata": {},
   "source": [
    "Let's load the data, go through it and prepare it a little."
   ]
  },
  {
   "cell_type": "code",
   "execution_count": null,
   "metadata": {
    "collapsed": true
   },
   "outputs": [],
   "source": [
    "import pandas as pd"
   ]
  },
  {
   "cell_type": "code",
   "execution_count": null,
   "metadata": {
    "collapsed": false
   },
   "outputs": [],
   "source": [
    "train = pd.read_csv('./data/train.csv', index_col=0)"
   ]
  },
  {
   "cell_type": "code",
   "execution_count": null,
   "metadata": {
    "collapsed": false
   },
   "outputs": [],
   "source": [
    "train.head()"
   ]
  },
  {
   "cell_type": "code",
   "execution_count": null,
   "metadata": {
    "collapsed": false
   },
   "outputs": [],
   "source": [
    "# Shape of the train set\n",
    "train.shape"
   ]
  },
  {
   "cell_type": "code",
   "execution_count": null,
   "metadata": {
    "collapsed": false
   },
   "outputs": [],
   "source": [
    "# Balance of the train set\n",
    "train.OpenStatus.value_counts()"
   ]
  },
  {
   "cell_type": "markdown",
   "metadata": {},
   "source": [
    "The dataset is perfectly balanced. That's going to be convenient."
   ]
  },
  {
   "cell_type": "code",
   "execution_count": null,
   "metadata": {
    "collapsed": false
   },
   "outputs": [],
   "source": [
    "# Types of the train set\n",
    "train.dtypes"
   ]
  },
  {
   "cell_type": "code",
   "execution_count": null,
   "metadata": {
    "collapsed": false
   },
   "outputs": [],
   "source": [
    "# Dates columns to datetime format\n",
    "train.PostCreationDate = pd.to_datetime(train.PostCreationDate)\n",
    "train.OwnerCreationDate = pd.to_datetime(train.OwnerCreationDate)\n",
    "# train.PostClosedDate = pd.to_datetime(train.PostClosedDate)  -- will be dropped afterwards"
   ]
  },
  {
   "cell_type": "code",
   "execution_count": null,
   "metadata": {
    "collapsed": false
   },
   "outputs": [],
   "source": [
    "# Missing values\n",
    "train.isnull().sum()"
   ]
  },
  {
   "cell_type": "markdown",
   "metadata": {},
   "source": [
    "PostClosedDate has as many missing values as open posts, which is pretty logical. This column is the only one which we will not use, for two reasons. First, it contains \"future information\", i.e. information which will not be available on the test set. Then, the only other information it contains is the date of closing, which coes not interest us.\n",
    "\n",
    "Other that that, only tags contain missing values, which is also going to be convenient."
   ]
  },
  {
   "cell_type": "code",
   "execution_count": null,
   "metadata": {
    "collapsed": false
   },
   "outputs": [],
   "source": [
    "# Removing PostClosedDate\n",
    "train = train.drop('PostClosedDate', axis=1)"
   ]
  },
  {
   "cell_type": "code",
   "execution_count": null,
   "metadata": {
    "collapsed": false
   },
   "outputs": [],
   "source": [
    "# Closer look at the timeframes considered\n",
    "print('Min post creation date: ', train.PostCreationDate.min())\n",
    "print('Max post creation date: ', train.PostCreationDate.max())\n",
    "print('Min owner creation date: ', train.OwnerCreationDate.min())\n",
    "print('Max owner creation date: ', train.OwnerCreationDate.max())"
   ]
  },
  {
   "cell_type": "markdown",
   "metadata": {},
   "source": [
    "## 2. Feature Engineering"
   ]
  },
  {
   "cell_type": "markdown",
   "metadata": {},
   "source": [
    "In this step we are trying to create new numeric columns which might be helpful to train our model predict the closure of a post."
   ]
  },
  {
   "cell_type": "code",
   "execution_count": null,
   "metadata": {
    "collapsed": true
   },
   "outputs": [],
   "source": [
    "%matplotlib inline"
   ]
  },
  {
   "cell_type": "markdown",
   "metadata": {},
   "source": [
    "### 2.a) Post Creation Date features"
   ]
  },
  {
   "cell_type": "code",
   "execution_count": null,
   "metadata": {
    "collapsed": true
   },
   "outputs": [],
   "source": [
    "# Post Creation time values\n",
    "train['PostCreationDate_hour'] = train.PostCreationDate.dt.hour\n",
    "train['PostCreationDate_day'] = train.PostCreationDate.dt.dayofweek\n",
    "train['PostCreationDate_month'] = train.PostCreationDate.dt.month\n",
    "train['PostCreationDate_year'] = train.PostCreationDate.dt.year"
   ]
  },
  {
   "cell_type": "code",
   "execution_count": null,
   "metadata": {
    "collapsed": false
   },
   "outputs": [],
   "source": [
    "train.head()"
   ]
  },
  {
   "cell_type": "markdown",
   "metadata": {},
   "source": [
    "Let us now check one by one these new features and check if some of them seem to be good at predicting OpenStatus. To do so, we look at the mean of OpenStatus, grouping by every of these features. This gives us the probability of a post being Open, per hour/dayofweek/month/year."
   ]
  },
  {
   "cell_type": "code",
   "execution_count": null,
   "metadata": {
    "collapsed": false
   },
   "outputs": [],
   "source": [
    "train.groupby('PostCreationDate_hour').OpenStatus.mean().plot()"
   ]
  },
  {
   "cell_type": "markdown",
   "metadata": {},
   "source": [
    "One can notice that posts created in the night (hour 4 to 7) are less likely to be open."
   ]
  },
  {
   "cell_type": "code",
   "execution_count": null,
   "metadata": {
    "collapsed": false
   },
   "outputs": [],
   "source": [
    "train.groupby('PostCreationDate_day').OpenStatus.mean().plot()"
   ]
  },
  {
   "cell_type": "markdown",
   "metadata": {},
   "source": [
    "One can notice that posts created during the weekend (days 5 and 6) are less likely to be open."
   ]
  },
  {
   "cell_type": "code",
   "execution_count": null,
   "metadata": {
    "collapsed": false
   },
   "outputs": [],
   "source": [
    "train.groupby('PostCreationDate_month').OpenStatus.mean().plot()"
   ]
  },
  {
   "cell_type": "markdown",
   "metadata": {},
   "source": [
    "One can notive that posts published in july are the most unlikely to be open."
   ]
  },
  {
   "cell_type": "code",
   "execution_count": null,
   "metadata": {
    "collapsed": false,
    "scrolled": true
   },
   "outputs": [],
   "source": [
    "train.groupby('PostCreationDate_year').OpenStatus.mean().plot()"
   ]
  },
  {
   "cell_type": "markdown",
   "metadata": {},
   "source": [
    "One can notice than oldest (2008) newest posts (at least 2011) are more likely to be closed than the others.\n",
    "\n",
    "**We can now create or new columns for post creation date, which will help us predict if a post is closed or not.**"
   ]
  },
  {
   "cell_type": "code",
   "execution_count": null,
   "metadata": {
    "collapsed": false
   },
   "outputs": [],
   "source": [
    "train['PostCreationDate_night'] = ((train.PostCreationDate_hour) >= 4 & (train.PostCreationDate_hour <= 7)).astype(int)\n",
    "train['PostCreationDate_weekend'] = ((train.PostCreationDate_day) >= 5 & (train.PostCreationDate_day <= 6)).astype(int)\n",
    "train['PostCreationDate_july'] = (train.PostCreationDate_month == 7).astype(int)\n",
    "train['PostCreationDate_recent'] = ((train.PostCreationDate_year >= 2011) | (train.PostCreationDate_year == 2008)).astype(int)"
   ]
  },
  {
   "cell_type": "code",
   "execution_count": null,
   "metadata": {
    "collapsed": false
   },
   "outputs": [],
   "source": [
    "train.head()"
   ]
  },
  {
   "cell_type": "markdown",
   "metadata": {},
   "source": [
    "### 2.b) Owner Creation Date features"
   ]
  },
  {
   "cell_type": "code",
   "execution_count": null,
   "metadata": {
    "collapsed": true
   },
   "outputs": [],
   "source": [
    "# Owner Creation time values\n",
    "train['OwnerCreationDate_hour'] = train.OwnerCreationDate.dt.hour\n",
    "train['OwnerCreationDate_day'] = train.OwnerCreationDate.dt.dayofweek\n",
    "train['OwnerCreationDate_month'] = train.OwnerCreationDate.dt.month\n",
    "train['OwnerCreationDate_year'] = train.OwnerCreationDate.dt.year"
   ]
  },
  {
   "cell_type": "code",
   "execution_count": null,
   "metadata": {
    "collapsed": false
   },
   "outputs": [],
   "source": [
    "train.tail()"
   ]
  },
  {
   "cell_type": "markdown",
   "metadata": {},
   "source": [
    "Let us now check one by one these new features and check if some of them seem to be good at predicting OpenStatus. We proceed exactly as in the section before."
   ]
  },
  {
   "cell_type": "code",
   "execution_count": null,
   "metadata": {
    "collapsed": false
   },
   "outputs": [],
   "source": [
    "train.groupby('OwnerCreationDate_hour').OpenStatus.mean().plot()"
   ]
  },
  {
   "cell_type": "markdown",
   "metadata": {},
   "source": [
    "One can notice that posts by owners created in the night (hour 4 to 6) are less likely to be open."
   ]
  },
  {
   "cell_type": "code",
   "execution_count": null,
   "metadata": {
    "collapsed": false
   },
   "outputs": [],
   "source": [
    "train.groupby('OwnerCreationDate_day').OpenStatus.mean().plot()"
   ]
  },
  {
   "cell_type": "markdown",
   "metadata": {},
   "source": [
    "One can notice that posts by owners created during the weekend (days 5 and 6) are less likely to be open."
   ]
  },
  {
   "cell_type": "code",
   "execution_count": null,
   "metadata": {
    "collapsed": false
   },
   "outputs": [],
   "source": [
    "train.groupby('OwnerCreationDate_month').OpenStatus.mean().plot()"
   ]
  },
  {
   "cell_type": "markdown",
   "metadata": {},
   "source": [
    "One can notive that posts by owners published in july are the most unlikely to be open."
   ]
  },
  {
   "cell_type": "code",
   "execution_count": null,
   "metadata": {
    "collapsed": false,
    "scrolled": true
   },
   "outputs": [],
   "source": [
    "train.groupby('OwnerCreationDate_year').OpenStatus.mean().plot()"
   ]
  },
  {
   "cell_type": "markdown",
   "metadata": {},
   "source": [
    "One can notice than posts by newest owners (at least 2011) are more likely to be closed than the others.\n",
    "\n",
    "**We can now create or new columns for owner creation date, which will help us predict if a post is closed or not.**"
   ]
  },
  {
   "cell_type": "code",
   "execution_count": null,
   "metadata": {
    "collapsed": false
   },
   "outputs": [],
   "source": [
    "train['OwnerCreationDate_night'] = ((train.OwnerCreationDate_hour) >= 4 & (train.OwnerCreationDate_hour <= 6)).astype(int)\n",
    "train['OwnerCreationDate_weekend'] = ((train.OwnerCreationDate_day) >= 5 & (train.OwnerCreationDate_day <= 6)).astype(int)\n",
    "train['OwnerCreationDate_july'] = (train.OwnerCreationDate_month == 7).astype(int)\n",
    "train['OwnerCreationDate_recent'] = (train.OwnerCreationDate_year >= 2011).astype(int)"
   ]
  },
  {
   "cell_type": "markdown",
   "metadata": {},
   "source": [
    "### 2.c) Number of tags"
   ]
  },
  {
   "cell_type": "code",
   "execution_count": null,
   "metadata": {
    "collapsed": true
   },
   "outputs": [],
   "source": [
    "tags = ['Tag1', 'Tag2', 'Tag3', 'Tag4', 'Tag5']\n",
    "train['nb_tags'] = 5 - train[tags].isnull().sum(axis=1)"
   ]
  },
  {
   "cell_type": "code",
   "execution_count": null,
   "metadata": {
    "collapsed": false
   },
   "outputs": [],
   "source": [
    "train[tags + ['nb_tags']].tail()"
   ]
  },
  {
   "cell_type": "code",
   "execution_count": null,
   "metadata": {
    "collapsed": false
   },
   "outputs": [],
   "source": [
    "train.groupby('nb_tags').OpenStatus.mean()"
   ]
  },
  {
   "cell_type": "markdown",
   "metadata": {},
   "source": [
    "One can see that the lower the number of tags, the higher the likelyhood of being closed. This feature might thus be useful in the future."
   ]
  },
  {
   "cell_type": "markdown",
   "metadata": {},
   "source": [
    "### 2.d) Length of title"
   ]
  },
  {
   "cell_type": "code",
   "execution_count": null,
   "metadata": {
    "collapsed": false
   },
   "outputs": [],
   "source": [
    "train['len_title'] = ((train.Title.str.len())//5)*5\n",
    "train.groupby('len_title').OpenStatus.mean()"
   ]
  },
  {
   "cell_type": "markdown",
   "metadata": {},
   "source": [
    "One can notice that very short titles have a high probability of being closed. Let us set a threshold at 20."
   ]
  },
  {
   "cell_type": "code",
   "execution_count": null,
   "metadata": {
    "collapsed": false
   },
   "outputs": [],
   "source": [
    "train['short_title'] = (train.Title.str.len() < 25).astype(int)\n",
    "train.short_title.value_counts()"
   ]
  },
  {
   "cell_type": "markdown",
   "metadata": {},
   "source": [
    "Around 10% of the posts are among the short-titled posts."
   ]
  },
  {
   "cell_type": "markdown",
   "metadata": {},
   "source": [
    "### 2.e) Length of post"
   ]
  },
  {
   "cell_type": "code",
   "execution_count": null,
   "metadata": {
    "collapsed": true
   },
   "outputs": [],
   "source": [
    "import numpy as np"
   ]
  },
  {
   "cell_type": "code",
   "execution_count": null,
   "metadata": {
    "collapsed": false
   },
   "outputs": [],
   "source": [
    "train['len_post'] = train.BodyMarkdown.str.len().apply(np.log).astype(int)\n",
    "train.groupby('len_post').OpenStatus.mean().plot()"
   ]
  },
  {
   "cell_type": "code",
   "execution_count": null,
   "metadata": {
    "collapsed": false
   },
   "outputs": [],
   "source": [
    "train.len_post.value_counts().sort_index()"
   ]
  },
  {
   "cell_type": "markdown",
   "metadata": {
    "collapsed": true
   },
   "source": [
    "One can notice that for the lowest and highest values of log(len(post)), the likelihood of being closed is much higher. Lets create a feature for taking this into account."
   ]
  },
  {
   "cell_type": "code",
   "execution_count": null,
   "metadata": {
    "collapsed": true
   },
   "outputs": [],
   "source": [
    "train['len_post_extreme'] = ((train.BodyMarkdown.str.len().apply(np.log) < 6) | (train.BodyMarkdown.str.len().apply(np.log) > 9)).astype(int)"
   ]
  },
  {
   "cell_type": "code",
   "execution_count": null,
   "metadata": {
    "collapsed": false
   },
   "outputs": [],
   "source": [
    "train[['len_post', 'len_post_extreme']].tail()"
   ]
  },
  {
   "cell_type": "markdown",
   "metadata": {},
   "source": [
    "### 2.f) Avg length of tags"
   ]
  },
  {
   "cell_type": "code",
   "execution_count": null,
   "metadata": {
    "collapsed": false
   },
   "outputs": [],
   "source": [
    "def get_len_tags(tags):\n",
    "    if str(tags[0]) == 'nan':\n",
    "        return 0\n",
    "    else:\n",
    "        return (np.mean([len(str(tag)) for tag in tags if str(tag) != 'nan'])//1)"
   ]
  },
  {
   "cell_type": "code",
   "execution_count": null,
   "metadata": {
    "collapsed": false,
    "scrolled": false
   },
   "outputs": [],
   "source": [
    "train['len_tags'] = train[tags].apply(get_len_tags, axis=1)"
   ]
  },
  {
   "cell_type": "code",
   "execution_count": null,
   "metadata": {
    "collapsed": false
   },
   "outputs": [],
   "source": [
    "train[tags + ['len_tags']].head()"
   ]
  },
  {
   "cell_type": "code",
   "execution_count": null,
   "metadata": {
    "collapsed": false
   },
   "outputs": [],
   "source": [
    "train.groupby('len_tags').OpenStatus.mean().plot()"
   ]
  },
  {
   "cell_type": "markdown",
   "metadata": {},
   "source": [
    "It does not seem that this feature is very predictive of the status of the post."
   ]
  },
  {
   "cell_type": "markdown",
   "metadata": {},
   "source": [
    "### 2.g) Number of posts of the author"
   ]
  },
  {
   "cell_type": "code",
   "execution_count": null,
   "metadata": {
    "collapsed": false
   },
   "outputs": [],
   "source": [
    "nb_posts_author = train.groupby('OwnerUserId').OwnerUserId.count()"
   ]
  },
  {
   "cell_type": "code",
   "execution_count": null,
   "metadata": {
    "collapsed": false
   },
   "outputs": [],
   "source": [
    "train['nb_posts_author'] = (train.OwnerUserId.apply(lambda OwnerUserId: nb_posts_author[OwnerUserId]))"
   ]
  },
  {
   "cell_type": "code",
   "execution_count": null,
   "metadata": {
    "collapsed": false
   },
   "outputs": [],
   "source": [
    "train.groupby('nb_posts_author').OpenStatus.mean().plot()"
   ]
  },
  {
   "cell_type": "code",
   "execution_count": null,
   "metadata": {
    "collapsed": false
   },
   "outputs": [],
   "source": [
    "train.nb_posts_author.value_counts()"
   ]
  },
  {
   "cell_type": "markdown",
   "metadata": {},
   "source": [
    "It does not seem that this feature is very predictive of the status of the post."
   ]
  },
  {
   "cell_type": "markdown",
   "metadata": {},
   "source": [
    "### 2.h) Number of closed posts of the author"
   ]
  },
  {
   "cell_type": "code",
   "execution_count": null,
   "metadata": {
    "collapsed": false
   },
   "outputs": [],
   "source": [
    "ClosedPosts = pd.concat([train.OwnerUserId, (train.OpenStatus == 0).astype(int)], axis=1).groupby('OwnerUserId').sum()\n",
    "ClosedPosts.columns=(['NumberOfClosedPostsAtSubmissionTime'])\n",
    "ClosedPosts['HasClosedPostsAtSubmissionTime'] = (ClosedPosts.NumberOfClosedPostsAtSubmissionTime > 0).astype(int)\n",
    "ClosedPosts.head()"
   ]
  },
  {
   "cell_type": "code",
   "execution_count": null,
   "metadata": {
    "collapsed": false
   },
   "outputs": [],
   "source": [
    "ClosedPosts.NumberOfClosedPostsAtSubmissionTime.value_counts()"
   ]
  },
  {
   "cell_type": "code",
   "execution_count": null,
   "metadata": {
    "collapsed": true
   },
   "outputs": [],
   "source": [
    "train['nb_closed_posts_author'] = train.OwnerUserId.apply(lambda x: ClosedPosts.NumberOfClosedPostsAtSubmissionTime[x] if x in ClosedPosts.index else 0)"
   ]
  },
  {
   "cell_type": "code",
   "execution_count": null,
   "metadata": {
    "collapsed": false
   },
   "outputs": [],
   "source": [
    "train.groupby('nb_closed_posts_author').OpenStatus.mean().plot()"
   ]
  },
  {
   "cell_type": "markdown",
   "metadata": {},
   "source": [
    "Let's separate those with at lease one closed post and those without."
   ]
  },
  {
   "cell_type": "code",
   "execution_count": null,
   "metadata": {
    "collapsed": false
   },
   "outputs": [],
   "source": [
    "train['has_closed_posts_author'] = train.OwnerUserId.apply(lambda x: ClosedPosts.HasClosedPostsAtSubmissionTime[x] if x in ClosedPosts.index else 0)"
   ]
  },
  {
   "cell_type": "code",
   "execution_count": null,
   "metadata": {
    "collapsed": false,
    "scrolled": true
   },
   "outputs": [],
   "source": [
    "train.groupby('has_closed_posts').OpenStatus.mean()"
   ]
  },
  {
   "cell_type": "markdown",
   "metadata": {
    "collapsed": true
   },
   "source": [
    "## 3) Learning on numerical features only"
   ]
  },
  {
   "cell_type": "markdown",
   "metadata": {},
   "source": [
    "### 3.a) Preparing train data"
   ]
  },
  {
   "cell_type": "code",
   "execution_count": 1,
   "metadata": {
    "collapsed": false
   },
   "outputs": [],
   "source": [
    "import pandas as pd\n",
    "import numpy as np\n",
    "\n",
    "train = pd.read_csv('./data/train.csv', index_col=0)\n",
    "train.PostCreationDate = pd.to_datetime(train.PostCreationDate)\n",
    "train.OwnerCreationDate = pd.to_datetime(train.OwnerCreationDate)"
   ]
  },
  {
   "cell_type": "code",
   "execution_count": 2,
   "metadata": {
    "collapsed": false
   },
   "outputs": [
    {
     "data": {
      "text/plain": [
       "Index(['PostId', 'PostCreationDate', 'OwnerUserId', 'OwnerCreationDate',\n",
       "       'ReputationAtPostCreation', 'OwnerUndeletedAnswerCountAtPostTime',\n",
       "       'Title', 'BodyMarkdown', 'Tag1', 'Tag2', 'Tag3', 'Tag4', 'Tag5',\n",
       "       'PostClosedDate', 'OpenStatus'],\n",
       "      dtype='object')"
      ]
     },
     "execution_count": 2,
     "metadata": {},
     "output_type": "execute_result"
    }
   ],
   "source": [
    "train.columns"
   ]
  },
  {
   "cell_type": "code",
   "execution_count": 3,
   "metadata": {
    "collapsed": false
   },
   "outputs": [
    {
     "data": {
      "text/html": [
       "<div>\n",
       "<table border=\"1\" class=\"dataframe\">\n",
       "  <thead>\n",
       "    <tr style=\"text-align: right;\">\n",
       "      <th></th>\n",
       "      <th>NumberOfClosedPostsAtSubmissionTime</th>\n",
       "      <th>HasClosedPostsAtSubmissionTime</th>\n",
       "    </tr>\n",
       "    <tr>\n",
       "      <th>OwnerUserId</th>\n",
       "      <th></th>\n",
       "      <th></th>\n",
       "    </tr>\n",
       "  </thead>\n",
       "  <tbody>\n",
       "    <tr>\n",
       "      <th>3</th>\n",
       "      <td>0</td>\n",
       "      <td>0</td>\n",
       "    </tr>\n",
       "    <tr>\n",
       "      <th>4</th>\n",
       "      <td>1</td>\n",
       "      <td>1</td>\n",
       "    </tr>\n",
       "    <tr>\n",
       "      <th>5</th>\n",
       "      <td>1</td>\n",
       "      <td>1</td>\n",
       "    </tr>\n",
       "    <tr>\n",
       "      <th>9</th>\n",
       "      <td>0</td>\n",
       "      <td>0</td>\n",
       "    </tr>\n",
       "    <tr>\n",
       "      <th>13</th>\n",
       "      <td>2</td>\n",
       "      <td>1</td>\n",
       "    </tr>\n",
       "  </tbody>\n",
       "</table>\n",
       "</div>"
      ],
      "text/plain": [
       "             NumberOfClosedPostsAtSubmissionTime  \\\n",
       "OwnerUserId                                        \n",
       "3                                              0   \n",
       "4                                              1   \n",
       "5                                              1   \n",
       "9                                              0   \n",
       "13                                             2   \n",
       "\n",
       "             HasClosedPostsAtSubmissionTime  \n",
       "OwnerUserId                                  \n",
       "3                                         0  \n",
       "4                                         1  \n",
       "5                                         1  \n",
       "9                                         0  \n",
       "13                                        1  "
      ]
     },
     "execution_count": 3,
     "metadata": {},
     "output_type": "execute_result"
    }
   ],
   "source": [
    "ClosedPosts = pd.concat([train.OwnerUserId, (train.OpenStatus == 0).astype(int)], axis=1).groupby('OwnerUserId').sum()\n",
    "ClosedPosts.columns=(['NumberOfClosedPostsAtSubmissionTime'])\n",
    "ClosedPosts['HasClosedPostsAtSubmissionTime'] = (ClosedPosts.NumberOfClosedPostsAtSubmissionTime > 0).astype(int)\n",
    "ClosedPosts.head()"
   ]
  },
  {
   "cell_type": "code",
   "execution_count": 4,
   "metadata": {
    "collapsed": false
   },
   "outputs": [],
   "source": [
    "def create_features(df):\n",
    "    \n",
    "    new_features = []\n",
    "    \n",
    "    # dates columns to datetime format\n",
    "    df.PostCreationDate = pd.to_datetime(train.PostCreationDate)\n",
    "    df.OwnerCreationDate = pd.to_datetime(train.OwnerCreationDate)\n",
    "    \n",
    "    # post dates features\n",
    "    df['PostCreationDate_night'] = ((df.PostCreationDate.dt.hour) >= 4 & (df.PostCreationDate.dt.hour <= 7)).astype(int)\n",
    "    df['PostCreationDate_weekend'] = ((df.PostCreationDate.dt.dayofweek) >= 5 & (df.PostCreationDate.dt.dayofweek <= 6)).astype(int)\n",
    "    df['PostCreationDate_july'] = (df.PostCreationDate.dt.month == 7).astype(int)\n",
    "    #df['PostCreationDate_recent'] = ((df.PostCreationDate.dt.year >= 2011) | (df.PostCreationDate.dt.year == 2008)).astype(int)\n",
    "    new_features += ['PostCreationDate_night', 'PostCreationDate_weekend', 'PostCreationDate_july']\n",
    "    \n",
    "    # owner dates features\n",
    "    df['OwnerCreationDate_night'] = ((df.OwnerCreationDate.dt.hour) >= 4 & (df.OwnerCreationDate.dt.hour <= 6)).astype(int)\n",
    "    df['OwnerCreationDate_weekend'] = ((df.OwnerCreationDate.dt.dayofweek) >= 5 & (df.OwnerCreationDate.dt.dayofweek <= 6)).astype(int)\n",
    "    df['OwnerCreationDate_july'] = (df.OwnerCreationDate.dt.month == 7).astype(int)\n",
    "    #df['OwnerCreationDate_recent'] = (df.OwnerCreationDate.dt.year >= 2011).astype(int)\n",
    "    new_features += ['OwnerCreationDate_night', 'OwnerCreationDate_weekend', 'OwnerCreationDate_july']\n",
    "    \n",
    "    # number of tags\n",
    "    tags = ['Tag1', 'Tag2', 'Tag3', 'Tag4', 'Tag5']\n",
    "    df['nb_tags'] = 5 - df[tags].isnull().sum(axis=1)\n",
    "    new_features += ['nb_tags']\n",
    "    \n",
    "    # length of title\n",
    "    df['short_title'] = (df.Title.str.len() < 25).astype(int)\n",
    "    new_features += ['short_title']\n",
    "    \n",
    "    # length of post\n",
    "    df['len_post_extreme'] = ((df.BodyMarkdown.str.len().apply(np.log) < 6) | (df.BodyMarkdown.str.len().apply(np.log) > 9)).astype(int)\n",
    "    new_features += ['len_post_extreme']\n",
    "    \n",
    "    # has the author closed posts at post submission\n",
    "    # df['has_closed_posts'] = df.OwnerUserId.apply(lambda x: ClosedPosts.HasClosedPostsAtSubmissionTime[x] if x in ClosedPosts.index else 0)\n",
    "    # new_features += ['has_closed_posts']\n",
    "    \n",
    "    return df, new_features"
   ]
  },
  {
   "cell_type": "code",
   "execution_count": 5,
   "metadata": {
    "collapsed": false
   },
   "outputs": [],
   "source": [
    "train, new_features = create_features(train)\n",
    "numerical_features = ['ReputationAtPostCreation', 'OwnerUndeletedAnswerCountAtPostTime'] + new_features"
   ]
  },
  {
   "cell_type": "code",
   "execution_count": 6,
   "metadata": {
    "collapsed": false
   },
   "outputs": [
    {
     "data": {
      "text/plain": [
       "['ReputationAtPostCreation',\n",
       " 'OwnerUndeletedAnswerCountAtPostTime',\n",
       " 'PostCreationDate_night',\n",
       " 'PostCreationDate_weekend',\n",
       " 'PostCreationDate_july',\n",
       " 'OwnerCreationDate_night',\n",
       " 'OwnerCreationDate_weekend',\n",
       " 'OwnerCreationDate_july',\n",
       " 'nb_tags',\n",
       " 'short_title',\n",
       " 'len_post_extreme']"
      ]
     },
     "execution_count": 6,
     "metadata": {},
     "output_type": "execute_result"
    }
   ],
   "source": [
    "numerical_features"
   ]
  },
  {
   "cell_type": "code",
   "execution_count": 7,
   "metadata": {
    "collapsed": true
   },
   "outputs": [],
   "source": [
    "X_num = train[numerical_features]\n",
    "y_num = train.OpenStatus"
   ]
  },
  {
   "cell_type": "code",
   "execution_count": 8,
   "metadata": {
    "collapsed": false
   },
   "outputs": [
    {
     "data": {
      "text/html": [
       "<div>\n",
       "<table border=\"1\" class=\"dataframe\">\n",
       "  <thead>\n",
       "    <tr style=\"text-align: right;\">\n",
       "      <th></th>\n",
       "      <th>ReputationAtPostCreation</th>\n",
       "      <th>OwnerUndeletedAnswerCountAtPostTime</th>\n",
       "      <th>PostCreationDate_night</th>\n",
       "      <th>PostCreationDate_weekend</th>\n",
       "      <th>PostCreationDate_july</th>\n",
       "      <th>OwnerCreationDate_night</th>\n",
       "      <th>OwnerCreationDate_weekend</th>\n",
       "      <th>OwnerCreationDate_july</th>\n",
       "      <th>nb_tags</th>\n",
       "      <th>short_title</th>\n",
       "      <th>len_post_extreme</th>\n",
       "    </tr>\n",
       "  </thead>\n",
       "  <tbody>\n",
       "    <tr>\n",
       "      <th>0</th>\n",
       "      <td>1</td>\n",
       "      <td>2</td>\n",
       "      <td>1</td>\n",
       "      <td>1</td>\n",
       "      <td>0</td>\n",
       "      <td>1</td>\n",
       "      <td>1</td>\n",
       "      <td>0</td>\n",
       "      <td>1</td>\n",
       "      <td>0</td>\n",
       "      <td>0</td>\n",
       "    </tr>\n",
       "    <tr>\n",
       "      <th>1</th>\n",
       "      <td>192</td>\n",
       "      <td>24</td>\n",
       "      <td>1</td>\n",
       "      <td>1</td>\n",
       "      <td>0</td>\n",
       "      <td>1</td>\n",
       "      <td>1</td>\n",
       "      <td>0</td>\n",
       "      <td>3</td>\n",
       "      <td>0</td>\n",
       "      <td>0</td>\n",
       "    </tr>\n",
       "    <tr>\n",
       "      <th>2</th>\n",
       "      <td>1</td>\n",
       "      <td>0</td>\n",
       "      <td>1</td>\n",
       "      <td>1</td>\n",
       "      <td>1</td>\n",
       "      <td>1</td>\n",
       "      <td>1</td>\n",
       "      <td>1</td>\n",
       "      <td>3</td>\n",
       "      <td>1</td>\n",
       "      <td>1</td>\n",
       "    </tr>\n",
       "    <tr>\n",
       "      <th>3</th>\n",
       "      <td>4</td>\n",
       "      <td>1</td>\n",
       "      <td>1</td>\n",
       "      <td>1</td>\n",
       "      <td>0</td>\n",
       "      <td>1</td>\n",
       "      <td>1</td>\n",
       "      <td>1</td>\n",
       "      <td>2</td>\n",
       "      <td>0</td>\n",
       "      <td>0</td>\n",
       "    </tr>\n",
       "    <tr>\n",
       "      <th>4</th>\n",
       "      <td>334</td>\n",
       "      <td>14</td>\n",
       "      <td>1</td>\n",
       "      <td>1</td>\n",
       "      <td>0</td>\n",
       "      <td>1</td>\n",
       "      <td>1</td>\n",
       "      <td>0</td>\n",
       "      <td>2</td>\n",
       "      <td>0</td>\n",
       "      <td>0</td>\n",
       "    </tr>\n",
       "    <tr>\n",
       "      <th>5</th>\n",
       "      <td>20</td>\n",
       "      <td>0</td>\n",
       "      <td>1</td>\n",
       "      <td>1</td>\n",
       "      <td>0</td>\n",
       "      <td>1</td>\n",
       "      <td>1</td>\n",
       "      <td>0</td>\n",
       "      <td>2</td>\n",
       "      <td>0</td>\n",
       "      <td>0</td>\n",
       "    </tr>\n",
       "    <tr>\n",
       "      <th>6</th>\n",
       "      <td>95</td>\n",
       "      <td>10</td>\n",
       "      <td>1</td>\n",
       "      <td>0</td>\n",
       "      <td>0</td>\n",
       "      <td>1</td>\n",
       "      <td>1</td>\n",
       "      <td>0</td>\n",
       "      <td>4</td>\n",
       "      <td>0</td>\n",
       "      <td>0</td>\n",
       "    </tr>\n",
       "    <tr>\n",
       "      <th>7</th>\n",
       "      <td>32</td>\n",
       "      <td>0</td>\n",
       "      <td>1</td>\n",
       "      <td>1</td>\n",
       "      <td>0</td>\n",
       "      <td>1</td>\n",
       "      <td>1</td>\n",
       "      <td>0</td>\n",
       "      <td>4</td>\n",
       "      <td>1</td>\n",
       "      <td>1</td>\n",
       "    </tr>\n",
       "    <tr>\n",
       "      <th>8</th>\n",
       "      <td>1</td>\n",
       "      <td>0</td>\n",
       "      <td>1</td>\n",
       "      <td>1</td>\n",
       "      <td>0</td>\n",
       "      <td>1</td>\n",
       "      <td>1</td>\n",
       "      <td>0</td>\n",
       "      <td>1</td>\n",
       "      <td>0</td>\n",
       "      <td>1</td>\n",
       "    </tr>\n",
       "    <tr>\n",
       "      <th>9</th>\n",
       "      <td>1</td>\n",
       "      <td>0</td>\n",
       "      <td>1</td>\n",
       "      <td>1</td>\n",
       "      <td>0</td>\n",
       "      <td>1</td>\n",
       "      <td>1</td>\n",
       "      <td>0</td>\n",
       "      <td>1</td>\n",
       "      <td>0</td>\n",
       "      <td>0</td>\n",
       "    </tr>\n",
       "  </tbody>\n",
       "</table>\n",
       "</div>"
      ],
      "text/plain": [
       "   ReputationAtPostCreation  OwnerUndeletedAnswerCountAtPostTime  \\\n",
       "0                         1                                    2   \n",
       "1                       192                                   24   \n",
       "2                         1                                    0   \n",
       "3                         4                                    1   \n",
       "4                       334                                   14   \n",
       "5                        20                                    0   \n",
       "6                        95                                   10   \n",
       "7                        32                                    0   \n",
       "8                         1                                    0   \n",
       "9                         1                                    0   \n",
       "\n",
       "   PostCreationDate_night  PostCreationDate_weekend  PostCreationDate_july  \\\n",
       "0                       1                         1                      0   \n",
       "1                       1                         1                      0   \n",
       "2                       1                         1                      1   \n",
       "3                       1                         1                      0   \n",
       "4                       1                         1                      0   \n",
       "5                       1                         1                      0   \n",
       "6                       1                         0                      0   \n",
       "7                       1                         1                      0   \n",
       "8                       1                         1                      0   \n",
       "9                       1                         1                      0   \n",
       "\n",
       "   OwnerCreationDate_night  OwnerCreationDate_weekend  OwnerCreationDate_july  \\\n",
       "0                        1                          1                       0   \n",
       "1                        1                          1                       0   \n",
       "2                        1                          1                       1   \n",
       "3                        1                          1                       1   \n",
       "4                        1                          1                       0   \n",
       "5                        1                          1                       0   \n",
       "6                        1                          1                       0   \n",
       "7                        1                          1                       0   \n",
       "8                        1                          1                       0   \n",
       "9                        1                          1                       0   \n",
       "\n",
       "   nb_tags  short_title  len_post_extreme  \n",
       "0        1            0                 0  \n",
       "1        3            0                 0  \n",
       "2        3            1                 1  \n",
       "3        2            0                 0  \n",
       "4        2            0                 0  \n",
       "5        2            0                 0  \n",
       "6        4            0                 0  \n",
       "7        4            1                 1  \n",
       "8        1            0                 1  \n",
       "9        1            0                 0  "
      ]
     },
     "execution_count": 8,
     "metadata": {},
     "output_type": "execute_result"
    }
   ],
   "source": [
    "X_num.head(10)"
   ]
  },
  {
   "cell_type": "markdown",
   "metadata": {},
   "source": [
    "### 3.b) Choosing a model"
   ]
  },
  {
   "cell_type": "code",
   "execution_count": 9,
   "metadata": {
    "collapsed": true
   },
   "outputs": [],
   "source": [
    "from sklearn import metrics\n",
    "from sklearn.pipeline import make_pipeline\n",
    "\n",
    "import scipy as sp\n",
    "from sklearn.grid_search import GridSearchCV\n",
    "from sklearn.grid_search import RandomizedSearchCV\n",
    "from sklearn.cross_validation import cross_val_score\n",
    "\n",
    "from sklearn.linear_model import LogisticRegression as LogReg\n",
    "from sklearn.discriminant_analysis import LinearDiscriminantAnalysis as LDA\n",
    "from sklearn.naive_bayes import MultinomialNB as MNB\n",
    "from sklearn.neighbors import KNeighborsClassifier as KNN\n",
    "from sklearn.svm import LinearSVC\n",
    "from sklearn.svm import SVC"
   ]
  },
  {
   "cell_type": "code",
   "execution_count": null,
   "metadata": {
    "collapsed": false
   },
   "outputs": [],
   "source": [
    "Models = [LogReg, KNN, LinearSVC, LDA]"
   ]
  },
  {
   "cell_type": "code",
   "execution_count": null,
   "metadata": {
    "collapsed": true
   },
   "outputs": [],
   "source": [
    "# For MNB:\n",
    "# X['ReputationAtPostCreation'] = X.ReputationAtPostCreation + np.absolute(np.min(X.ReputationAtPostCreation, axis=0))\n",
    "# Result: 0.558094286125"
   ]
  },
  {
   "cell_type": "code",
   "execution_count": null,
   "metadata": {
    "collapsed": false
   },
   "outputs": [],
   "source": [
    "import warnings\n",
    "from datetime import datetime"
   ]
  },
  {
   "cell_type": "code",
   "execution_count": null,
   "metadata": {
    "collapsed": false,
    "scrolled": true
   },
   "outputs": [],
   "source": [
    "warnings.filterwarnings('ignore')\n",
    "\n",
    "for Model in Models:\n",
    "    start = datetime.now()\n",
    "    model = Model()\n",
    "    scores = cross_val_score(model, X_num, y_num, scoring='accuracy', cv=5)\n",
    "    end = datetime.now()\n",
    "    delta = end-start\n",
    "    print('Accuracy: {0} - Computation time: {1} seconds.'.format(np.mean(scores), delta.seconds))\n",
    "    \n",
    "warnings.filterwarnings('default')"
   ]
  },
  {
   "cell_type": "markdown",
   "metadata": {
    "collapsed": false
   },
   "source": [
    "One can notice that very good results are reached, even without using vectorizers and without using the text data. This is very promising for the future. Let us choose Logistic Regression, which seems to provide the best results."
   ]
  },
  {
   "cell_type": "markdown",
   "metadata": {},
   "source": [
    "### 3.c) Tuning the model"
   ]
  },
  {
   "cell_type": "code",
   "execution_count": null,
   "metadata": {
    "collapsed": false
   },
   "outputs": [],
   "source": [
    "# Checking the distribution chosen\n",
    "warnings.filterwarnings('ignore')\n",
    "\n",
    "%matplotlib inline\n",
    "rayl_data = sp.stats.rayleigh.rvs(size=1000)\n",
    "pd.DataFrame(rayl_data).plot(kind='density')\n",
    "\n",
    "warnings.filterwarnings('default')"
   ]
  },
  {
   "cell_type": "code",
   "execution_count": 10,
   "metadata": {
    "collapsed": false
   },
   "outputs": [],
   "source": [
    "# LOGISTIC REGRESSION\n",
    "logreg_num = LogReg()\n",
    "param_grid_num = {'penalty':['l1', 'l2'], 'C':sp.stats.rayleigh()}\n",
    "rand_num = RandomizedSearchCV(logreg_num, param_grid_num, n_iter=10, scoring='log_loss', cv=5)"
   ]
  },
  {
   "cell_type": "code",
   "execution_count": null,
   "metadata": {
    "collapsed": false
   },
   "outputs": [],
   "source": [
    "%time rand_num.fit(X_num,y_num)"
   ]
  },
  {
   "cell_type": "code",
   "execution_count": null,
   "metadata": {
    "collapsed": false
   },
   "outputs": [],
   "source": [
    "print(rand_num.best_score_, ' — ', rand_num.best_params_)"
   ]
  },
  {
   "cell_type": "markdown",
   "metadata": {},
   "source": [
    "### 3.d) Predicting on test data"
   ]
  },
  {
   "cell_type": "code",
   "execution_count": 11,
   "metadata": {
    "collapsed": true
   },
   "outputs": [],
   "source": [
    "test = pd.read_csv('./data/test.csv')\n",
    "test.PostCreationDate = pd.to_datetime(test.PostCreationDate)\n",
    "test.OwnerCreationDate = pd.to_datetime(test.OwnerCreationDate)"
   ]
  },
  {
   "cell_type": "code",
   "execution_count": 12,
   "metadata": {
    "collapsed": false
   },
   "outputs": [
    {
     "data": {
      "text/html": [
       "<div>\n",
       "<table border=\"1\" class=\"dataframe\">\n",
       "  <thead>\n",
       "    <tr style=\"text-align: right;\">\n",
       "      <th></th>\n",
       "      <th>PostId</th>\n",
       "      <th>PostCreationDate</th>\n",
       "      <th>OwnerUserId</th>\n",
       "      <th>OwnerCreationDate</th>\n",
       "      <th>ReputationAtPostCreation</th>\n",
       "      <th>OwnerUndeletedAnswerCountAtPostTime</th>\n",
       "      <th>Title</th>\n",
       "      <th>BodyMarkdown</th>\n",
       "      <th>Tag1</th>\n",
       "      <th>Tag2</th>\n",
       "      <th>Tag3</th>\n",
       "      <th>Tag4</th>\n",
       "      <th>Tag5</th>\n",
       "    </tr>\n",
       "  </thead>\n",
       "  <tbody>\n",
       "    <tr>\n",
       "      <th>0</th>\n",
       "      <td>11768878</td>\n",
       "      <td>2012-08-01 23:10:12</td>\n",
       "      <td>756422</td>\n",
       "      <td>2011-05-16 21:49:59</td>\n",
       "      <td>155</td>\n",
       "      <td>11</td>\n",
       "      <td>Maven &amp; yui-compressor Plugin issues</td>\n",
       "      <td>I'm using the yui-compressor plugin for maven ...</td>\n",
       "      <td>maven</td>\n",
       "      <td>maven-3</td>\n",
       "      <td>yui-compressor</td>\n",
       "      <td>NaN</td>\n",
       "      <td>NaN</td>\n",
       "    </tr>\n",
       "    <tr>\n",
       "      <th>1</th>\n",
       "      <td>11768880</td>\n",
       "      <td>2012-08-01 23:10:21</td>\n",
       "      <td>1569892</td>\n",
       "      <td>2012-08-01 22:24:37</td>\n",
       "      <td>1</td>\n",
       "      <td>0</td>\n",
       "      <td>Inconsistent behaviour of html select dropdowns</td>\n",
       "      <td>I have written a javascript-generated web page...</td>\n",
       "      <td>html</td>\n",
       "      <td>select</td>\n",
       "      <td>drop-down-menu</td>\n",
       "      <td>scrollbar</td>\n",
       "      <td>NaN</td>\n",
       "    </tr>\n",
       "    <tr>\n",
       "      <th>2</th>\n",
       "      <td>11803678</td>\n",
       "      <td>2012-08-03 21:40:49</td>\n",
       "      <td>1301879</td>\n",
       "      <td>2012-03-29 21:01:29</td>\n",
       "      <td>781</td>\n",
       "      <td>37</td>\n",
       "      <td>Why Does MSFT C# Compiler Compile fixed Statem...</td>\n",
       "      <td>The .NET c# compiler (.NET 4.0) compiles the `...</td>\n",
       "      <td>c#</td>\n",
       "      <td>.net</td>\n",
       "      <td>compiler</td>\n",
       "      <td>il</td>\n",
       "      <td>NaN</td>\n",
       "    </tr>\n",
       "    <tr>\n",
       "      <th>3</th>\n",
       "      <td>11803496</td>\n",
       "      <td>2012-08-03 21:24:02</td>\n",
       "      <td>1196150</td>\n",
       "      <td>2012-02-08 02:20:44</td>\n",
       "      <td>538</td>\n",
       "      <td>0</td>\n",
       "      <td>Dump sql file to ClearDB in Heroku</td>\n",
       "      <td>I have a sql file that I want to be dumped int...</td>\n",
       "      <td>mysql</td>\n",
       "      <td>ruby-on-rails</td>\n",
       "      <td>heroku</td>\n",
       "      <td>NaN</td>\n",
       "      <td>NaN</td>\n",
       "    </tr>\n",
       "    <tr>\n",
       "      <th>4</th>\n",
       "      <td>11803700</td>\n",
       "      <td>2012-08-03 21:43:13</td>\n",
       "      <td>772581</td>\n",
       "      <td>2009-11-13 16:24:05</td>\n",
       "      <td>70</td>\n",
       "      <td>2</td>\n",
       "      <td>mysql query to get rows with conditions</td>\n",
       "      <td>\\r\\nI have a table called \"articles\" on the da...</td>\n",
       "      <td>mysql</td>\n",
       "      <td>query</td>\n",
       "      <td>NaN</td>\n",
       "      <td>NaN</td>\n",
       "      <td>NaN</td>\n",
       "    </tr>\n",
       "  </tbody>\n",
       "</table>\n",
       "</div>"
      ],
      "text/plain": [
       "     PostId    PostCreationDate  OwnerUserId   OwnerCreationDate  \\\n",
       "0  11768878 2012-08-01 23:10:12       756422 2011-05-16 21:49:59   \n",
       "1  11768880 2012-08-01 23:10:21      1569892 2012-08-01 22:24:37   \n",
       "2  11803678 2012-08-03 21:40:49      1301879 2012-03-29 21:01:29   \n",
       "3  11803496 2012-08-03 21:24:02      1196150 2012-02-08 02:20:44   \n",
       "4  11803700 2012-08-03 21:43:13       772581 2009-11-13 16:24:05   \n",
       "\n",
       "   ReputationAtPostCreation  OwnerUndeletedAnswerCountAtPostTime  \\\n",
       "0                       155                                   11   \n",
       "1                         1                                    0   \n",
       "2                       781                                   37   \n",
       "3                       538                                    0   \n",
       "4                        70                                    2   \n",
       "\n",
       "                                               Title  \\\n",
       "0               Maven & yui-compressor Plugin issues   \n",
       "1    Inconsistent behaviour of html select dropdowns   \n",
       "2  Why Does MSFT C# Compiler Compile fixed Statem...   \n",
       "3                 Dump sql file to ClearDB in Heroku   \n",
       "4            mysql query to get rows with conditions   \n",
       "\n",
       "                                        BodyMarkdown   Tag1           Tag2  \\\n",
       "0  I'm using the yui-compressor plugin for maven ...  maven        maven-3   \n",
       "1  I have written a javascript-generated web page...   html         select   \n",
       "2  The .NET c# compiler (.NET 4.0) compiles the `...     c#           .net   \n",
       "3  I have a sql file that I want to be dumped int...  mysql  ruby-on-rails   \n",
       "4  \\r\\nI have a table called \"articles\" on the da...  mysql          query   \n",
       "\n",
       "             Tag3       Tag4 Tag5  \n",
       "0  yui-compressor        NaN  NaN  \n",
       "1  drop-down-menu  scrollbar  NaN  \n",
       "2        compiler         il  NaN  \n",
       "3          heroku        NaN  NaN  \n",
       "4             NaN        NaN  NaN  "
      ]
     },
     "execution_count": 12,
     "metadata": {},
     "output_type": "execute_result"
    }
   ],
   "source": [
    "test.head()"
   ]
  },
  {
   "cell_type": "code",
   "execution_count": 13,
   "metadata": {
    "collapsed": true
   },
   "outputs": [],
   "source": [
    "test, new_features = create_features(test)"
   ]
  },
  {
   "cell_type": "code",
   "execution_count": 14,
   "metadata": {
    "collapsed": false
   },
   "outputs": [
    {
     "data": {
      "text/html": [
       "<div>\n",
       "<table border=\"1\" class=\"dataframe\">\n",
       "  <thead>\n",
       "    <tr style=\"text-align: right;\">\n",
       "      <th></th>\n",
       "      <th>ReputationAtPostCreation</th>\n",
       "      <th>OwnerUndeletedAnswerCountAtPostTime</th>\n",
       "      <th>PostCreationDate_night</th>\n",
       "      <th>PostCreationDate_weekend</th>\n",
       "      <th>PostCreationDate_july</th>\n",
       "      <th>OwnerCreationDate_night</th>\n",
       "      <th>OwnerCreationDate_weekend</th>\n",
       "      <th>OwnerCreationDate_july</th>\n",
       "      <th>nb_tags</th>\n",
       "      <th>short_title</th>\n",
       "      <th>len_post_extreme</th>\n",
       "    </tr>\n",
       "  </thead>\n",
       "  <tbody>\n",
       "    <tr>\n",
       "      <th>0</th>\n",
       "      <td>155</td>\n",
       "      <td>11</td>\n",
       "      <td>1</td>\n",
       "      <td>1</td>\n",
       "      <td>0</td>\n",
       "      <td>1</td>\n",
       "      <td>1</td>\n",
       "      <td>0</td>\n",
       "      <td>3</td>\n",
       "      <td>0</td>\n",
       "      <td>0</td>\n",
       "    </tr>\n",
       "    <tr>\n",
       "      <th>1</th>\n",
       "      <td>1</td>\n",
       "      <td>0</td>\n",
       "      <td>1</td>\n",
       "      <td>1</td>\n",
       "      <td>0</td>\n",
       "      <td>1</td>\n",
       "      <td>1</td>\n",
       "      <td>0</td>\n",
       "      <td>4</td>\n",
       "      <td>0</td>\n",
       "      <td>0</td>\n",
       "    </tr>\n",
       "    <tr>\n",
       "      <th>2</th>\n",
       "      <td>781</td>\n",
       "      <td>37</td>\n",
       "      <td>1</td>\n",
       "      <td>1</td>\n",
       "      <td>1</td>\n",
       "      <td>1</td>\n",
       "      <td>1</td>\n",
       "      <td>1</td>\n",
       "      <td>4</td>\n",
       "      <td>0</td>\n",
       "      <td>1</td>\n",
       "    </tr>\n",
       "    <tr>\n",
       "      <th>3</th>\n",
       "      <td>538</td>\n",
       "      <td>0</td>\n",
       "      <td>1</td>\n",
       "      <td>1</td>\n",
       "      <td>0</td>\n",
       "      <td>1</td>\n",
       "      <td>1</td>\n",
       "      <td>1</td>\n",
       "      <td>3</td>\n",
       "      <td>0</td>\n",
       "      <td>0</td>\n",
       "    </tr>\n",
       "    <tr>\n",
       "      <th>4</th>\n",
       "      <td>70</td>\n",
       "      <td>2</td>\n",
       "      <td>1</td>\n",
       "      <td>1</td>\n",
       "      <td>0</td>\n",
       "      <td>1</td>\n",
       "      <td>1</td>\n",
       "      <td>0</td>\n",
       "      <td>2</td>\n",
       "      <td>0</td>\n",
       "      <td>0</td>\n",
       "    </tr>\n",
       "    <tr>\n",
       "      <th>5</th>\n",
       "      <td>176</td>\n",
       "      <td>0</td>\n",
       "      <td>1</td>\n",
       "      <td>1</td>\n",
       "      <td>0</td>\n",
       "      <td>1</td>\n",
       "      <td>1</td>\n",
       "      <td>0</td>\n",
       "      <td>1</td>\n",
       "      <td>1</td>\n",
       "      <td>1</td>\n",
       "    </tr>\n",
       "    <tr>\n",
       "      <th>6</th>\n",
       "      <td>2657</td>\n",
       "      <td>161</td>\n",
       "      <td>1</td>\n",
       "      <td>0</td>\n",
       "      <td>0</td>\n",
       "      <td>1</td>\n",
       "      <td>1</td>\n",
       "      <td>0</td>\n",
       "      <td>3</td>\n",
       "      <td>0</td>\n",
       "      <td>0</td>\n",
       "    </tr>\n",
       "    <tr>\n",
       "      <th>7</th>\n",
       "      <td>11</td>\n",
       "      <td>0</td>\n",
       "      <td>1</td>\n",
       "      <td>1</td>\n",
       "      <td>0</td>\n",
       "      <td>1</td>\n",
       "      <td>1</td>\n",
       "      <td>0</td>\n",
       "      <td>3</td>\n",
       "      <td>0</td>\n",
       "      <td>0</td>\n",
       "    </tr>\n",
       "    <tr>\n",
       "      <th>8</th>\n",
       "      <td>202</td>\n",
       "      <td>4</td>\n",
       "      <td>1</td>\n",
       "      <td>1</td>\n",
       "      <td>0</td>\n",
       "      <td>1</td>\n",
       "      <td>1</td>\n",
       "      <td>0</td>\n",
       "      <td>2</td>\n",
       "      <td>0</td>\n",
       "      <td>1</td>\n",
       "    </tr>\n",
       "    <tr>\n",
       "      <th>9</th>\n",
       "      <td>70</td>\n",
       "      <td>5</td>\n",
       "      <td>1</td>\n",
       "      <td>1</td>\n",
       "      <td>0</td>\n",
       "      <td>1</td>\n",
       "      <td>1</td>\n",
       "      <td>0</td>\n",
       "      <td>5</td>\n",
       "      <td>0</td>\n",
       "      <td>0</td>\n",
       "    </tr>\n",
       "    <tr>\n",
       "      <th>10</th>\n",
       "      <td>27529</td>\n",
       "      <td>1561</td>\n",
       "      <td>1</td>\n",
       "      <td>0</td>\n",
       "      <td>1</td>\n",
       "      <td>1</td>\n",
       "      <td>1</td>\n",
       "      <td>0</td>\n",
       "      <td>3</td>\n",
       "      <td>0</td>\n",
       "      <td>1</td>\n",
       "    </tr>\n",
       "    <tr>\n",
       "      <th>11</th>\n",
       "      <td>890</td>\n",
       "      <td>6</td>\n",
       "      <td>1</td>\n",
       "      <td>1</td>\n",
       "      <td>0</td>\n",
       "      <td>1</td>\n",
       "      <td>1</td>\n",
       "      <td>0</td>\n",
       "      <td>3</td>\n",
       "      <td>0</td>\n",
       "      <td>0</td>\n",
       "    </tr>\n",
       "    <tr>\n",
       "      <th>12</th>\n",
       "      <td>3</td>\n",
       "      <td>2</td>\n",
       "      <td>1</td>\n",
       "      <td>1</td>\n",
       "      <td>0</td>\n",
       "      <td>1</td>\n",
       "      <td>1</td>\n",
       "      <td>0</td>\n",
       "      <td>5</td>\n",
       "      <td>0</td>\n",
       "      <td>0</td>\n",
       "    </tr>\n",
       "    <tr>\n",
       "      <th>13</th>\n",
       "      <td>81</td>\n",
       "      <td>0</td>\n",
       "      <td>1</td>\n",
       "      <td>1</td>\n",
       "      <td>0</td>\n",
       "      <td>1</td>\n",
       "      <td>1</td>\n",
       "      <td>0</td>\n",
       "      <td>1</td>\n",
       "      <td>0</td>\n",
       "      <td>1</td>\n",
       "    </tr>\n",
       "    <tr>\n",
       "      <th>14</th>\n",
       "      <td>1</td>\n",
       "      <td>0</td>\n",
       "      <td>1</td>\n",
       "      <td>1</td>\n",
       "      <td>0</td>\n",
       "      <td>1</td>\n",
       "      <td>1</td>\n",
       "      <td>0</td>\n",
       "      <td>3</td>\n",
       "      <td>0</td>\n",
       "      <td>1</td>\n",
       "    </tr>\n",
       "    <tr>\n",
       "      <th>15</th>\n",
       "      <td>32</td>\n",
       "      <td>0</td>\n",
       "      <td>1</td>\n",
       "      <td>0</td>\n",
       "      <td>0</td>\n",
       "      <td>1</td>\n",
       "      <td>0</td>\n",
       "      <td>0</td>\n",
       "      <td>4</td>\n",
       "      <td>0</td>\n",
       "      <td>1</td>\n",
       "    </tr>\n",
       "    <tr>\n",
       "      <th>16</th>\n",
       "      <td>707</td>\n",
       "      <td>92</td>\n",
       "      <td>1</td>\n",
       "      <td>1</td>\n",
       "      <td>0</td>\n",
       "      <td>1</td>\n",
       "      <td>0</td>\n",
       "      <td>1</td>\n",
       "      <td>1</td>\n",
       "      <td>0</td>\n",
       "      <td>0</td>\n",
       "    </tr>\n",
       "    <tr>\n",
       "      <th>17</th>\n",
       "      <td>11</td>\n",
       "      <td>1</td>\n",
       "      <td>1</td>\n",
       "      <td>0</td>\n",
       "      <td>0</td>\n",
       "      <td>1</td>\n",
       "      <td>1</td>\n",
       "      <td>0</td>\n",
       "      <td>5</td>\n",
       "      <td>0</td>\n",
       "      <td>0</td>\n",
       "    </tr>\n",
       "    <tr>\n",
       "      <th>18</th>\n",
       "      <td>36</td>\n",
       "      <td>1</td>\n",
       "      <td>1</td>\n",
       "      <td>1</td>\n",
       "      <td>0</td>\n",
       "      <td>1</td>\n",
       "      <td>1</td>\n",
       "      <td>0</td>\n",
       "      <td>4</td>\n",
       "      <td>0</td>\n",
       "      <td>0</td>\n",
       "    </tr>\n",
       "    <tr>\n",
       "      <th>19</th>\n",
       "      <td>2618</td>\n",
       "      <td>35</td>\n",
       "      <td>1</td>\n",
       "      <td>1</td>\n",
       "      <td>0</td>\n",
       "      <td>1</td>\n",
       "      <td>1</td>\n",
       "      <td>0</td>\n",
       "      <td>3</td>\n",
       "      <td>0</td>\n",
       "      <td>0</td>\n",
       "    </tr>\n",
       "  </tbody>\n",
       "</table>\n",
       "</div>"
      ],
      "text/plain": [
       "    ReputationAtPostCreation  OwnerUndeletedAnswerCountAtPostTime  \\\n",
       "0                        155                                   11   \n",
       "1                          1                                    0   \n",
       "2                        781                                   37   \n",
       "3                        538                                    0   \n",
       "4                         70                                    2   \n",
       "5                        176                                    0   \n",
       "6                       2657                                  161   \n",
       "7                         11                                    0   \n",
       "8                        202                                    4   \n",
       "9                         70                                    5   \n",
       "10                     27529                                 1561   \n",
       "11                       890                                    6   \n",
       "12                         3                                    2   \n",
       "13                        81                                    0   \n",
       "14                         1                                    0   \n",
       "15                        32                                    0   \n",
       "16                       707                                   92   \n",
       "17                        11                                    1   \n",
       "18                        36                                    1   \n",
       "19                      2618                                   35   \n",
       "\n",
       "    PostCreationDate_night  PostCreationDate_weekend  PostCreationDate_july  \\\n",
       "0                        1                         1                      0   \n",
       "1                        1                         1                      0   \n",
       "2                        1                         1                      1   \n",
       "3                        1                         1                      0   \n",
       "4                        1                         1                      0   \n",
       "5                        1                         1                      0   \n",
       "6                        1                         0                      0   \n",
       "7                        1                         1                      0   \n",
       "8                        1                         1                      0   \n",
       "9                        1                         1                      0   \n",
       "10                       1                         0                      1   \n",
       "11                       1                         1                      0   \n",
       "12                       1                         1                      0   \n",
       "13                       1                         1                      0   \n",
       "14                       1                         1                      0   \n",
       "15                       1                         0                      0   \n",
       "16                       1                         1                      0   \n",
       "17                       1                         0                      0   \n",
       "18                       1                         1                      0   \n",
       "19                       1                         1                      0   \n",
       "\n",
       "    OwnerCreationDate_night  OwnerCreationDate_weekend  \\\n",
       "0                         1                          1   \n",
       "1                         1                          1   \n",
       "2                         1                          1   \n",
       "3                         1                          1   \n",
       "4                         1                          1   \n",
       "5                         1                          1   \n",
       "6                         1                          1   \n",
       "7                         1                          1   \n",
       "8                         1                          1   \n",
       "9                         1                          1   \n",
       "10                        1                          1   \n",
       "11                        1                          1   \n",
       "12                        1                          1   \n",
       "13                        1                          1   \n",
       "14                        1                          1   \n",
       "15                        1                          0   \n",
       "16                        1                          0   \n",
       "17                        1                          1   \n",
       "18                        1                          1   \n",
       "19                        1                          1   \n",
       "\n",
       "    OwnerCreationDate_july  nb_tags  short_title  len_post_extreme  \n",
       "0                        0        3            0                 0  \n",
       "1                        0        4            0                 0  \n",
       "2                        1        4            0                 1  \n",
       "3                        1        3            0                 0  \n",
       "4                        0        2            0                 0  \n",
       "5                        0        1            1                 1  \n",
       "6                        0        3            0                 0  \n",
       "7                        0        3            0                 0  \n",
       "8                        0        2            0                 1  \n",
       "9                        0        5            0                 0  \n",
       "10                       0        3            0                 1  \n",
       "11                       0        3            0                 0  \n",
       "12                       0        5            0                 0  \n",
       "13                       0        1            0                 1  \n",
       "14                       0        3            0                 1  \n",
       "15                       0        4            0                 1  \n",
       "16                       1        1            0                 0  \n",
       "17                       0        5            0                 0  \n",
       "18                       0        4            0                 0  \n",
       "19                       0        3            0                 0  "
      ]
     },
     "execution_count": 14,
     "metadata": {},
     "output_type": "execute_result"
    }
   ],
   "source": [
    "X_test_num = test[numerical_features]\n",
    "X_test_num.head(20)"
   ]
  },
  {
   "cell_type": "code",
   "execution_count": null,
   "metadata": {
    "collapsed": false
   },
   "outputs": [],
   "source": [
    "y_pred_num = rand_num.predict_proba(X_test_num)[:,1]"
   ]
  },
  {
   "cell_type": "code",
   "execution_count": null,
   "metadata": {
    "collapsed": false
   },
   "outputs": [],
   "source": [
    "output = pd.DataFrame({'id':X_test_num.index, 'OpenStatus':y_pred_num})"
   ]
  },
  {
   "cell_type": "code",
   "execution_count": null,
   "metadata": {
    "collapsed": false
   },
   "outputs": [],
   "source": [
    "output[['id','OpenStatus']].to_csv('./out/submission.csv', index=False)"
   ]
  },
  {
   "cell_type": "code",
   "execution_count": null,
   "metadata": {
    "collapsed": false
   },
   "outputs": [],
   "source": [
    "output.OpenStatus.value_counts()"
   ]
  },
  {
   "cell_type": "markdown",
   "metadata": {
    "collapsed": true
   },
   "source": [
    "## 4) Learning on text data"
   ]
  },
  {
   "cell_type": "code",
   "execution_count": 46,
   "metadata": {
    "collapsed": true
   },
   "outputs": [],
   "source": [
    "from sklearn.feature_extraction.text import CountVectorizer\n",
    "from sklearn.pipeline import make_pipeline"
   ]
  },
  {
   "cell_type": "code",
   "execution_count": 47,
   "metadata": {
    "collapsed": false
   },
   "outputs": [
    {
     "data": {
      "text/plain": [
       "Index(['PostId', 'PostCreationDate', 'OwnerUserId', 'OwnerCreationDate',\n",
       "       'ReputationAtPostCreation', 'OwnerUndeletedAnswerCountAtPostTime',\n",
       "       'Title', 'BodyMarkdown', 'Tag1', 'Tag2', 'Tag3', 'Tag4', 'Tag5',\n",
       "       'PostClosedDate', 'OpenStatus', 'PostCreationDate_night',\n",
       "       'PostCreationDate_weekend', 'PostCreationDate_july',\n",
       "       'OwnerCreationDate_night', 'OwnerCreationDate_weekend',\n",
       "       'OwnerCreationDate_july', 'nb_tags', 'short_title', 'len_post_extreme',\n",
       "       'Text'],\n",
       "      dtype='object')"
      ]
     },
     "execution_count": 47,
     "metadata": {},
     "output_type": "execute_result"
    }
   ],
   "source": [
    "train.columns"
   ]
  },
  {
   "cell_type": "code",
   "execution_count": 48,
   "metadata": {
    "collapsed": false
   },
   "outputs": [],
   "source": [
    "def create_text_feature(df):\n",
    "    \n",
    "    df['Text'] = df.Title.str.cat(df.BodyMarkdown, sep=' ')\n",
    "    df.Text = df.Text.str.cat(df.Tag1, sep=' ', na_rep='')\n",
    "    df.Text = df.Text.str.cat(df.Tag2, sep=' ', na_rep='')\n",
    "    df.Text = df.Text.str.cat(df.Tag3, sep=' ', na_rep='')\n",
    "    df.Text = df.Text.str.cat(df.Tag4, sep=' ', na_rep='')\n",
    "    df.Text = df.Text.str.cat(df.Tag5, sep=' ', na_rep='')\n",
    "\n",
    "    # Let's add the title another time\n",
    "    df.Text = df.Text.str.cat(df.Title, sep=' ', na_rep='')\n",
    "    \n",
    "    return df"
   ]
  },
  {
   "cell_type": "code",
   "execution_count": 49,
   "metadata": {
    "collapsed": false
   },
   "outputs": [],
   "source": [
    "train = create_text_feature(train)"
   ]
  },
  {
   "cell_type": "code",
   "execution_count": 50,
   "metadata": {
    "collapsed": false
   },
   "outputs": [
    {
     "data": {
      "text/plain": [
       "'How to insert schemalocation in a xml document via DOM i create a xml document with JAXP and search a way to insert the schemalocation.\\r\\nAt the moment my application produces:\\r\\n\\r\\n    <?xml version=\"1.0\" encoding=\"UTF-8\"?>\\r\\n    <root>\\r\\n    ...\\r\\n    </root>\\r\\n\\r\\nBut i need:\\r\\n\\r\\n    <?xml version=\"1.0\" encoding=\"UTF-8\"?>\\r\\n    <root xmlns=\"namespaceURL\" \\r\\n    xmlns:xs=\"http://www.w3.org/2001/XMLSchema-instance\"\\r\\n    xs:schemaLocation=\"namespaceURL pathToMySchema.xsd\">\\r\\n    ...\\r\\n    </root>\\r\\n\\r\\nMy code:\\r\\n\\r\\n    StreamResult result = new StreamResult(writer);\\r\\n    Document doc = getDocument();\\r\\n\\r\\n    Transformer trans = transfac.newTransformer();\\r\\n    trans.setOutputProperty(OutputKeys.INDENT, \"yes\");\\r\\n    trans.setOutputProperty(OutputKeys.METHOD, \"xml\");\\r\\n    trans.setOutputProperty(OutputKeys.VERSION, \"1.0\");\\r\\n    trans.setOutputProperty(OutputKeys.ENCODING, \"UTF-8\");\\r\\n\\r\\n    DOMSource source = new DOMSource(depl.getAsElement(doc));\\r\\n    trans.transform(source, result);\\r\\n\\r\\n\\r\\nThanks for your time,  \\r\\nKasten dom xsd jaxp   How to insert schemalocation in a xml document via DOM'"
      ]
     },
     "execution_count": 50,
     "metadata": {},
     "output_type": "execute_result"
    }
   ],
   "source": [
    "train.Text[1]"
   ]
  },
  {
   "cell_type": "code",
   "execution_count": 51,
   "metadata": {
    "collapsed": true
   },
   "outputs": [],
   "source": [
    "X_txt = train.Text\n",
    "y_txt = train.OpenStatus"
   ]
  },
  {
   "cell_type": "code",
   "execution_count": 52,
   "metadata": {
    "collapsed": true
   },
   "outputs": [],
   "source": [
    "vect_txt = CountVectorizer()\n",
    "logreg_txt = LogReg()\n",
    "\n",
    "pipe_txt = make_pipeline(vect_txt, logreg_txt)"
   ]
  },
  {
   "cell_type": "code",
   "execution_count": 53,
   "metadata": {
    "collapsed": false
   },
   "outputs": [],
   "source": [
    "rand_param_txt = {'countvectorizer__min_df':[1,2,3],\n",
    "                  'countvectorizer__stop_words':[None,'english'],\n",
    "                  'countvectorizer__max_df':sp.stats.uniform(loc=0.1,scale=0.8),\n",
    "                  'logisticregression__penalty':['l1','l2'],\n",
    "                  'logisticregression__C':sp.stats.rayleigh()}\n",
    "rand_txt = RandomizedSearchCV(pipe_txt, rand_param_txt, n_iter=25, cv=5, scoring='log_loss')"
   ]
  },
  {
   "cell_type": "code",
   "execution_count": null,
   "metadata": {
    "collapsed": false
   },
   "outputs": [],
   "source": [
    "%time rand_txt.fit(X_txt,y_txt)"
   ]
  },
  {
   "cell_type": "code",
   "execution_count": null,
   "metadata": {
    "collapsed": false
   },
   "outputs": [],
   "source": [
    "print(rand_txt.best_score_, ' — ', rand_txt.best_params_)"
   ]
  },
  {
   "cell_type": "code",
   "execution_count": null,
   "metadata": {
    "collapsed": false
   },
   "outputs": [],
   "source": [
    "rand_txt.best_params_"
   ]
  },
  {
   "cell_type": "markdown",
   "metadata": {},
   "source": [
    "It's done! Now we apply our best model to the test set and export to CSV."
   ]
  },
  {
   "cell_type": "code",
   "execution_count": 54,
   "metadata": {
    "collapsed": true
   },
   "outputs": [],
   "source": [
    "test = create_text_feature(test)"
   ]
  },
  {
   "cell_type": "code",
   "execution_count": null,
   "metadata": {
    "collapsed": false
   },
   "outputs": [],
   "source": [
    "X_test_txt = test.Text\n",
    "y_pred_txt = rand_txt.predict_proba(X_test_txt)[:,1]"
   ]
  },
  {
   "cell_type": "code",
   "execution_count": null,
   "metadata": {
    "collapsed": false
   },
   "outputs": [],
   "source": [
    "output = pd.DataFrame({'id':X_test_txt.index, 'OpenStatus':y_pred_txt})"
   ]
  },
  {
   "cell_type": "code",
   "execution_count": null,
   "metadata": {
    "collapsed": true
   },
   "outputs": [],
   "source": [
    "output[['id','OpenStatus']].to_csv('./out/submission.csv', index=False)"
   ]
  },
  {
   "cell_type": "markdown",
   "metadata": {
    "collapsed": true
   },
   "source": [
    "## 4) Learning on both"
   ]
  },
  {
   "cell_type": "markdown",
   "metadata": {
    "collapsed": true
   },
   "source": [
    "### 4.a) Model Stacking"
   ]
  },
  {
   "cell_type": "code",
   "execution_count": null,
   "metadata": {
    "collapsed": true
   },
   "outputs": [],
   "source": [
    "y_pred = (y_pred_txt + y_pred_num)/2\n",
    "output = pd.DataFrame({'id':X_test_txt.index, 'OpenStatus':y_pred})\n",
    "output[['id','OpenStatus']].to_csv('./out/stacking-1-1.csv', index=False)"
   ]
  },
  {
   "cell_type": "code",
   "execution_count": null,
   "metadata": {
    "collapsed": true
   },
   "outputs": [],
   "source": [
    "y_pred = (2*y_pred_txt + y_pred_num)/3\n",
    "output = pd.DataFrame({'id':X_test_txt.index, 'OpenStatus':y_pred})\n",
    "output[['id','OpenStatus']].to_csv('./out/stacking-2-1.csv', index=False)"
   ]
  },
  {
   "cell_type": "code",
   "execution_count": null,
   "metadata": {
    "collapsed": true
   },
   "outputs": [],
   "source": [
    "y_pred = (y_pred_txt + 2*y_pred_num)/3\n",
    "output = pd.DataFrame({'id':X_test_txt.index, 'OpenStatus':y_pred})\n",
    "output[['id','OpenStatus']].to_csv('./out/stacking-1-2.csv', index=False)"
   ]
  },
  {
   "cell_type": "markdown",
   "metadata": {
    "collapsed": true
   },
   "source": [
    "### 4.b) Text/Num Data Combination"
   ]
  },
  {
   "cell_type": "code",
   "execution_count": 75,
   "metadata": {
    "collapsed": true
   },
   "outputs": [],
   "source": [
    "from sklearn.pipeline import make_union\n",
    "from sklearn.preprocessing import FunctionTransformer"
   ]
  },
  {
   "cell_type": "markdown",
   "metadata": {},
   "source": [
    "First step is to create two transformers, which will extract the relevant parts of the dataframe: the engineered new features on the one hand and the Text feature on the other hand."
   ]
  },
  {
   "cell_type": "code",
   "execution_count": 76,
   "metadata": {
    "collapsed": false
   },
   "outputs": [],
   "source": [
    "# function returning new engineered features\n",
    "def get_new_features(df):\n",
    "    return df.loc[:,numerical_features]"
   ]
  },
  {
   "cell_type": "code",
   "execution_count": 77,
   "metadata": {
    "collapsed": false
   },
   "outputs": [
    {
     "data": {
      "text/html": [
       "<div>\n",
       "<table border=\"1\" class=\"dataframe\">\n",
       "  <thead>\n",
       "    <tr style=\"text-align: right;\">\n",
       "      <th></th>\n",
       "      <th>ReputationAtPostCreation</th>\n",
       "      <th>OwnerUndeletedAnswerCountAtPostTime</th>\n",
       "      <th>PostCreationDate_night</th>\n",
       "      <th>PostCreationDate_weekend</th>\n",
       "      <th>PostCreationDate_july</th>\n",
       "      <th>OwnerCreationDate_night</th>\n",
       "      <th>OwnerCreationDate_weekend</th>\n",
       "      <th>OwnerCreationDate_july</th>\n",
       "      <th>nb_tags</th>\n",
       "      <th>short_title</th>\n",
       "      <th>len_post_extreme</th>\n",
       "    </tr>\n",
       "  </thead>\n",
       "  <tbody>\n",
       "    <tr>\n",
       "      <th>0</th>\n",
       "      <td>1</td>\n",
       "      <td>2</td>\n",
       "      <td>1</td>\n",
       "      <td>1</td>\n",
       "      <td>0</td>\n",
       "      <td>1</td>\n",
       "      <td>1</td>\n",
       "      <td>0</td>\n",
       "      <td>1</td>\n",
       "      <td>0</td>\n",
       "      <td>0</td>\n",
       "    </tr>\n",
       "    <tr>\n",
       "      <th>1</th>\n",
       "      <td>192</td>\n",
       "      <td>24</td>\n",
       "      <td>1</td>\n",
       "      <td>1</td>\n",
       "      <td>0</td>\n",
       "      <td>1</td>\n",
       "      <td>1</td>\n",
       "      <td>0</td>\n",
       "      <td>3</td>\n",
       "      <td>0</td>\n",
       "      <td>0</td>\n",
       "    </tr>\n",
       "    <tr>\n",
       "      <th>2</th>\n",
       "      <td>1</td>\n",
       "      <td>0</td>\n",
       "      <td>1</td>\n",
       "      <td>1</td>\n",
       "      <td>1</td>\n",
       "      <td>1</td>\n",
       "      <td>1</td>\n",
       "      <td>1</td>\n",
       "      <td>3</td>\n",
       "      <td>1</td>\n",
       "      <td>1</td>\n",
       "    </tr>\n",
       "  </tbody>\n",
       "</table>\n",
       "</div>"
      ],
      "text/plain": [
       "   ReputationAtPostCreation  OwnerUndeletedAnswerCountAtPostTime  \\\n",
       "0                         1                                    2   \n",
       "1                       192                                   24   \n",
       "2                         1                                    0   \n",
       "\n",
       "   PostCreationDate_night  PostCreationDate_weekend  PostCreationDate_july  \\\n",
       "0                       1                         1                      0   \n",
       "1                       1                         1                      0   \n",
       "2                       1                         1                      1   \n",
       "\n",
       "   OwnerCreationDate_night  OwnerCreationDate_weekend  OwnerCreationDate_july  \\\n",
       "0                        1                          1                       0   \n",
       "1                        1                          1                       0   \n",
       "2                        1                          1                       1   \n",
       "\n",
       "   nb_tags  short_title  len_post_extreme  \n",
       "0        1            0                 0  \n",
       "1        3            0                 0  \n",
       "2        3            1                 1  "
      ]
     },
     "execution_count": 77,
     "metadata": {},
     "output_type": "execute_result"
    }
   ],
   "source": [
    "get_new_features(train).head(3)"
   ]
  },
  {
   "cell_type": "code",
   "execution_count": 78,
   "metadata": {
    "collapsed": true
   },
   "outputs": [],
   "source": [
    "get_new_features_ft = FunctionTransformer(get_new_features, validate=False)"
   ]
  },
  {
   "cell_type": "code",
   "execution_count": 79,
   "metadata": {
    "collapsed": false
   },
   "outputs": [
    {
     "data": {
      "text/html": [
       "<div>\n",
       "<table border=\"1\" class=\"dataframe\">\n",
       "  <thead>\n",
       "    <tr style=\"text-align: right;\">\n",
       "      <th></th>\n",
       "      <th>ReputationAtPostCreation</th>\n",
       "      <th>OwnerUndeletedAnswerCountAtPostTime</th>\n",
       "      <th>PostCreationDate_night</th>\n",
       "      <th>PostCreationDate_weekend</th>\n",
       "      <th>PostCreationDate_july</th>\n",
       "      <th>OwnerCreationDate_night</th>\n",
       "      <th>OwnerCreationDate_weekend</th>\n",
       "      <th>OwnerCreationDate_july</th>\n",
       "      <th>nb_tags</th>\n",
       "      <th>short_title</th>\n",
       "      <th>len_post_extreme</th>\n",
       "    </tr>\n",
       "  </thead>\n",
       "  <tbody>\n",
       "    <tr>\n",
       "      <th>0</th>\n",
       "      <td>1</td>\n",
       "      <td>2</td>\n",
       "      <td>1</td>\n",
       "      <td>1</td>\n",
       "      <td>0</td>\n",
       "      <td>1</td>\n",
       "      <td>1</td>\n",
       "      <td>0</td>\n",
       "      <td>1</td>\n",
       "      <td>0</td>\n",
       "      <td>0</td>\n",
       "    </tr>\n",
       "    <tr>\n",
       "      <th>1</th>\n",
       "      <td>192</td>\n",
       "      <td>24</td>\n",
       "      <td>1</td>\n",
       "      <td>1</td>\n",
       "      <td>0</td>\n",
       "      <td>1</td>\n",
       "      <td>1</td>\n",
       "      <td>0</td>\n",
       "      <td>3</td>\n",
       "      <td>0</td>\n",
       "      <td>0</td>\n",
       "    </tr>\n",
       "    <tr>\n",
       "      <th>2</th>\n",
       "      <td>1</td>\n",
       "      <td>0</td>\n",
       "      <td>1</td>\n",
       "      <td>1</td>\n",
       "      <td>1</td>\n",
       "      <td>1</td>\n",
       "      <td>1</td>\n",
       "      <td>1</td>\n",
       "      <td>3</td>\n",
       "      <td>1</td>\n",
       "      <td>1</td>\n",
       "    </tr>\n",
       "  </tbody>\n",
       "</table>\n",
       "</div>"
      ],
      "text/plain": [
       "   ReputationAtPostCreation  OwnerUndeletedAnswerCountAtPostTime  \\\n",
       "0                         1                                    2   \n",
       "1                       192                                   24   \n",
       "2                         1                                    0   \n",
       "\n",
       "   PostCreationDate_night  PostCreationDate_weekend  PostCreationDate_july  \\\n",
       "0                       1                         1                      0   \n",
       "1                       1                         1                      0   \n",
       "2                       1                         1                      1   \n",
       "\n",
       "   OwnerCreationDate_night  OwnerCreationDate_weekend  OwnerCreationDate_july  \\\n",
       "0                        1                          1                       0   \n",
       "1                        1                          1                       0   \n",
       "2                        1                          1                       1   \n",
       "\n",
       "   nb_tags  short_title  len_post_extreme  \n",
       "0        1            0                 0  \n",
       "1        3            0                 0  \n",
       "2        3            1                 1  "
      ]
     },
     "execution_count": 79,
     "metadata": {},
     "output_type": "execute_result"
    }
   ],
   "source": [
    "get_new_features_ft.transform(train).head(3)"
   ]
  },
  {
   "cell_type": "code",
   "execution_count": 80,
   "metadata": {
    "collapsed": true
   },
   "outputs": [],
   "source": [
    "# function returning grouped text feature\n",
    "def get_text_feature(df):\n",
    "    return df.Text"
   ]
  },
  {
   "cell_type": "code",
   "execution_count": 81,
   "metadata": {
    "collapsed": false
   },
   "outputs": [
    {
     "data": {
      "text/plain": [
       "0    For Mongodb is it better to reference an objec...\n",
       "1    How to insert schemalocation in a xml document...\n",
       "2    Too many lookup tables  What are the adverse e...\n",
       "Name: Text, dtype: object"
      ]
     },
     "execution_count": 81,
     "metadata": {},
     "output_type": "execute_result"
    }
   ],
   "source": [
    "get_text_feature(train).head(3)"
   ]
  },
  {
   "cell_type": "code",
   "execution_count": 82,
   "metadata": {
    "collapsed": true
   },
   "outputs": [],
   "source": [
    "get_text_feature_ft = FunctionTransformer(get_text_feature, validate=False)"
   ]
  },
  {
   "cell_type": "code",
   "execution_count": 83,
   "metadata": {
    "collapsed": false
   },
   "outputs": [
    {
     "data": {
      "text/plain": [
       "0    For Mongodb is it better to reference an objec...\n",
       "1    How to insert schemalocation in a xml document...\n",
       "2    Too many lookup tables  What are the adverse e...\n",
       "Name: Text, dtype: object"
      ]
     },
     "execution_count": 83,
     "metadata": {},
     "output_type": "execute_result"
    }
   ],
   "source": [
    "get_text_feature_ft.transform(train).head(3)"
   ]
  },
  {
   "cell_type": "markdown",
   "metadata": {},
   "source": [
    "Now, let us create a union. This will enable us to run both data preparation separately and concatenate horizontaly the result, so that we can learn in the same time on the data coming from feature engineer and vectorized from the text."
   ]
  },
  {
   "cell_type": "code",
   "execution_count": 84,
   "metadata": {
    "collapsed": true
   },
   "outputs": [],
   "source": [
    "vect_ft = CountVectorizer()\n",
    "logreg_ft = LogReg()"
   ]
  },
  {
   "cell_type": "code",
   "execution_count": 85,
   "metadata": {
    "collapsed": true
   },
   "outputs": [],
   "source": [
    "union_ft = make_union(get_new_features_ft, make_pipeline(get_text_feature_ft, vect_ft))\n",
    "pipe_ft = make_pipeline(union_ft, logreg_ft)"
   ]
  },
  {
   "cell_type": "code",
   "execution_count": 86,
   "metadata": {
    "collapsed": false
   },
   "outputs": [
    {
     "data": {
      "text/plain": [
       "{'featureunion': FeatureUnion(n_jobs=1,\n",
       "        transformer_list=[('functiontransformer', FunctionTransformer(accept_sparse=False,\n",
       "           func=<function get_new_features at 0x207bfe6a8>, pass_y=False,\n",
       "           validate=False)), ('pipeline', Pipeline(steps=[('functiontransformer', FunctionTransformer(accept_sparse=False,\n",
       "           func=<functi...strip_accents=None, token_pattern='(?u)\\\\b\\\\w\\\\w+\\\\b',\n",
       "         tokenizer=None, vocabulary=None))]))],\n",
       "        transformer_weights=None),\n",
       " 'logisticregression': LogisticRegression(C=1.0, class_weight=None, dual=False, fit_intercept=True,\n",
       "           intercept_scaling=1, max_iter=100, multi_class='ovr', n_jobs=1,\n",
       "           penalty='l2', random_state=None, solver='liblinear', tol=0.0001,\n",
       "           verbose=0, warm_start=False)}"
      ]
     },
     "execution_count": 86,
     "metadata": {},
     "output_type": "execute_result"
    }
   ],
   "source": [
    "pipe_ft.named_steps"
   ]
  },
  {
   "cell_type": "code",
   "execution_count": 87,
   "metadata": {
    "collapsed": false
   },
   "outputs": [],
   "source": [
    "param_grid_ft = {'logisticregression__C':sp.stats.rayleigh(),\n",
    "                 'logisticregression__penalty':['l1', 'l2'],\n",
    "                 'featureunion__pipeline__countvectorizer__min_df':[1,2,3],\n",
    "                 'featureunion__pipeline__countvectorizer__stop_words':[None],\n",
    "                 'featureunion__pipeline__countvectorizer__max_df':sp.stats.uniform(loc=0.1,scale=0.8)}"
   ]
  },
  {
   "cell_type": "code",
   "execution_count": 88,
   "metadata": {
    "collapsed": false
   },
   "outputs": [],
   "source": [
    "rand_ft = RandomizedSearchCV(pipe_ft, param_distributions=param_grid_ft, cv=5, n_iter=30, scoring='log_loss')"
   ]
  },
  {
   "cell_type": "code",
   "execution_count": 89,
   "metadata": {
    "collapsed": false
   },
   "outputs": [
    {
     "name": "stdout",
     "output_type": "stream",
     "text": [
      "CPU times: user 4h 4min, sys: 4min 32s, total: 4h 8min 32s\n",
      "Wall time: 12h 33min 35s\n"
     ]
    },
    {
     "data": {
      "text/plain": [
       "RandomizedSearchCV(cv=5, error_score='raise',\n",
       "          estimator=Pipeline(steps=[('featureunion', FeatureUnion(n_jobs=1,\n",
       "       transformer_list=[('functiontransformer', FunctionTransformer(accept_sparse=False,\n",
       "          func=<function get_new_features at 0x207bfe6a8>, pass_y=False,\n",
       "          validate=False)), ('pipeline', Pipeline(steps=[('functiontransformer', FunctionT...ty='l2', random_state=None, solver='liblinear', tol=0.0001,\n",
       "          verbose=0, warm_start=False))]),\n",
       "          fit_params={}, iid=True, n_iter=30, n_jobs=1,\n",
       "          param_distributions={'featureunion__pipeline__countvectorizer__min_df': [1, 2, 3], 'featureunion__pipeline__countvectorizer__max_df': <scipy.stats._distn_infrastructure.rv_frozen object at 0x1733efcc0>, 'logisticregression__penalty': ['l1', 'l2'], 'logisticregression__C': <scipy.stats._distn_infrastructure.rv_frozen object at 0x11feb3630>, 'featureunion__pipeline__countvectorizer__stop_words': [None]},\n",
       "          pre_dispatch='2*n_jobs', random_state=None, refit=True,\n",
       "          scoring='log_loss', verbose=0)"
      ]
     },
     "execution_count": 89,
     "metadata": {},
     "output_type": "execute_result"
    }
   ],
   "source": [
    "%time rand_ft.fit(train, train.OpenStatus)"
   ]
  },
  {
   "cell_type": "code",
   "execution_count": 90,
   "metadata": {
    "collapsed": false
   },
   "outputs": [
    {
     "name": "stdout",
     "output_type": "stream",
     "text": [
      "-0.52521883304  —  {'featureunion__pipeline__countvectorizer__max_df': 0.7967374734652921, 'featureunion__pipeline__countvectorizer__min_df': 2, 'logisticregression__penalty': 'l2', 'logisticregression__C': 0.95937344250408318, 'featureunion__pipeline__countvectorizer__stop_words': None}\n"
     ]
    }
   ],
   "source": [
    "print(rand_ft.best_score_, ' — ', rand_ft.best_params_)"
   ]
  },
  {
   "cell_type": "code",
   "execution_count": 91,
   "metadata": {
    "collapsed": true
   },
   "outputs": [],
   "source": [
    "test = create_text_feature(test)\n",
    "y_pred_ft = rand_ft.predict_proba(test)[:,1]"
   ]
  },
  {
   "cell_type": "code",
   "execution_count": 92,
   "metadata": {
    "collapsed": true
   },
   "outputs": [],
   "source": [
    "output = pd.DataFrame({'id':test.PostId, 'OpenStatus':y_pred_ft})"
   ]
  },
  {
   "cell_type": "code",
   "execution_count": 93,
   "metadata": {
    "collapsed": true
   },
   "outputs": [],
   "source": [
    "output[['id','OpenStatus']].to_csv('./out/submission.csv', index=False)"
   ]
  },
  {
   "cell_type": "code",
   "execution_count": null,
   "metadata": {
    "collapsed": true
   },
   "outputs": [],
   "source": []
  },
  {
   "cell_type": "code",
   "execution_count": null,
   "metadata": {
    "collapsed": true
   },
   "outputs": [],
   "source": []
  }
 ],
 "metadata": {
  "kernelspec": {
   "display_name": "Python 3",
   "language": "python",
   "name": "python3"
  },
  "language_info": {
   "codemirror_mode": {
    "name": "ipython",
    "version": 3
   },
   "file_extension": ".py",
   "mimetype": "text/x-python",
   "name": "python",
   "nbconvert_exporter": "python",
   "pygments_lexer": "ipython3",
   "version": "3.5.1"
  }
 },
 "nbformat": 4,
 "nbformat_minor": 0
}
